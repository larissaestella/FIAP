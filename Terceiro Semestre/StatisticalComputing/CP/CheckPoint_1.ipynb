{
  "cells": [
    {
      "cell_type": "markdown",
      "metadata": {
        "id": "XQ7NdkhEoo7z"
      },
      "source": [
        "# Checkpoint 1 - Data Science and Statistical Computing\n",
        "Considere os notebooks dados nas últimas aulas, em especial, o que contém o estudo de caso de produtividades de mão de obra na construção civil.\n",
        "Reveja as aulas dadas e as videoaulas recomendadas de lição de casa.\n",
        "Junte um grupo com até 4 integrantes e elabore um \"relatório\" abaixo, mesclando respostas e códigos para os questionamentos à seguir.\n",
        "Entrega via Teams até 03/09 às 09h(2ESPB) e às 11h(2ESPA).\n",
        "**Considere os dados do estudo de caso de construção civil**."
      ]
    },
    {
      "cell_type": "markdown",
      "metadata": {
        "id": "jOqabB0FpPFS"
      },
      "source": [
        "## **Tipos de Variáveis**\n",
        "### 1 - Crie um código que importa os dados e, ao importá-los analise suas colunas comentando sobre o tipo de variável de cada uma.\n",
        "### 2 - Estatística é sobre \"responder perguntas com dados\", se coloque no lugar do gestor da construtora: com esses dados de produtividade de equipes em 3 obras diferentes, que tipo de perguntas poderíamos responder com esses dados (liste as que conseguir pensar)?\n",
        "(obs: sei que usar GPT hoje é \"fácil\" pra responder essa pergunta, mas darei um pontinho a mais pela originalidade e, principalmente, se você escrever com suas próprias palavras e realmente fizer sentido pra você).\n",
        "\n",
        "## **Medidas de Posição Central, Gráfico de Densidade de Frequência e Boxplot**\n",
        "### 3 - Utilize tudo que aprendeu sobre medidas de posição central, gráfico de densidade de frequência e boxplot para responder a seguinte pergunta: Há diferença de produtividade entre obras? Se há, qual obra mais produtiva? Qual menos produtiva? Consegue pensar em motivos para esses comportamentos?\n",
        "(obs: cabe checar a caracterização das obras para pensar nos motivos...)\n",
        "\n",
        "### 4 - Utilize tudo que aprendeu sobre medidas de posição central, gráfico de densidade de frequência e boxplot para responder a seguinte pergunta: Há diferença de produtividade entre blocos (coluna descrição)? Se há, qual bloco é mais produtivo? Qual menos produtivo? Consegue pensar em motivos para esses comportamentos?\n",
        "(obs: aqui, nos motivos, ganha ponto a mais pela busca por referências que sustentem sua argumentação)\n",
        "\n",
        "### 5 - Nas duas respostas anteriores, como estava a relação entre média e mediana? Estavam próximas, afastadas? Comente sobre a possibilidade de outliers no grupo de dados.\n",
        "(obs: utilize o gráfico de boxplot para embasar sua argumentação).\n",
        "\n",
        "### 6 - Qual dos blocos tem produtividade mais previsível? Qual tem produtividade menos previsível?\n",
        "\n",
        "### 7 - Questão Extra (vale até 2 questões erradas acima, só para os fortes): Assista o vídeo https://www.youtube.com/watch?v=KRZzUFTmpwU (a partir do 16min36) e tome notas do que ficar com dúvida e exponha no seu notebook abaixo. Veja se consegue entender e explique com suas palavras como é feito o cálculo de um coeficiente sugerido à tabela de orçamentos da SIURB.\n",
        "\n",
        "### 8 - Questão Extra parte 2 (vale meia questão errada): Comente o que está achando da disciplina, onde não ficou claro algum conceito, onde está mais interessante. Feedback sincero, construtivo. A ideia é sempre trazer o melhor e mais completo conteúdo pra vocês =)"
      ]
    },
    {
      "cell_type": "markdown",
      "metadata": {
        "id": "JcQWuqw5v1hs"
      },
      "source": [
        "-----------------------------------------------------\n",
        "**INTEGRANTES:**\n",
        "\n",
        "\n",
        "\n",
        "\n",
        "\n",
        "**INÍCIO DAS RESPOSTAS**"
      ]
    },
    {
      "cell_type": "code",
      "execution_count": 1,
      "metadata": {
        "id": "MxSxVF9YooXg"
      },
      "outputs": [
        {
          "data": {
            "text/html": [
              "<div>\n",
              "<style scoped>\n",
              "    .dataframe tbody tr th:only-of-type {\n",
              "        vertical-align: middle;\n",
              "    }\n",
              "\n",
              "    .dataframe tbody tr th {\n",
              "        vertical-align: top;\n",
              "    }\n",
              "\n",
              "    .dataframe thead th {\n",
              "        text-align: right;\n",
              "    }\n",
              "</style>\n",
              "<table border=\"1\" class=\"dataframe\">\n",
              "  <thead>\n",
              "    <tr style=\"text-align: right;\">\n",
              "      <th></th>\n",
              "      <th>Unnamed: 0</th>\n",
              "      <th>OBRA</th>\n",
              "      <th>CREATED</th>\n",
              "      <th>DESCRICAO</th>\n",
              "      <th>CLASSE_COMP</th>\n",
              "      <th>INSUMO_ATUAL</th>\n",
              "      <th>IP_D</th>\n",
              "      <th>UNIDADE</th>\n",
              "      <th>COEF_SIURB</th>\n",
              "    </tr>\n",
              "  </thead>\n",
              "  <tbody>\n",
              "    <tr>\n",
              "      <th>0</th>\n",
              "      <td>1</td>\n",
              "      <td>Obra A</td>\n",
              "      <td>2021-02-03 11:17:30</td>\n",
              "      <td>BLOCOS VAZADOS DE CONCRETO APARENTE - 19CM</td>\n",
              "      <td>ALVENARIA BLOCO APARENTE</td>\n",
              "      <td>MAO DE OBRA</td>\n",
              "      <td>0.342452</td>\n",
              "      <td>H/M2</td>\n",
              "      <td>1.9449</td>\n",
              "    </tr>\n",
              "    <tr>\n",
              "      <th>1</th>\n",
              "      <td>2</td>\n",
              "      <td>Obra A</td>\n",
              "      <td>2021-02-03 12:22:30</td>\n",
              "      <td>BLOCOS VAZADOS DE CONCRETO APARENTE - 19CM</td>\n",
              "      <td>ALVENARIA BLOCO APARENTE</td>\n",
              "      <td>MAO DE OBRA</td>\n",
              "      <td>0.724638</td>\n",
              "      <td>H/M2</td>\n",
              "      <td>1.9449</td>\n",
              "    </tr>\n",
              "    <tr>\n",
              "      <th>2</th>\n",
              "      <td>3</td>\n",
              "      <td>Obra A</td>\n",
              "      <td>2021-02-04 11:44:00</td>\n",
              "      <td>BLOCOS VAZADOS DE CONCRETO APARENTE - 19CM</td>\n",
              "      <td>ALVENARIA BLOCO APARENTE</td>\n",
              "      <td>MAO DE OBRA</td>\n",
              "      <td>1.123611</td>\n",
              "      <td>H/M2</td>\n",
              "      <td>1.9449</td>\n",
              "    </tr>\n",
              "    <tr>\n",
              "      <th>3</th>\n",
              "      <td>4</td>\n",
              "      <td>Obra A</td>\n",
              "      <td>2021-02-04 12:23:00</td>\n",
              "      <td>BLOCOS VAZADOS DE CONCRETO APARENTE - 19CM</td>\n",
              "      <td>ALVENARIA BLOCO APARENTE</td>\n",
              "      <td>MAO DE OBRA</td>\n",
              "      <td>2.034783</td>\n",
              "      <td>H/M2</td>\n",
              "      <td>1.9449</td>\n",
              "    </tr>\n",
              "    <tr>\n",
              "      <th>4</th>\n",
              "      <td>5</td>\n",
              "      <td>Obra A</td>\n",
              "      <td>2021-02-04 12:40:00</td>\n",
              "      <td>BLOCOS VAZADOS DE CONCRETO APARENTE - 19CM</td>\n",
              "      <td>ALVENARIA BLOCO APARENTE</td>\n",
              "      <td>MAO DE OBRA</td>\n",
              "      <td>1.037037</td>\n",
              "      <td>H/M2</td>\n",
              "      <td>1.9449</td>\n",
              "    </tr>\n",
              "  </tbody>\n",
              "</table>\n",
              "</div>"
            ],
            "text/plain": [
              "   Unnamed: 0    OBRA              CREATED  \\\n",
              "0           1  Obra A  2021-02-03 11:17:30   \n",
              "1           2  Obra A  2021-02-03 12:22:30   \n",
              "2           3  Obra A  2021-02-04 11:44:00   \n",
              "3           4  Obra A  2021-02-04 12:23:00   \n",
              "4           5  Obra A  2021-02-04 12:40:00   \n",
              "\n",
              "                                    DESCRICAO               CLASSE_COMP  \\\n",
              "0  BLOCOS VAZADOS DE CONCRETO APARENTE - 19CM  ALVENARIA BLOCO APARENTE   \n",
              "1  BLOCOS VAZADOS DE CONCRETO APARENTE - 19CM  ALVENARIA BLOCO APARENTE   \n",
              "2  BLOCOS VAZADOS DE CONCRETO APARENTE - 19CM  ALVENARIA BLOCO APARENTE   \n",
              "3  BLOCOS VAZADOS DE CONCRETO APARENTE - 19CM  ALVENARIA BLOCO APARENTE   \n",
              "4  BLOCOS VAZADOS DE CONCRETO APARENTE - 19CM  ALVENARIA BLOCO APARENTE   \n",
              "\n",
              "  INSUMO_ATUAL      IP_D UNIDADE  COEF_SIURB  \n",
              "0  MAO DE OBRA  0.342452    H/M2      1.9449  \n",
              "1  MAO DE OBRA  0.724638    H/M2      1.9449  \n",
              "2  MAO DE OBRA  1.123611    H/M2      1.9449  \n",
              "3  MAO DE OBRA  2.034783    H/M2      1.9449  \n",
              "4  MAO DE OBRA  1.037037    H/M2      1.9449  "
            ]
          },
          "execution_count": 1,
          "metadata": {},
          "output_type": "execute_result"
        }
      ],
      "source": [
        "import pandas as pd\n",
        "df = pd.read_csv('dados_produtividade_construcao.csv')\n",
        "df.head()"
      ]
    }
  ],
  "metadata": {
    "colab": {
      "provenance": []
    },
    "kernelspec": {
      "display_name": "Python 3",
      "name": "python3"
    },
    "language_info": {
      "codemirror_mode": {
        "name": "ipython",
        "version": 3
      },
      "file_extension": ".py",
      "mimetype": "text/x-python",
      "name": "python",
      "nbconvert_exporter": "python",
      "pygments_lexer": "ipython3",
      "version": "3.12.3"
    }
  },
  "nbformat": 4,
  "nbformat_minor": 0
}
