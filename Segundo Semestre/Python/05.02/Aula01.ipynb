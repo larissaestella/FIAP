{
 "cells": [
  {
   "cell_type": "code",
   "execution_count": 3,
   "metadata": {},
   "outputs": [
    {
     "name": "stdout",
     "output_type": "stream",
     "text": [
      "O valor da potência é: 20.0\n"
     ]
    }
   ],
   "source": [
    "v = float(input(\"Digite o valor da tensão:\"))\n",
    "i = float(input(\"Digite o valor da corrente:\"))\n",
    "p = v * i \n",
    "\n",
    "print(\"O valor da potência é:\", p)"
   ]
  },
  {
   "cell_type": "code",
   "execution_count": 4,
   "metadata": {},
   "outputs": [
    {
     "name": "stdout",
     "output_type": "stream",
     "text": [
      "o valor da potencia é: 127\n"
     ]
    }
   ],
   "source": [
    "def calcula_potencia(tensao, corrente):\n",
    "    potencia = tensao * corrente\n",
    "    return potencia\n",
    "\n",
    "tensao = 127\n",
    "corrente = 1\n",
    "\n",
    "resultado = calcula_potencia(tensao, corrente)\n",
    "\n",
    "print(f\"o valor da potencia é: {resultado}\")"
   ]
  },
  {
   "cell_type": "code",
   "execution_count": 5,
   "metadata": {},
   "outputs": [
    {
     "name": "stdout",
     "output_type": "stream",
     "text": [
      "Requirement already satisfied: pandas in c:\\users\\laris\\appdata\\local\\packages\\pythonsoftwarefoundation.python.3.11_qbz5n2kfra8p0\\localcache\\local-packages\\python311\\site-packages (2.1.3)\n",
      "Requirement already satisfied: numpy<2,>=1.23.2 in c:\\users\\laris\\appdata\\local\\packages\\pythonsoftwarefoundation.python.3.11_qbz5n2kfra8p0\\localcache\\local-packages\\python311\\site-packages (from pandas) (1.26.2)\n",
      "Requirement already satisfied: python-dateutil>=2.8.2 in c:\\users\\laris\\appdata\\local\\packages\\pythonsoftwarefoundation.python.3.11_qbz5n2kfra8p0\\localcache\\local-packages\\python311\\site-packages (from pandas) (2.8.2)\n",
      "Requirement already satisfied: pytz>=2020.1 in c:\\users\\laris\\appdata\\local\\packages\\pythonsoftwarefoundation.python.3.11_qbz5n2kfra8p0\\localcache\\local-packages\\python311\\site-packages (from pandas) (2023.3.post1)\n",
      "Requirement already satisfied: tzdata>=2022.1 in c:\\users\\laris\\appdata\\local\\packages\\pythonsoftwarefoundation.python.3.11_qbz5n2kfra8p0\\localcache\\local-packages\\python311\\site-packages (from pandas) (2023.3)\n",
      "Requirement already satisfied: six>=1.5 in c:\\users\\laris\\appdata\\local\\packages\\pythonsoftwarefoundation.python.3.11_qbz5n2kfra8p0\\localcache\\local-packages\\python311\\site-packages (from python-dateutil>=2.8.2->pandas) (1.16.0)\n",
      "Note: you may need to restart the kernel to use updated packages.\n"
     ]
    }
   ],
   "source": [
    "\n",
    "pip install pandas"
   ]
  },
  {
   "cell_type": "code",
   "execution_count": 6,
   "metadata": {},
   "outputs": [],
   "source": [
    "import pandas as pd"
   ]
  },
  {
   "cell_type": "code",
   "execution_count": 7,
   "metadata": {},
   "outputs": [],
   "source": [
    "\n",
    "# Dados \n",
    "\n",
    "dados = {\n",
    "    'Tipo de carro':['Sedan', 'SUV', 'Hatchback', 'Caminhonete', 'Coupé'],\n",
    "    'Tipo de direção':['Hidráulica', 'Elétrica', 'Mecânica', 'Eletrica', 'Hidráulica'],\n",
    "    'Tipo de pneus':['Radial', 'Diagonal', 'Radial', 'Diagonal', 'Radial'],\n",
    "    'Faixa de preço':['Alto', 'Médio', 'Baixo', 'Alto', 'Médio'],\n",
    "    'Potência - CV':[120, 130, 100, 180, 200],\n",
    "    'Velocidade de Cruzeiro':[True, False, True, True, False]\n",
    "}\n",
    "\n",
    "df_carros= pd.DataFrame(dados)"
   ]
  },
  {
   "cell_type": "code",
   "execution_count": 8,
   "metadata": {},
   "outputs": [
    {
     "data": {
      "text/html": [
       "<div>\n",
       "<style scoped>\n",
       "    .dataframe tbody tr th:only-of-type {\n",
       "        vertical-align: middle;\n",
       "    }\n",
       "\n",
       "    .dataframe tbody tr th {\n",
       "        vertical-align: top;\n",
       "    }\n",
       "\n",
       "    .dataframe thead th {\n",
       "        text-align: right;\n",
       "    }\n",
       "</style>\n",
       "<table border=\"1\" class=\"dataframe\">\n",
       "  <thead>\n",
       "    <tr style=\"text-align: right;\">\n",
       "      <th></th>\n",
       "      <th>Tipo de carro</th>\n",
       "      <th>Tipo de direção</th>\n",
       "      <th>Tipo de pneus</th>\n",
       "      <th>Faixa de preço</th>\n",
       "      <th>Potência - CV</th>\n",
       "      <th>Velocidade de Cruzeiro</th>\n",
       "    </tr>\n",
       "  </thead>\n",
       "  <tbody>\n",
       "    <tr>\n",
       "      <th>0</th>\n",
       "      <td>Sedan</td>\n",
       "      <td>Hidráulica</td>\n",
       "      <td>Radial</td>\n",
       "      <td>Alto</td>\n",
       "      <td>120</td>\n",
       "      <td>True</td>\n",
       "    </tr>\n",
       "    <tr>\n",
       "      <th>1</th>\n",
       "      <td>SUV</td>\n",
       "      <td>Elétrica</td>\n",
       "      <td>Diagonal</td>\n",
       "      <td>Médio</td>\n",
       "      <td>130</td>\n",
       "      <td>False</td>\n",
       "    </tr>\n",
       "    <tr>\n",
       "      <th>2</th>\n",
       "      <td>Hatchback</td>\n",
       "      <td>Mecânica</td>\n",
       "      <td>Radial</td>\n",
       "      <td>Baixo</td>\n",
       "      <td>100</td>\n",
       "      <td>True</td>\n",
       "    </tr>\n",
       "    <tr>\n",
       "      <th>3</th>\n",
       "      <td>Caminhonete</td>\n",
       "      <td>Eletrica</td>\n",
       "      <td>Diagonal</td>\n",
       "      <td>Alto</td>\n",
       "      <td>180</td>\n",
       "      <td>True</td>\n",
       "    </tr>\n",
       "    <tr>\n",
       "      <th>4</th>\n",
       "      <td>Coupé</td>\n",
       "      <td>Hidráulica</td>\n",
       "      <td>Radial</td>\n",
       "      <td>Médio</td>\n",
       "      <td>200</td>\n",
       "      <td>False</td>\n",
       "    </tr>\n",
       "  </tbody>\n",
       "</table>\n",
       "</div>"
      ],
      "text/plain": [
       "  Tipo de carro Tipo de direção Tipo de pneus Faixa de preço  Potência - CV  \\\n",
       "0         Sedan      Hidráulica        Radial           Alto            120   \n",
       "1           SUV        Elétrica      Diagonal          Médio            130   \n",
       "2     Hatchback        Mecânica        Radial          Baixo            100   \n",
       "3   Caminhonete        Eletrica      Diagonal           Alto            180   \n",
       "4         Coupé      Hidráulica        Radial          Médio            200   \n",
       "\n",
       "   Velocidade de Cruzeiro  \n",
       "0                    True  \n",
       "1                   False  \n",
       "2                    True  \n",
       "3                    True  \n",
       "4                   False  "
      ]
     },
     "execution_count": 8,
     "metadata": {},
     "output_type": "execute_result"
    }
   ],
   "source": [
    "\n",
    "df_carros"
   ]
  },
  {
   "cell_type": "code",
   "execution_count": 9,
   "metadata": {},
   "outputs": [
    {
     "name": "stdout",
     "output_type": "stream",
     "text": [
      "<class 'pandas.core.frame.DataFrame'>\n",
      "RangeIndex: 5 entries, 0 to 4\n",
      "Data columns (total 6 columns):\n",
      " #   Column                  Non-Null Count  Dtype \n",
      "---  ------                  --------------  ----- \n",
      " 0   Tipo de carro           5 non-null      object\n",
      " 1   Tipo de direção         5 non-null      object\n",
      " 2   Tipo de pneus           5 non-null      object\n",
      " 3   Faixa de preço          5 non-null      object\n",
      " 4   Potência - CV           5 non-null      int64 \n",
      " 5   Velocidade de Cruzeiro  5 non-null      bool  \n",
      "dtypes: bool(1), int64(1), object(4)\n",
      "memory usage: 337.0+ bytes\n"
     ]
    }
   ],
   "source": [
    "\n",
    "df_carros.info()"
   ]
  },
  {
   "cell_type": "code",
   "execution_count": 10,
   "metadata": {},
   "outputs": [
    {
     "data": {
      "text/html": [
       "<div>\n",
       "<style scoped>\n",
       "    .dataframe tbody tr th:only-of-type {\n",
       "        vertical-align: middle;\n",
       "    }\n",
       "\n",
       "    .dataframe tbody tr th {\n",
       "        vertical-align: top;\n",
       "    }\n",
       "\n",
       "    .dataframe thead th {\n",
       "        text-align: right;\n",
       "    }\n",
       "</style>\n",
       "<table border=\"1\" class=\"dataframe\">\n",
       "  <thead>\n",
       "    <tr style=\"text-align: right;\">\n",
       "      <th></th>\n",
       "      <th>Tipo de carro</th>\n",
       "      <th>Tipo de direção</th>\n",
       "      <th>Tipo de pneus</th>\n",
       "      <th>Faixa de preço</th>\n",
       "      <th>Potência - CV</th>\n",
       "      <th>Velocidade de Cruzeiro</th>\n",
       "    </tr>\n",
       "  </thead>\n",
       "  <tbody>\n",
       "    <tr>\n",
       "      <th>0</th>\n",
       "      <td>Sedan</td>\n",
       "      <td>Hidráulica</td>\n",
       "      <td>Radial</td>\n",
       "      <td>Alto</td>\n",
       "      <td>120</td>\n",
       "      <td>True</td>\n",
       "    </tr>\n",
       "    <tr>\n",
       "      <th>1</th>\n",
       "      <td>SUV</td>\n",
       "      <td>Elétrica</td>\n",
       "      <td>Diagonal</td>\n",
       "      <td>Médio</td>\n",
       "      <td>130</td>\n",
       "      <td>False</td>\n",
       "    </tr>\n",
       "  </tbody>\n",
       "</table>\n",
       "</div>"
      ],
      "text/plain": [
       "  Tipo de carro Tipo de direção Tipo de pneus Faixa de preço  Potência - CV  \\\n",
       "0         Sedan      Hidráulica        Radial           Alto            120   \n",
       "1           SUV        Elétrica      Diagonal          Médio            130   \n",
       "\n",
       "   Velocidade de Cruzeiro  \n",
       "0                    True  \n",
       "1                   False  "
      ]
     },
     "execution_count": 10,
     "metadata": {},
     "output_type": "execute_result"
    }
   ],
   "source": [
    "\n",
    "df_carros.head(2)"
   ]
  },
  {
   "cell_type": "code",
   "execution_count": 11,
   "metadata": {},
   "outputs": [
    {
     "data": {
      "text/plain": [
       "0          Sedan\n",
       "1            SUV\n",
       "2      Hatchback\n",
       "3    Caminhonete\n",
       "4          Coupé\n",
       "Name: Tipo de carro, dtype: object"
      ]
     },
     "execution_count": 11,
     "metadata": {},
     "output_type": "execute_result"
    }
   ],
   "source": [
    "df_carros['Tipo de carro']"
   ]
  },
  {
   "cell_type": "code",
   "execution_count": 12,
   "metadata": {},
   "outputs": [
    {
     "name": "stdout",
     "output_type": "stream",
     "text": [
      "O valor minimo é: 100\n",
      "O valor máximo é: 200\n",
      "O valor média é: 146.0\n",
      "O valor mediana é: 130.0\n"
     ]
    }
   ],
   "source": [
    "\n",
    "print('O valor minimo é:', df_carros['Potência - CV'].min())\n",
    "print('O valor máximo é:', df_carros['Potência - CV'].max())\n",
    "print('O valor média é:', df_carros['Potência - CV'].mean())\n",
    "print('O valor mediana é:', df_carros['Potência - CV'].median())"
   ]
  },
  {
   "cell_type": "code",
   "execution_count": 13,
   "metadata": {},
   "outputs": [
    {
     "data": {
      "text/html": [
       "<div>\n",
       "<style scoped>\n",
       "    .dataframe tbody tr th:only-of-type {\n",
       "        vertical-align: middle;\n",
       "    }\n",
       "\n",
       "    .dataframe tbody tr th {\n",
       "        vertical-align: top;\n",
       "    }\n",
       "\n",
       "    .dataframe thead th {\n",
       "        text-align: right;\n",
       "    }\n",
       "</style>\n",
       "<table border=\"1\" class=\"dataframe\">\n",
       "  <thead>\n",
       "    <tr style=\"text-align: right;\">\n",
       "      <th></th>\n",
       "      <th>Tipo de carro</th>\n",
       "      <th>Tipo de direção</th>\n",
       "      <th>Tipo de pneus</th>\n",
       "      <th>Faixa de preço</th>\n",
       "      <th>Potência - CV</th>\n",
       "      <th>Velocidade de Cruzeiro</th>\n",
       "    </tr>\n",
       "  </thead>\n",
       "  <tbody>\n",
       "    <tr>\n",
       "      <th>0</th>\n",
       "      <td>Sedan</td>\n",
       "      <td>Hidráulica</td>\n",
       "      <td>Radial</td>\n",
       "      <td>Alto</td>\n",
       "      <td>120</td>\n",
       "      <td>True</td>\n",
       "    </tr>\n",
       "  </tbody>\n",
       "</table>\n",
       "</div>"
      ],
      "text/plain": [
       "  Tipo de carro Tipo de direção Tipo de pneus Faixa de preço  Potência - CV  \\\n",
       "0         Sedan      Hidráulica        Radial           Alto            120   \n",
       "\n",
       "   Velocidade de Cruzeiro  \n",
       "0                    True  "
      ]
     },
     "execution_count": 13,
     "metadata": {},
     "output_type": "execute_result"
    }
   ],
   "source": [
    "# Filtragem por valor\n",
    "\n",
    "def filtra_por_valor(df_carros, coluna, valor):\n",
    "    return df_carros[df_carros[coluna] == valor]\n",
    "\n",
    "filtra_por_valor(df_carros, 'Tipo de carro', 'Sedan')"
   ]
  },
  {
   "cell_type": "code",
   "execution_count": 14,
   "metadata": {},
   "outputs": [
    {
     "name": "stdout",
     "output_type": "stream",
     "text": [
      "Dados para Sedan:\n",
      "  Tipo de carro Tipo de direção Tipo de pneus Faixa de preço  Potência - CV  \\\n",
      "0         Sedan      Hidráulica        Radial           Alto            120   \n",
      "\n",
      "   Velocidade de Cruzeiro  \n",
      "0                    True  \n",
      "\n",
      "Dados para SUV:\n",
      "  Tipo de carro Tipo de direção Tipo de pneus Faixa de preço  Potência - CV  \\\n",
      "1           SUV        Elétrica      Diagonal          Médio            130   \n",
      "\n",
      "   Velocidade de Cruzeiro  \n",
      "1                   False  \n",
      "\n"
     ]
    }
   ],
   "source": [
    "\n",
    "carro_desejado = ['Sedan', 'SUV']\n",
    "\n",
    "for carro in carro_desejado:\n",
    "    dados = df_carros.loc[df_carros['Tipo de carro'] == carro]\n",
    "    print(f'Dados para {carro}:\\n{dados}\\n')"
   ]
  }
 ],
 "metadata": {
  "kernelspec": {
   "display_name": "Python 3",
   "language": "python",
   "name": "python3"
  },
  "language_info": {
   "codemirror_mode": {
    "name": "ipython",
    "version": 3
   },
   "file_extension": ".py",
   "mimetype": "text/x-python",
   "name": "python",
   "nbconvert_exporter": "python",
   "pygments_lexer": "ipython3",
   "version": "3.11.8"
  }
 },
 "nbformat": 4,
 "nbformat_minor": 2
}
