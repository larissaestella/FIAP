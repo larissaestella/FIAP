{
 "cells": [
  {
   "cell_type": "code",
   "execution_count": 1,
   "metadata": {},
   "outputs": [
    {
     "name": "stdout",
     "output_type": "stream",
     "text": [
      "1. Adicionar novo item\n",
      "2. Procurar item\n",
      "3. Listar todos os itens\n",
      "4. Sair\n",
      "1. Adicionar novo item\n",
      "2. Procurar item\n",
      "3. Listar todos os itens\n",
      "4. Sair\n",
      "O preço do item book é 88.0\n",
      "1. Adicionar novo item\n",
      "2. Procurar item\n",
      "3. Listar todos os itens\n",
      "4. Sair\n",
      "Encerrando o programa.\n"
     ]
    }
   ],
   "source": [
    "def menu():\n",
    "   print(\"1. Adicionar novo item\")\n",
    "   print(\"2. Procurar item\")\n",
    "   print(\"3. Listar todos os itens\")\n",
    "   print(\"4. Sair\")\n",
    "def adicionar_item(dicionario):\n",
    "   nome = input(\"Digite o nome do item: \")\n",
    "   preco = float(input(\"Digite o preço do item: \"))\n",
    "   dicionario[nome] = preco\n",
    "def procurar_item(dicionario):\n",
    "   nome = input(\"Digite o nome do item a ser procurado: \")\n",
    "   if nome in dicionario:\n",
    "       print(f\"O preço do item {nome} é {dicionario[nome]}\")\n",
    "   else:\n",
    "       print(\"Item não encontrado.\")\n",
    "def listar_itens(dicionario):\n",
    "   print(\"Lista de todos os itens:\")\n",
    "   for nome, preco in dicionario.items():\n",
    "       print(f\"{nome}: R${preco}\")\n",
    "def main():\n",
    "   itens = {}\n",
    "   while True:\n",
    "       menu()\n",
    "       opcao = input(\"Escolha uma opção: \")\n",
    "       if opcao == '1':\n",
    "           adicionar_item(itens)\n",
    "       elif opcao == '2':\n",
    "           procurar_item(itens)\n",
    "       elif opcao == '3':\n",
    "           listar_itens(itens)\n",
    "       elif opcao == '4':\n",
    "           print(\"Encerrando o programa.\")\n",
    "           break\n",
    "       else:\n",
    "           print(\"Opção inválida. Tente novamente.\")\n",
    "if __name__ == \"__main__\":\n",
    "   main()"
   ]
  }
 ],
 "metadata": {
  "kernelspec": {
   "display_name": "Python 3",
   "language": "python",
   "name": "python3"
  },
  "language_info": {
   "codemirror_mode": {
    "name": "ipython",
    "version": 3
   },
   "file_extension": ".py",
   "mimetype": "text/x-python",
   "name": "python",
   "nbconvert_exporter": "python",
   "pygments_lexer": "ipython3",
   "version": "3.11.4"
  },
  "orig_nbformat": 4
 },
 "nbformat": 4,
 "nbformat_minor": 2
}
