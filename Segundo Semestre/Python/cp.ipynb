{
 "cells": [
  {
   "attachments": {},
   "cell_type": "markdown",
   "metadata": {},
   "source": [
    "# Exercicio 1\n"
   ]
  },
  {
   "cell_type": "code",
   "execution_count": 2,
   "metadata": {},
   "outputs": [
    {
     "name": "stdout",
     "output_type": "stream",
     "text": [
      "('Chevrolet', 'Fiat', 'Volvo', 'Audi', 'Mercedes', 'Toyota', 'Mitsubishi', 'Ford')\n"
     ]
    }
   ],
   "source": [
    "marca_carros = ('Chevrolet', 'Fiat', 'Honda', 'Audi', 'Mercedes', 'Toyota')\n",
    "\n",
    "marca_carros_modificadas = list(marca_carros)  \n",
    "marca_carros_modificadas[2] = 'Volvo'  \n",
    "marca_carros_modificadas = tuple(marca_carros_modificadas)  \n",
    "\n",
    "nova_tupla = marca_carros_modificadas + ('Mitsubishi', 'Ford')\n",
    "\n",
    "tupla_carros = nova_tupla\n",
    "\n",
    "print(tupla_carros)"
   ]
  },
  {
   "attachments": {},
   "cell_type": "markdown",
   "metadata": {},
   "source": [
    "# Exercicio 2\n"
   ]
  },
  {
   "cell_type": "code",
   "execution_count": 8,
   "metadata": {},
   "outputs": [
    {
     "name": "stdout",
     "output_type": "stream",
     "text": [
      "A soma do quadrado do número do RA é: 196\n"
     ]
    }
   ],
   "source": [
    "numeros_ra = [5, 5, 2, 6, 9, 5]\n",
    "\n",
    "def soma_ra(numeros):\n",
    "    soma = sum(num ** 2 for num in numeros)\n",
    "    return soma\n",
    "resultado = soma_ra(numeros_ra)\n",
    "print(\"A soma do quadrado do número do RA é:\", resultado)\n"
   ]
  },
  {
   "attachments": {},
   "cell_type": "markdown",
   "metadata": {},
   "source": [
    "# Exercicio 3\n"
   ]
  },
  {
   "cell_type": "code",
   "execution_count": 15,
   "metadata": {},
   "outputs": [
    {
     "name": "stdout",
     "output_type": "stream",
     "text": [
      "O nome completo é:  Larissa Estella\n"
     ]
    }
   ],
   "source": [
    "primeiro_nome = str(input(\"Digite seu primeiro nome: \"))\n",
    "segundo_nome = str(input(\"Digite seu segundo nome: \"))\n",
    "\n",
    "def juncao_nomes(primeiro_nome, segundo_nome):\n",
    "    nome_completo = primeiro_nome[0].upper() + primeiro_nome[1:] + \" \" + segundo_nome[0].upper() + segundo_nome[1:]\n",
    "    return nome_completo\n",
    "\n",
    "nome_completo = juncao_nomes(primeiro_nome, segundo_nome)\n",
    "print(\"O nome completo é: \", nome_completo)"
   ]
  },
  {
   "attachments": {},
   "cell_type": "markdown",
   "metadata": {},
   "source": [
    "# Exercicio 4"
   ]
  },
  {
   "cell_type": "code",
   "execution_count": null,
   "metadata": {},
   "outputs": [],
   "source": [
    "dados = {\n",
    "    'Carros': ['Chevrolet', 'Fiat', 'Honda', 'Audi', 'Mercedez', 'Toyota'],\n",
    "    'Vendas': [2000, 1300, 2500, 900, 832, 1500]\n",
    "}\n",
    "\n",
    "df = pd.DataFrame(dados)\n",
    "df\n",
    "\n",
    "quantidade_minima = df['Vendas'].min()\n",
    "quantidade_maxima = df['Vendas'].max()\n",
    "media = df['Vendas'].mean()\n",
    "soma = df['Vendas'].sum()\n",
    "\n",
    "print(\"A quantidade mínima de vendas é:\", quantidade_minima)\n",
    "print(\"A quantidade máxima de vendas é:\", quantidade_maxima)\n",
    "print(\"A média de vendas é:\", media)\n",
    "print(\"A soma de vendas é:\",soma)"
   ]
  },
  {
   "cell_type": "markdown",
   "metadata": {},
   "source": []
  },
  {
   "attachments": {},
   "cell_type": "markdown",
   "metadata": {},
   "source": [
    "# Exercicio 4"
   ]
  },
  {
   "cell_type": "code",
   "execution_count": null,
   "metadata": {},
   "outputs": [],
   "source": [
    "temperatura = (28, 30, 32, 29, 27, 26, 25, 26, 28, 29, 35, 31, 32, 33, 34, 33, 31, 30, 29, 28, 27, 26, 25, 26, 27, 28, 38, 31, 32, 33)\n",
    "\n",
    "serie_temperatura = pd.Series "
   ]
  }
 ],
 "metadata": {
  "kernelspec": {
   "display_name": "Python 3",
   "language": "python",
   "name": "python3"
  },
  "language_info": {
   "codemirror_mode": {
    "name": "ipython",
    "version": 3
   },
   "file_extension": ".py",
   "mimetype": "text/x-python",
   "name": "python",
   "nbconvert_exporter": "python",
   "pygments_lexer": "ipython3",
   "version": "3.11.4"
  },
  "orig_nbformat": 4
 },
 "nbformat": 4,
 "nbformat_minor": 2
}
