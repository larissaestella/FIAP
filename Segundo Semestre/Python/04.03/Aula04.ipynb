{
 "cells": [
  {
   "attachments": {},
   "cell_type": "markdown",
   "metadata": {},
   "source": [
    "# Exercícios NumPy - Estrutura Unidimensional"
   ]
  },
  {
   "cell_type": "code",
   "execution_count": 133,
   "metadata": {},
   "outputs": [
    {
     "name": "stdout",
     "output_type": "stream",
     "text": [
      "Requirement already satisfied: numpy in c:\\python311\\lib\\site-packages (1.26.4)\n",
      "Note: you may need to restart the kernel to use updated packages.\n"
     ]
    },
    {
     "name": "stderr",
     "output_type": "stream",
     "text": [
      "\n",
      "[notice] A new release of pip is available: 23.1.2 -> 24.0\n",
      "[notice] To update, run: python.exe -m pip install --upgrade pip\n"
     ]
    }
   ],
   "source": [
    "pip install numpy\n"
   ]
  },
  {
   "cell_type": "code",
   "execution_count": 134,
   "metadata": {},
   "outputs": [
    {
     "name": "stdout",
     "output_type": "stream",
     "text": [
      "Requirement already satisfied: pandas in c:\\python311\\lib\\site-packages (2.2.1)\n",
      "Requirement already satisfied: numpy<2,>=1.23.2 in c:\\python311\\lib\\site-packages (from pandas) (1.26.4)\n",
      "Requirement already satisfied: python-dateutil>=2.8.2 in c:\\python311\\lib\\site-packages (from pandas) (2.8.2)\n",
      "Requirement already satisfied: pytz>=2020.1 in c:\\python311\\lib\\site-packages (from pandas) (2024.1)\n",
      "Requirement already satisfied: tzdata>=2022.7 in c:\\python311\\lib\\site-packages (from pandas) (2024.1)\n",
      "Requirement already satisfied: six>=1.5 in c:\\python311\\lib\\site-packages (from python-dateutil>=2.8.2->pandas) (1.16.0)\n",
      "Note: you may need to restart the kernel to use updated packages.\n"
     ]
    },
    {
     "name": "stderr",
     "output_type": "stream",
     "text": [
      "\n",
      "[notice] A new release of pip is available: 23.1.2 -> 24.0\n",
      "[notice] To update, run: python.exe -m pip install --upgrade pip\n"
     ]
    }
   ],
   "source": [
    "pip install pandas"
   ]
  },
  {
   "cell_type": "code",
   "execution_count": 135,
   "metadata": {},
   "outputs": [],
   "source": [
    "import numpy as np \n",
    "import pandas as pd\n",
    "\n"
   ]
  },
  {
   "cell_type": "code",
   "execution_count": 136,
   "metadata": {},
   "outputs": [
    {
     "data": {
      "text/plain": [
       "array([ 1,  2,  3,  4,  5,  6,  7,  8,  9, 10])"
      ]
     },
     "execution_count": 136,
     "metadata": {},
     "output_type": "execute_result"
    }
   ],
   "source": [
    "# 1. Exercicio de Criação\n",
    "\n",
    "array = np.array([1,2,3,4,5,6,7,8,9,10])\n",
    "array"
   ]
  },
  {
   "cell_type": "code",
   "execution_count": 137,
   "metadata": {},
   "outputs": [],
   "source": [
    "lista = [1,2,3,4,5,6,7,8,9,10]\n",
    "\n",
    "tupla = (1,2,3,4,5,6,7,8,9,10)\n",
    "\n",
    "df_series = pd.Series(tupla)"
   ]
  },
  {
   "cell_type": "code",
   "execution_count": 138,
   "metadata": {},
   "outputs": [
    {
     "data": {
      "text/plain": [
       "0     1\n",
       "1     2\n",
       "2     3\n",
       "3     4\n",
       "4     5\n",
       "5     6\n",
       "6     7\n",
       "7     8\n",
       "8     9\n",
       "9    10\n",
       "dtype: int64"
      ]
     },
     "execution_count": 138,
     "metadata": {},
     "output_type": "execute_result"
    }
   ],
   "source": [
    "df_series\n"
   ]
  },
  {
   "cell_type": "code",
   "execution_count": 139,
   "metadata": {},
   "outputs": [
    {
     "name": "stdout",
     "output_type": "stream",
     "text": [
      "<class 'pandas.core.series.Series'>\n",
      "RangeIndex: 10 entries, 0 to 9\n",
      "Series name: None\n",
      "Non-Null Count  Dtype\n",
      "--------------  -----\n",
      "10 non-null     int64\n",
      "dtypes: int64(1)\n",
      "memory usage: 212.0 bytes\n"
     ]
    }
   ],
   "source": [
    "df_series.info()"
   ]
  },
  {
   "cell_type": "code",
   "execution_count": 140,
   "metadata": {},
   "outputs": [
    {
     "name": "stdout",
     "output_type": "stream",
     "text": [
      "O quarto elemento do array é: 4\n"
     ]
    }
   ],
   "source": [
    "# 3. Exercicio de Acesso \n",
    "array1to10 = np.array([1,2,3,4,5,6,7,8,9,10])\n",
    "quarto_elemento = array1to10[3]\n",
    "print(\"O quarto elemento do array é:\", quarto_elemento)"
   ]
  },
  {
   "cell_type": "code",
   "execution_count": 141,
   "metadata": {},
   "outputs": [
    {
     "name": "stdout",
     "output_type": "stream",
     "text": [
      "A soma dos arrays é: [ 7  9 11 13 15]\n"
     ]
    }
   ],
   "source": [
    "# 3. Exercicio de Soma\n",
    "\n",
    "array1to5 = np.array([1, 2, 3, 4, 5])\n",
    "array6to10 = np.array([6, 7, 8, 9, 10])\n",
    "soma_arrays = array1to5 + array6to10\n",
    "print(\"A soma dos arrays é:\", soma_arrays)\n",
    "\n"
   ]
  },
  {
   "cell_type": "code",
   "execution_count": 142,
   "metadata": {},
   "outputs": [
    {
     "name": "stdout",
     "output_type": "stream",
     "text": [
      "Valores maiores que 5: [ 6  7  8  9 10]\n"
     ]
    }
   ],
   "source": [
    "# 4. Exercicio de Filtragem\n",
    "array1to10 = np.array([1,2,3,4,5,6,7,8,9,10])\n",
    "array_maiores_que_5 = array1to10[array1to10>5]\n",
    "print(\"Valores maiores que 5:\", array_maiores_que_5)"
   ]
  },
  {
   "cell_type": "code",
   "execution_count": 143,
   "metadata": {},
   "outputs": [
    {
     "name": "stdout",
     "output_type": "stream",
     "text": [
      "Média: 5.5\n",
      "Desvio padrão: 2.8722813232690143\n"
     ]
    }
   ],
   "source": [
    "# 5. Exercício de Estatísticas:\n",
    "\n",
    "print(\"Média:\", array.mean())\n",
    "print(\"Desvio padrão:\", array.std())"
   ]
  },
  {
   "cell_type": "code",
   "execution_count": 144,
   "metadata": {},
   "outputs": [
    {
     "name": "stdout",
     "output_type": "stream",
     "text": [
      "Concatenação:\n",
      "[ 1  2  3  4  5  6  7  8  9 10 10  9  8  7  6  5  4  3  2  1]\n"
     ]
    }
   ],
   "source": [
    "# 6. Exercício de Concatenação:\n",
    "\n",
    "arr_concat = np.concatenate([arr1, arr2])\n",
    "print(\"Concatenação:\")\n",
    "print(arr_concat)\n"
   ]
  },
  {
   "cell_type": "code",
   "execution_count": 145,
   "metadata": {},
   "outputs": [
    {
     "name": "stdout",
     "output_type": "stream",
     "text": [
      "Resultado da Subtração: [-9 -7 -5 -3 -1  1  3  5  7  9]\n"
     ]
    }
   ],
   "source": [
    "# 7. Exercício de Subtração:\n",
    "\n",
    "arr1 = np.arange(1, 11)\n",
    "arr2 = np.arange(10, 0, -1)\n",
    "resultado = arr1 - arr2\n",
    "print(\"Resultado da Subtração:\", resultado)"
   ]
  },
  {
   "cell_type": "code",
   "execution_count": 146,
   "metadata": {},
   "outputs": [
    {
     "name": "stdout",
     "output_type": "stream",
     "text": [
      "[10  9  8  7  6  5  4  3  2  1]\n"
     ]
    }
   ],
   "source": [
    "# Exercício de Ordenação:\n",
    "\n",
    "arr1 = np.arange(1, 11)\n",
    "arr_ordenado = np.sort(arr1)[::-1]\n",
    "print(arr_ordenado)"
   ]
  },
  {
   "cell_type": "code",
   "execution_count": 147,
   "metadata": {},
   "outputs": [
    {
     "name": "stdout",
     "output_type": "stream",
     "text": [
      "Valores Duplicados: True\n"
     ]
    }
   ],
   "source": [
    "# Exercício de Verificação de Valores Únicos:\n",
    "\n",
    "arr = np.array([0, 4, 2, 6, 5, 9, 6])\n",
    "print(\"Valores Duplicados:\", np.unique(arr).size != arr.size)"
   ]
  },
  {
   "cell_type": "code",
   "execution_count": 148,
   "metadata": {},
   "outputs": [
    {
     "name": "stdout",
     "output_type": "stream",
     "text": [
      "Slicing do terceiro ao sétimo elemento:\n",
      "[2 6 5 9 6]\n"
     ]
    }
   ],
   "source": [
    "# Exercício de Slicing:\n",
    "\n",
    "print(\"Slicing do terceiro ao sétimo elemento:\")\n",
    "print(arr[2:7])"
   ]
  },
  {
   "attachments": {},
   "cell_type": "markdown",
   "metadata": {},
   "source": [
    "# Aula 04"
   ]
  },
  {
   "cell_type": "code",
   "execution_count": 149,
   "metadata": {},
   "outputs": [
    {
     "name": "stdout",
     "output_type": "stream",
     "text": [
      "Requirement already satisfied: matplotlib in c:\\python311\\lib\\site-packages (3.8.3)\n",
      "Requirement already satisfied: contourpy>=1.0.1 in c:\\python311\\lib\\site-packages (from matplotlib) (1.2.0)\n",
      "Requirement already satisfied: cycler>=0.10 in c:\\python311\\lib\\site-packages (from matplotlib) (0.12.1)\n",
      "Requirement already satisfied: fonttools>=4.22.0 in c:\\python311\\lib\\site-packages (from matplotlib) (4.49.0)\n",
      "Requirement already satisfied: kiwisolver>=1.3.1 in c:\\python311\\lib\\site-packages (from matplotlib) (1.4.5)\n",
      "Requirement already satisfied: numpy<2,>=1.21 in c:\\python311\\lib\\site-packages (from matplotlib) (1.26.4)\n",
      "Requirement already satisfied: packaging>=20.0 in c:\\python311\\lib\\site-packages (from matplotlib) (23.1)\n",
      "Requirement already satisfied: pillow>=8 in c:\\python311\\lib\\site-packages (from matplotlib) (10.2.0)\n",
      "Requirement already satisfied: pyparsing>=2.3.1 in c:\\python311\\lib\\site-packages (from matplotlib) (3.1.1)\n",
      "Requirement already satisfied: python-dateutil>=2.7 in c:\\python311\\lib\\site-packages (from matplotlib) (2.8.2)\n",
      "Requirement already satisfied: six>=1.5 in c:\\python311\\lib\\site-packages (from python-dateutil>=2.7->matplotlib) (1.16.0)\n",
      "Note: you may need to restart the kernel to use updated packages.\n"
     ]
    },
    {
     "name": "stderr",
     "output_type": "stream",
     "text": [
      "\n",
      "[notice] A new release of pip is available: 23.1.2 -> 24.0\n",
      "[notice] To update, run: python.exe -m pip install --upgrade pip\n"
     ]
    }
   ],
   "source": [
    "pip install matplotlib"
   ]
  },
  {
   "cell_type": "code",
   "execution_count": 150,
   "metadata": {},
   "outputs": [],
   "source": [
    "# arr = np.array([0, 4, 5 ,6, 9, 6])\n",
    "\n",
    "# valores_duplicados = "
   ]
  },
  {
   "cell_type": "code",
   "execution_count": 151,
   "metadata": {},
   "outputs": [],
   "source": [
    "# data = {'Name':['Tom', 'nick', 'krish', 'jack'],\n",
    "#         'Age':[20, 21, 19, 18]}\n",
    "\n",
    "# df = pd.DataFrame(data)\n",
    "\n",
    "# df"
   ]
  },
  {
   "cell_type": "code",
   "execution_count": 152,
   "metadata": {},
   "outputs": [],
   "source": [
    "# notas_alunos = {\n",
    "#     'João': {\"matemática\": 90, \"português\": 85, \"ciências\": 88},\n",
    "#     'Maria': {\"matemática\": 95, \"português\": 92, \"ciências\": 89},\n",
    "#     'Pedro': {\"matemática\": 80, \"português\": 75, \"ciências\": 82}\n",
    "# }"
   ]
  },
  {
   "cell_type": "code",
   "execution_count": 153,
   "metadata": {},
   "outputs": [],
   "source": [
    "# notas_alunos[\"Ana\"] = {\"matemática\": 88, \"português\": 91, \"ciências\": 85}"
   ]
  },
  {
   "cell_type": "code",
   "execution_count": 154,
   "metadata": {},
   "outputs": [],
   "source": [
    "# Criando dicionários em Python\n",
    "\n",
    "# Exemplo 07\n",
    "\n",
    "# df.to_cvs('exemplo.css')\n",
    "# df.to_excel('exemplo.xlsx')"
   ]
  },
  {
   "cell_type": "code",
   "execution_count": 155,
   "metadata": {},
   "outputs": [],
   "source": [
    "# df.to_excel('exemplo.xlsx')"
   ]
  },
  {
   "cell_type": "code",
   "execution_count": 156,
   "metadata": {},
   "outputs": [
    {
     "data": {
      "text/html": [
       "<div>\n",
       "<style scoped>\n",
       "    .dataframe tbody tr th:only-of-type {\n",
       "        vertical-align: middle;\n",
       "    }\n",
       "\n",
       "    .dataframe tbody tr th {\n",
       "        vertical-align: top;\n",
       "    }\n",
       "\n",
       "    .dataframe thead th {\n",
       "        text-align: right;\n",
       "    }\n",
       "</style>\n",
       "<table border=\"1\" class=\"dataframe\">\n",
       "  <thead>\n",
       "    <tr style=\"text-align: right;\">\n",
       "      <th></th>\n",
       "      <th>Produto</th>\n",
       "      <th>Mês</th>\n",
       "      <th>Vendas</th>\n",
       "    </tr>\n",
       "  </thead>\n",
       "  <tbody>\n",
       "    <tr>\n",
       "      <th>0</th>\n",
       "      <td>celular</td>\n",
       "      <td>01-01-2023</td>\n",
       "      <td>150</td>\n",
       "    </tr>\n",
       "    <tr>\n",
       "      <th>1</th>\n",
       "      <td>celular</td>\n",
       "      <td>01-02-2023</td>\n",
       "      <td>180</td>\n",
       "    </tr>\n",
       "    <tr>\n",
       "      <th>2</th>\n",
       "      <td>celular</td>\n",
       "      <td>01-03-2023</td>\n",
       "      <td>200</td>\n",
       "    </tr>\n",
       "    <tr>\n",
       "      <th>3</th>\n",
       "      <td>tablet</td>\n",
       "      <td>01-01-2023</td>\n",
       "      <td>100</td>\n",
       "    </tr>\n",
       "    <tr>\n",
       "      <th>4</th>\n",
       "      <td>tablet</td>\n",
       "      <td>01-02-2023</td>\n",
       "      <td>120</td>\n",
       "    </tr>\n",
       "    <tr>\n",
       "      <th>5</th>\n",
       "      <td>tablet</td>\n",
       "      <td>01-03-2023</td>\n",
       "      <td>130</td>\n",
       "    </tr>\n",
       "    <tr>\n",
       "      <th>6</th>\n",
       "      <td>notebook</td>\n",
       "      <td>01-01-2023</td>\n",
       "      <td>80</td>\n",
       "    </tr>\n",
       "    <tr>\n",
       "      <th>7</th>\n",
       "      <td>notebook</td>\n",
       "      <td>01-02-2023</td>\n",
       "      <td>90</td>\n",
       "    </tr>\n",
       "    <tr>\n",
       "      <th>8</th>\n",
       "      <td>notebook</td>\n",
       "      <td>01-03-2023</td>\n",
       "      <td>100</td>\n",
       "    </tr>\n",
       "  </tbody>\n",
       "</table>\n",
       "</div>"
      ],
      "text/plain": [
       "    Produto         Mês  Vendas\n",
       "0   celular  01-01-2023     150\n",
       "1   celular  01-02-2023     180\n",
       "2   celular  01-03-2023     200\n",
       "3    tablet  01-01-2023     100\n",
       "4    tablet  01-02-2023     120\n",
       "5    tablet  01-03-2023     130\n",
       "6  notebook  01-01-2023      80\n",
       "7  notebook  01-02-2023      90\n",
       "8  notebook  01-03-2023     100"
      ]
     },
     "execution_count": 156,
     "metadata": {},
     "output_type": "execute_result"
    }
   ],
   "source": [
    "# Criar um dicionário\n",
    "data = {\n",
    "    'Produto': [\"celular\", \"celular\", \"celular\", \"tablet\",  \"tablet\",  \"tablet\", \"notebook\",  \"notebook\",  \"notebook\"],\n",
    "    'Mês': ['01-01-2023', '01-02-2023', '01-03-2023', '01-01-2023', '01-02-2023', '01-03-2023', '01-01-2023', '01-02-2023', '01-03-2023'],\n",
    "    'Vendas': [150, 180, 200, 100, 120, 130, 80, 90, 100]\n",
    "}\n",
    "data \n",
    "\n",
    "df = pd.DataFrame(data)\n",
    "df"
   ]
  },
  {
   "cell_type": "code",
   "execution_count": 157,
   "metadata": {},
   "outputs": [
    {
     "data": {
      "text/plain": [
       "'notebook'"
      ]
     },
     "execution_count": 157,
     "metadata": {},
     "output_type": "execute_result"
    }
   ],
   "source": [
    "df['Mês'] = pd.to_datetime(df['Mês'], format = '%d-%m-%Y')\n",
    "df['Ano'] = df['Mês'].dt.year\n",
    "df['Mês'] = df['Mês'].dt.month\n",
    "\n",
    "# Converter DataFrane para um Panda Series indicado pelos meses\n",
    "vendas_series= pd.Series(df['Vendas'].values, index=df['Mês'])\n",
    "\n",
    "# Identificar o produto mais vendido e menos vendido\n",
    "produto_mais_vendido = df.groupby('Produto')['Vendas'].sum().idxmax()\n",
    "produto_menos_vendido = df.groupby('Produto')['Vendas'].sum().idxmin()\n",
    "produto_mais_vendido\n",
    "produto_menos_vendido\n"
   ]
  },
  {
   "cell_type": "code",
   "execution_count": 158,
   "metadata": {},
   "outputs": [
    {
     "data": {
      "text/plain": [
       "127.77777777777777"
      ]
     },
     "execution_count": 158,
     "metadata": {},
     "output_type": "execute_result"
    }
   ],
   "source": [
    "# Calcular a media, mediana, máxima e mínimo de vendas mensais\n",
    "\n",
    "media_vendas = vendas_series.mean()\n",
    "media_vendas\n"
   ]
  },
  {
   "cell_type": "code",
   "execution_count": 159,
   "metadata": {},
   "outputs": [
    {
     "data": {
      "text/plain": [
       "120.0"
      ]
     },
     "execution_count": 159,
     "metadata": {},
     "output_type": "execute_result"
    }
   ],
   "source": [
    "\n",
    "mediana_vendas = vendas_series.median()\n",
    "mediana_vendas"
   ]
  },
  {
   "cell_type": "code",
   "execution_count": 160,
   "metadata": {},
   "outputs": [
    {
     "data": {
      "text/plain": [
       "200"
      ]
     },
     "execution_count": 160,
     "metadata": {},
     "output_type": "execute_result"
    }
   ],
   "source": [
    "maxima_vendas = vendas_series.max()\n",
    "maxima_vendas"
   ]
  },
  {
   "cell_type": "code",
   "execution_count": 161,
   "metadata": {},
   "outputs": [
    {
     "data": {
      "text/plain": [
       "80"
      ]
     },
     "execution_count": 161,
     "metadata": {},
     "output_type": "execute_result"
    }
   ],
   "source": [
    "minimo_vendas = vendas_series.min()\n",
    "minimo_vendas"
   ]
  },
  {
   "cell_type": "code",
   "execution_count": 162,
   "metadata": {},
   "outputs": [
    {
     "ename": "TypeError",
     "evalue": "'module' object is not callable",
     "output_type": "error",
     "traceback": [
      "\u001b[1;31m---------------------------------------------------------------------------\u001b[0m",
      "\u001b[1;31mTypeError\u001b[0m                                 Traceback (most recent call last)",
      "Cell \u001b[1;32mIn[162], line 6\u001b[0m\n\u001b[0;32m      3\u001b[0m df_grouped \u001b[39m=\u001b[39m df\u001b[39m.\u001b[39mgroupby([\u001b[39m'\u001b[39m\u001b[39mMês\u001b[39m\u001b[39m'\u001b[39m, \u001b[39m'\u001b[39m\u001b[39mProduto\u001b[39m\u001b[39m'\u001b[39m])[\u001b[39m'\u001b[39m\u001b[39mVendas\u001b[39m\u001b[39m'\u001b[39m]\u001b[39m.\u001b[39msum()\u001b[39m.\u001b[39munstack()\n\u001b[0;32m      4\u001b[0m df_grouped\n\u001b[1;32m----> 6\u001b[0m plt\u001b[39m.\u001b[39;49mfigure(figsize\u001b[39m=\u001b[39;49m(\u001b[39m10\u001b[39;49m, \u001b[39m6\u001b[39;49m))\n\u001b[0;32m      7\u001b[0m df_grouped\u001b[39m.\u001b[39mplot(kind\u001b[39m=\u001b[39m\u001b[39m'\u001b[39m\u001b[39mbar\u001b[39m\u001b[39m'\u001b[39m, stacked\u001b[39m=\u001b[39m\u001b[39mFalse\u001b[39;00m)\n\u001b[0;32m      9\u001b[0m plt\u001b[39m.\u001b[39mtitle(\u001b[39m\"\u001b[39m\u001b[39mVendas por produto do tempo\u001b[39m\u001b[39m\"\u001b[39m)\n",
      "\u001b[1;31mTypeError\u001b[0m: 'module' object is not callable"
     ]
    }
   ],
   "source": [
    "import matplotlib as plt\n",
    "\n",
    "df_grouped = df.groupby(['Mês', 'Produto'])['Vendas'].sum().unstack()\n",
    "df_grouped\n",
    "\n",
    "plt.figure(figsize=(10, 6))\n",
    "df_grouped.plot(kind='bar', stacked=False)\n",
    "\n",
    "plt.title(\"Vendas por produto do tempo\")\n",
    "plt  "
   ]
  },
  {
   "cell_type": "code",
   "execution_count": null,
   "metadata": {},
   "outputs": [
    {
     "data": {
      "text/plain": [
       "<Figure size 1000x600 with 0 Axes>"
      ]
     },
     "metadata": {},
     "output_type": "display_data"
    },
    {
     "data": {
      "image/png": "[encoded data removed]",
      "text/plain": [
       "<Figure size 640x480 with 1 Axes>"
      ]
     },
     "metadata": {},
     "output_type": "display_data"
    }
   ],
   "source": [
    "import matplotlib.pyplot as plt\n",
    "\n",
    "df_grouped = df.groupby(['Mês', 'Produto'])['Vendas'].sum().unstack()\n",
    "\n",
    "plt.figure(figsize=(10, 6))\n",
    "df_grouped.plot(kind='bar', stacked=False)\n",
    "                \n",
    "plt.title(\"Vendas por Produto ao longo do Tempo\")\n",
    "plt.xlabel(\"Mês\")\n",
    "plt.ylabel(\"Vendas\")\n",
    "plt.xticks(rotation=45)\n",
    "plt.legend(title='Produto')\n",
    "plt.grid(axis='y')\n",
    "plt.tight_layout()\n",
    "plt.show()\n"
   ]
  },
  {
   "cell_type": "code",
   "execution_count": 166,
   "metadata": {},
   "outputs": [
    {
     "data": {
      "text/html": [
       "<div>\n",
       "<style scoped>\n",
       "    .dataframe tbody tr th:only-of-type {\n",
       "        vertical-align: middle;\n",
       "    }\n",
       "\n",
       "    .dataframe tbody tr th {\n",
       "        vertical-align: top;\n",
       "    }\n",
       "\n",
       "    .dataframe thead th {\n",
       "        text-align: right;\n",
       "    }\n",
       "</style>\n",
       "<table border=\"1\" class=\"dataframe\">\n",
       "  <thead>\n",
       "    <tr style=\"text-align: right;\">\n",
       "      <th></th>\n",
       "      <th>Produto</th>\n",
       "      <th>Mês</th>\n",
       "      <th>Vendas</th>\n",
       "    </tr>\n",
       "  </thead>\n",
       "  <tbody>\n",
       "    <tr>\n",
       "      <th>0</th>\n",
       "      <td>Ar Frio</td>\n",
       "      <td>01-01-2023</td>\n",
       "      <td>100</td>\n",
       "    </tr>\n",
       "    <tr>\n",
       "      <th>1</th>\n",
       "      <td>Ar Frio</td>\n",
       "      <td>01-02-2023</td>\n",
       "      <td>120</td>\n",
       "    </tr>\n",
       "    <tr>\n",
       "      <th>2</th>\n",
       "      <td>Ar Frio</td>\n",
       "      <td>01-03-2023</td>\n",
       "      <td>130</td>\n",
       "    </tr>\n",
       "    <tr>\n",
       "      <th>3</th>\n",
       "      <td>Ar Frio</td>\n",
       "      <td>01-04-2023</td>\n",
       "      <td>110</td>\n",
       "    </tr>\n",
       "    <tr>\n",
       "      <th>4</th>\n",
       "      <td>Ar Frio</td>\n",
       "      <td>01-05-2023</td>\n",
       "      <td>150</td>\n",
       "    </tr>\n",
       "    <tr>\n",
       "      <th>5</th>\n",
       "      <td>Ventilador</td>\n",
       "      <td>01-01-2023</td>\n",
       "      <td>150</td>\n",
       "    </tr>\n",
       "    <tr>\n",
       "      <th>6</th>\n",
       "      <td>Ventilador</td>\n",
       "      <td>01-02-2023</td>\n",
       "      <td>140</td>\n",
       "    </tr>\n",
       "    <tr>\n",
       "      <th>7</th>\n",
       "      <td>Ventilador</td>\n",
       "      <td>01-03-2023</td>\n",
       "      <td>160</td>\n",
       "    </tr>\n",
       "    <tr>\n",
       "      <th>8</th>\n",
       "      <td>Ventilador</td>\n",
       "      <td>01-04-2023</td>\n",
       "      <td>130</td>\n",
       "    </tr>\n",
       "    <tr>\n",
       "      <th>9</th>\n",
       "      <td>Ventilador</td>\n",
       "      <td>01-05-2023</td>\n",
       "      <td>170</td>\n",
       "    </tr>\n",
       "    <tr>\n",
       "      <th>10</th>\n",
       "      <td>Ar Quente</td>\n",
       "      <td>01-01-2023</td>\n",
       "      <td>80</td>\n",
       "    </tr>\n",
       "    <tr>\n",
       "      <th>11</th>\n",
       "      <td>Ar Quente</td>\n",
       "      <td>01-02-2023</td>\n",
       "      <td>90</td>\n",
       "    </tr>\n",
       "    <tr>\n",
       "      <th>12</th>\n",
       "      <td>Ar Quente</td>\n",
       "      <td>01-03-2023</td>\n",
       "      <td>100</td>\n",
       "    </tr>\n",
       "    <tr>\n",
       "      <th>13</th>\n",
       "      <td>Ar Quente</td>\n",
       "      <td>01-04-2023</td>\n",
       "      <td>85</td>\n",
       "    </tr>\n",
       "    <tr>\n",
       "      <th>14</th>\n",
       "      <td>Ar Quente</td>\n",
       "      <td>01-05-2023</td>\n",
       "      <td>95</td>\n",
       "    </tr>\n",
       "  </tbody>\n",
       "</table>\n",
       "</div>"
      ],
      "text/plain": [
       "       Produto         Mês  Vendas\n",
       "0      Ar Frio  01-01-2023     100\n",
       "1      Ar Frio  01-02-2023     120\n",
       "2      Ar Frio  01-03-2023     130\n",
       "3      Ar Frio  01-04-2023     110\n",
       "4      Ar Frio  01-05-2023     150\n",
       "5   Ventilador  01-01-2023     150\n",
       "6   Ventilador  01-02-2023     140\n",
       "7   Ventilador  01-03-2023     160\n",
       "8   Ventilador  01-04-2023     130\n",
       "9   Ventilador  01-05-2023     170\n",
       "10   Ar Quente  01-01-2023      80\n",
       "11   Ar Quente  01-02-2023      90\n",
       "12   Ar Quente  01-03-2023     100\n",
       "13   Ar Quente  01-04-2023      85\n",
       "14   Ar Quente  01-05-2023      95"
      ]
     },
     "execution_count": 166,
     "metadata": {},
     "output_type": "execute_result"
    }
   ],
   "source": [
    "exercicio = {\n",
    "    'Produto': [\"Ar Frio\", \"Ar Frio\", \"Ar Frio\", \"Ar Frio\", \"Ar Frio\", \"Ventilador\", \"Ventilador\", \"Ventilador\", \"Ventilador\", \"Ventilador\", \"Ar Quente\",  \"Ar Quente\",  \"Ar Quente\",  \"Ar Quente\",  \"Ar Quente\"],\n",
    "    'Mês': ['01-01-2023', '01-02-2023', '01-03-2023',  '01-04-2023', '01-05-2023', '01-01-2023', '01-02-2023', '01-03-2023',  '01-04-2023', '01-05-2023', '01-01-2023', '01-02-2023', '01-03-2023' , '01-04-2023', '01-05-2023'],\n",
    "    'Vendas': [100, 120, 130, 110, 150, 150, 140, 160, 130, 170, 80, 90, 100, 85, 95]\n",
    "}\n",
    "exercicio \n",
    "\n",
    "df = pd.DataFrame(exercicio)\n",
    "df"
   ]
  },
  {
   "cell_type": "code",
   "execution_count": 171,
   "metadata": {},
   "outputs": [],
   "source": [
    "df.to_csv(\"exercicio.cvs\")"
   ]
  },
  {
   "cell_type": "code",
   "execution_count": null,
   "metadata": {},
   "outputs": [],
   "source": [
    "dados = pd.read_csv()"
   ]
  }
 ],
 "metadata": {
  "kernelspec": {
   "display_name": "Python 3",
   "language": "python",
   "name": "python3"
  },
  "language_info": {
   "codemirror_mode": {
    "name": "ipython",
    "version": 3
   },
   "file_extension": ".py",
   "mimetype": "text/x-python",
   "name": "python",
   "nbconvert_exporter": "python",
   "pygments_lexer": "ipython3",
   "version": "3.11.4"
  },
  "orig_nbformat": 4
 },
 "nbformat": 4,
 "nbformat_minor": 2
}
