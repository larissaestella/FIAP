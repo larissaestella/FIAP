{
 "cells": [
  {
   "attachments": {},
   "cell_type": "markdown",
   "metadata": {},
   "source": [
    "# Exercícios NumPy - Estrutura Unidimensional"
   ]
  },
  {
   "cell_type": "code",
   "execution_count": 7,
   "metadata": {},
   "outputs": [
    {
     "name": "stdout",
     "output_type": "stream",
     "text": [
      "Requirement already satisfied: numpy in c:\\python311\\lib\\site-packages (1.26.4)\n",
      "Note: you may need to restart the kernel to use updated packages.\n"
     ]
    },
    {
     "name": "stderr",
     "output_type": "stream",
     "text": [
      "\n",
      "[notice] A new release of pip is available: 23.1.2 -> 24.0\n",
      "[notice] To update, run: python.exe -m pip install --upgrade pip\n"
     ]
    }
   ],
   "source": [
    "pip install numpy\n"
   ]
  },
  {
   "cell_type": "code",
   "execution_count": 8,
   "metadata": {},
   "outputs": [
    {
     "name": "stdout",
     "output_type": "stream",
     "text": [
      "Collecting pandas\n",
      "  Downloading pandas-2.2.1-cp311-cp311-win_amd64.whl (11.6 MB)\n",
      "                                              0.0/11.6 MB ? eta -:--:--\n",
      "                                              0.2/11.6 MB 4.8 MB/s eta 0:00:03\n",
      "     -                                        0.4/11.6 MB 3.7 MB/s eta 0:00:04\n",
      "     -                                        0.5/11.6 MB 3.6 MB/s eta 0:00:04\n",
      "     -                                        0.5/11.6 MB 2.7 MB/s eta 0:00:05\n",
      "     -                                        0.5/11.6 MB 2.6 MB/s eta 0:00:05\n",
      "     -                                        0.5/11.6 MB 2.6 MB/s eta 0:00:05\n",
      "     -                                        0.5/11.6 MB 2.6 MB/s eta 0:00:05\n",
      "     -                                        0.5/11.6 MB 2.6 MB/s eta 0:00:05\n",
      "     -                                        0.5/11.6 MB 2.6 MB/s eta 0:00:05\n",
      "     --                                       0.6/11.6 MB 1.3 MB/s eta 0:00:09\n",
      "     --                                       0.7/11.6 MB 1.3 MB/s eta 0:00:09\n",
      "     --                                       0.7/11.6 MB 1.3 MB/s eta 0:00:09\n",
      "     --                                       0.7/11.6 MB 1.2 MB/s eta 0:00:09\n",
      "     ---                                      0.9/11.6 MB 1.3 MB/s eta 0:00:08\n",
      "     ---                                      1.1/11.6 MB 1.5 MB/s eta 0:00:07\n",
      "     ---                                      1.2/11.6 MB 1.6 MB/s eta 0:00:07\n",
      "     ----                                     1.2/11.6 MB 1.6 MB/s eta 0:00:07\n",
      "     ----                                     1.3/11.6 MB 1.5 MB/s eta 0:00:07\n",
      "     ----                                     1.4/11.6 MB 1.5 MB/s eta 0:00:07\n",
      "     ----                                     1.4/11.6 MB 1.6 MB/s eta 0:00:07\n",
      "     -----                                    1.5/11.6 MB 1.6 MB/s eta 0:00:07\n",
      "     -----                                    1.6/11.6 MB 1.5 MB/s eta 0:00:07\n",
      "     -----                                    1.7/11.6 MB 1.6 MB/s eta 0:00:07\n",
      "     ------                                   1.8/11.6 MB 1.6 MB/s eta 0:00:07\n",
      "     ------                                   1.8/11.6 MB 1.6 MB/s eta 0:00:07\n",
      "     ------                                   1.8/11.6 MB 1.6 MB/s eta 0:00:07\n",
      "     ------                                   1.8/11.6 MB 1.6 MB/s eta 0:00:07\n",
      "     ------                                   1.8/11.6 MB 1.6 MB/s eta 0:00:07\n",
      "     ------                                   1.8/11.6 MB 1.3 MB/s eta 0:00:08\n",
      "     ------                                   1.8/11.6 MB 1.3 MB/s eta 0:00:08\n",
      "     ------                                   1.9/11.6 MB 1.3 MB/s eta 0:00:08\n",
      "     -------                                  2.2/11.6 MB 1.5 MB/s eta 0:00:07\n",
      "     --------                                 2.4/11.6 MB 1.6 MB/s eta 0:00:06\n",
      "     --------                                 2.5/11.6 MB 1.6 MB/s eta 0:00:06\n",
      "     --------                                 2.6/11.6 MB 1.6 MB/s eta 0:00:06\n",
      "     ---------                                2.8/11.6 MB 1.7 MB/s eta 0:00:06\n",
      "     ----------                               3.1/11.6 MB 1.8 MB/s eta 0:00:05\n",
      "     -----------                              3.3/11.6 MB 1.8 MB/s eta 0:00:05\n",
      "     -----------                              3.4/11.6 MB 1.9 MB/s eta 0:00:05\n",
      "     -----------                              3.5/11.6 MB 1.9 MB/s eta 0:00:05\n",
      "     ------------                             3.6/11.6 MB 1.9 MB/s eta 0:00:05\n",
      "     ------------                             3.6/11.6 MB 1.9 MB/s eta 0:00:05\n",
      "     -------------                            3.8/11.6 MB 1.9 MB/s eta 0:00:05\n",
      "     -------------                            3.9/11.6 MB 1.9 MB/s eta 0:00:05\n",
      "     -------------                            4.0/11.6 MB 1.9 MB/s eta 0:00:05\n",
      "     -------------                            4.0/11.6 MB 1.9 MB/s eta 0:00:05\n",
      "     --------------                           4.1/11.6 MB 1.9 MB/s eta 0:00:05\n",
      "     --------------                           4.1/11.6 MB 1.8 MB/s eta 0:00:05\n",
      "     --------------                           4.1/11.6 MB 1.8 MB/s eta 0:00:05\n",
      "     --------------                           4.1/11.6 MB 1.8 MB/s eta 0:00:05\n",
      "     --------------                           4.1/11.6 MB 1.8 MB/s eta 0:00:05\n",
      "     --------------                           4.1/11.6 MB 1.8 MB/s eta 0:00:05\n",
      "     --------------                           4.1/11.6 MB 1.7 MB/s eta 0:00:05\n",
      "     --------------                           4.2/11.6 MB 1.7 MB/s eta 0:00:05\n",
      "     ---------------                          4.4/11.6 MB 1.7 MB/s eta 0:00:05\n",
      "     ---------------                          4.6/11.6 MB 1.8 MB/s eta 0:00:04\n",
      "     -----------------                        5.0/11.6 MB 1.9 MB/s eta 0:00:04\n",
      "     -----------------                        5.2/11.6 MB 1.9 MB/s eta 0:00:04\n",
      "     -----------------                        5.2/11.6 MB 1.9 MB/s eta 0:00:04\n",
      "     ------------------                       5.2/11.6 MB 1.9 MB/s eta 0:00:04\n",
      "     ------------------                       5.2/11.6 MB 1.9 MB/s eta 0:00:04\n",
      "     ------------------                       5.2/11.6 MB 1.9 MB/s eta 0:00:04\n",
      "     ------------------                       5.2/11.6 MB 1.9 MB/s eta 0:00:04\n",
      "     ------------------                       5.2/11.6 MB 1.9 MB/s eta 0:00:04\n",
      "     ------------------                       5.3/11.6 MB 1.7 MB/s eta 0:00:04\n",
      "     ------------------                       5.3/11.6 MB 1.7 MB/s eta 0:00:04\n",
      "     ------------------                       5.4/11.6 MB 1.7 MB/s eta 0:00:04\n",
      "     ------------------                       5.4/11.6 MB 1.7 MB/s eta 0:00:04\n",
      "     ------------------                       5.4/11.6 MB 1.7 MB/s eta 0:00:04\n",
      "     ------------------                       5.4/11.6 MB 1.7 MB/s eta 0:00:04\n",
      "     ------------------                       5.4/11.6 MB 1.7 MB/s eta 0:00:04\n",
      "     ------------------                       5.4/11.6 MB 1.6 MB/s eta 0:00:04\n",
      "     ------------------                       5.4/11.6 MB 1.6 MB/s eta 0:00:04\n",
      "     -------------------                      5.5/11.6 MB 1.6 MB/s eta 0:00:04\n",
      "     -------------------                      5.5/11.6 MB 1.6 MB/s eta 0:00:04\n",
      "     -------------------                      5.5/11.6 MB 1.6 MB/s eta 0:00:04\n",
      "     -------------------                      5.5/11.6 MB 1.6 MB/s eta 0:00:04\n",
      "     -------------------                      5.5/11.6 MB 1.6 MB/s eta 0:00:04\n",
      "     -------------------                      5.6/11.6 MB 1.5 MB/s eta 0:00:04\n",
      "     -------------------                      5.7/11.6 MB 1.5 MB/s eta 0:00:04\n",
      "     -------------------                      5.7/11.6 MB 1.5 MB/s eta 0:00:04\n",
      "     --------------------                     5.8/11.6 MB 1.5 MB/s eta 0:00:04\n",
      "     --------------------                     6.1/11.6 MB 1.6 MB/s eta 0:00:04\n",
      "     ---------------------                    6.2/11.6 MB 1.6 MB/s eta 0:00:04\n",
      "     ---------------------                    6.2/11.6 MB 1.6 MB/s eta 0:00:04\n",
      "     ---------------------                    6.2/11.6 MB 1.6 MB/s eta 0:00:04\n",
      "     ---------------------                    6.2/11.6 MB 1.6 MB/s eta 0:00:04\n",
      "     ---------------------                    6.2/11.6 MB 1.6 MB/s eta 0:00:04\n",
      "     ---------------------                    6.2/11.6 MB 1.5 MB/s eta 0:00:04\n",
      "     ---------------------                    6.2/11.6 MB 1.5 MB/s eta 0:00:04\n",
      "     ---------------------                    6.3/11.6 MB 1.5 MB/s eta 0:00:04\n",
      "     ---------------------                    6.3/11.6 MB 1.5 MB/s eta 0:00:04\n",
      "     ----------------------                   6.5/11.6 MB 1.5 MB/s eta 0:00:04\n",
      "     -----------------------                  6.7/11.6 MB 1.5 MB/s eta 0:00:04\n",
      "     -----------------------                  6.9/11.6 MB 1.6 MB/s eta 0:00:04\n",
      "     ------------------------                 7.0/11.6 MB 1.6 MB/s eta 0:00:03\n",
      "     ------------------------                 7.1/11.6 MB 1.6 MB/s eta 0:00:03\n",
      "     ------------------------                 7.2/11.6 MB 1.6 MB/s eta 0:00:03\n",
      "     -------------------------                7.3/11.6 MB 1.6 MB/s eta 0:00:03\n",
      "     -------------------------                7.3/11.6 MB 1.6 MB/s eta 0:00:03\n",
      "     -------------------------                7.3/11.6 MB 1.6 MB/s eta 0:00:03\n",
      "     -------------------------                7.3/11.6 MB 1.6 MB/s eta 0:00:03\n",
      "     -------------------------                7.3/11.6 MB 1.6 MB/s eta 0:00:03\n",
      "     -------------------------                7.3/11.6 MB 1.6 MB/s eta 0:00:03\n",
      "     -------------------------                7.4/11.6 MB 1.5 MB/s eta 0:00:03\n",
      "     -------------------------                7.5/11.6 MB 1.5 MB/s eta 0:00:03\n",
      "     --------------------------               7.7/11.6 MB 1.6 MB/s eta 0:00:03\n",
      "     ---------------------------              7.9/11.6 MB 1.6 MB/s eta 0:00:03\n",
      "     ---------------------------              7.9/11.6 MB 1.6 MB/s eta 0:00:03\n",
      "     ---------------------------              8.0/11.6 MB 1.6 MB/s eta 0:00:03\n",
      "     ----------------------------             8.2/11.6 MB 1.6 MB/s eta 0:00:03\n",
      "     -----------------------------            8.5/11.6 MB 1.6 MB/s eta 0:00:02\n",
      "     ------------------------------           8.7/11.6 MB 1.7 MB/s eta 0:00:02\n",
      "     ------------------------------           8.8/11.6 MB 1.7 MB/s eta 0:00:02\n",
      "     ------------------------------           8.8/11.6 MB 1.7 MB/s eta 0:00:02\n",
      "     ------------------------------           8.8/11.6 MB 1.7 MB/s eta 0:00:02\n",
      "     ------------------------------           8.8/11.6 MB 1.7 MB/s eta 0:00:02\n",
      "     ------------------------------           8.8/11.6 MB 1.6 MB/s eta 0:00:02\n",
      "     ------------------------------           8.9/11.6 MB 1.6 MB/s eta 0:00:02\n",
      "     -------------------------------          9.1/11.6 MB 1.6 MB/s eta 0:00:02\n",
      "     --------------------------------         9.5/11.6 MB 1.7 MB/s eta 0:00:02\n",
      "     ---------------------------------        9.9/11.6 MB 1.7 MB/s eta 0:00:02\n",
      "     ----------------------------------       10.1/11.6 MB 1.8 MB/s eta 0:00:01\n",
      "     -----------------------------------      10.4/11.6 MB 1.8 MB/s eta 0:00:01\n",
      "     ------------------------------------     10.6/11.6 MB 1.8 MB/s eta 0:00:01\n",
      "     ------------------------------------     10.6/11.6 MB 1.8 MB/s eta 0:00:01\n",
      "     ------------------------------------     10.6/11.6 MB 1.8 MB/s eta 0:00:01\n",
      "     ------------------------------------     10.6/11.6 MB 1.8 MB/s eta 0:00:01\n",
      "     ------------------------------------     10.6/11.6 MB 1.8 MB/s eta 0:00:01\n",
      "     ------------------------------------     10.6/11.6 MB 1.7 MB/s eta 0:00:01\n",
      "     ------------------------------------     10.7/11.6 MB 1.7 MB/s eta 0:00:01\n",
      "     -------------------------------------    10.9/11.6 MB 1.8 MB/s eta 0:00:01\n",
      "     --------------------------------------   11.1/11.6 MB 1.8 MB/s eta 0:00:01\n",
      "     --------------------------------------   11.2/11.6 MB 1.8 MB/s eta 0:00:01\n",
      "     --------------------------------------   11.2/11.6 MB 1.8 MB/s eta 0:00:01\n",
      "     ---------------------------------------  11.3/11.6 MB 1.8 MB/s eta 0:00:01\n",
      "     ---------------------------------------  11.4/11.6 MB 1.8 MB/s eta 0:00:01\n",
      "     ---------------------------------------  11.6/11.6 MB 1.8 MB/s eta 0:00:01\n",
      "     ---------------------------------------  11.6/11.6 MB 1.8 MB/s eta 0:00:01\n",
      "     ---------------------------------------- 11.6/11.6 MB 1.8 MB/s eta 0:00:00\n",
      "Requirement already satisfied: numpy<2,>=1.23.2 in c:\\python311\\lib\\site-packages (from pandas) (1.26.4)\n",
      "Requirement already satisfied: python-dateutil>=2.8.2 in c:\\python311\\lib\\site-packages (from pandas) (2.8.2)\n",
      "Collecting pytz>=2020.1 (from pandas)\n",
      "  Downloading pytz-2024.1-py2.py3-none-any.whl (505 kB)\n",
      "                                              0.0/505.5 kB ? eta -:--:--\n",
      "     ------------------                     245.8/505.5 kB 7.6 MB/s eta 0:00:01\n",
      "     -------------------------------------- 505.5/505.5 kB 6.3 MB/s eta 0:00:00\n",
      "Collecting tzdata>=2022.7 (from pandas)\n",
      "  Downloading tzdata-2024.1-py2.py3-none-any.whl (345 kB)\n",
      "                                              0.0/345.4 kB ? eta -:--:--\n",
      "     ----------------                       153.6/345.4 kB 4.6 MB/s eta 0:00:01\n",
      "     ------------------------               225.3/345.4 kB 3.5 MB/s eta 0:00:01\n",
      "     -------------------------------        286.7/345.4 kB 2.2 MB/s eta 0:00:01\n",
      "     -------------------------------------- 345.4/345.4 kB 2.1 MB/s eta 0:00:00\n",
      "Requirement already satisfied: six>=1.5 in c:\\python311\\lib\\site-packages (from python-dateutil>=2.8.2->pandas) (1.16.0)\n",
      "Installing collected packages: pytz, tzdata, pandas\n",
      "Successfully installed pandas-2.2.1 pytz-2024.1 tzdata-2024.1\n",
      "Note: you may need to restart the kernel to use updated packages.\n"
     ]
    },
    {
     "name": "stderr",
     "output_type": "stream",
     "text": [
      "\n",
      "[notice] A new release of pip is available: 23.1.2 -> 24.0\n",
      "[notice] To update, run: python.exe -m pip install --upgrade pip\n"
     ]
    }
   ],
   "source": [
    "pip install pandas"
   ]
  },
  {
   "cell_type": "code",
   "execution_count": 42,
   "metadata": {},
   "outputs": [],
   "source": [
    "import numpy as np \n",
    "import pandas as pd\n",
    "\n"
   ]
  },
  {
   "cell_type": "code",
   "execution_count": 16,
   "metadata": {},
   "outputs": [
    {
     "data": {
      "text/plain": [
       "array([ 1,  2,  3,  4,  5,  6,  7,  8,  9, 10])"
      ]
     },
     "execution_count": 16,
     "metadata": {},
     "output_type": "execute_result"
    }
   ],
   "source": [
    "# 1. Exercicio de Criação\n",
    "\n",
    "array = np.array([1,2,3,4,5,6,7,8,9,10])\n",
    "array"
   ]
  },
  {
   "cell_type": "code",
   "execution_count": 11,
   "metadata": {},
   "outputs": [],
   "source": [
    "lista = [1,2,3,4,5,6,7,8,9,10]\n",
    "\n",
    "tupla = (1,2,3,4,5,6,7,8,9,10)\n",
    "\n",
    "df_series = pd.Series(tupla)"
   ]
  },
  {
   "cell_type": "code",
   "execution_count": 13,
   "metadata": {},
   "outputs": [
    {
     "data": {
      "text/plain": [
       "0     1\n",
       "1     2\n",
       "2     3\n",
       "3     4\n",
       "4     5\n",
       "5     6\n",
       "6     7\n",
       "7     8\n",
       "8     9\n",
       "9    10\n",
       "dtype: int64"
      ]
     },
     "execution_count": 13,
     "metadata": {},
     "output_type": "execute_result"
    }
   ],
   "source": [
    "df_series\n"
   ]
  },
  {
   "cell_type": "code",
   "execution_count": 15,
   "metadata": {},
   "outputs": [
    {
     "name": "stdout",
     "output_type": "stream",
     "text": [
      "<class 'pandas.core.series.Series'>\n",
      "RangeIndex: 10 entries, 0 to 9\n",
      "Series name: None\n",
      "Non-Null Count  Dtype\n",
      "--------------  -----\n",
      "10 non-null     int64\n",
      "dtypes: int64(1)\n",
      "memory usage: 212.0 bytes\n"
     ]
    }
   ],
   "source": [
    "df_series.info()"
   ]
  },
  {
   "cell_type": "code",
   "execution_count": 39,
   "metadata": {},
   "outputs": [
    {
     "name": "stdout",
     "output_type": "stream",
     "text": [
      "O quarto elemento do array é: 4\n"
     ]
    }
   ],
   "source": [
    "# 3. Exercicio de Acesso \n",
    "array1to10 = np.array([1,2,3,4,5,6,7,8,9,10])\n",
    "quarto_elemento = array1to10[3]\n",
    "print(\"O quarto elemento do array é:\", quarto_elemento)"
   ]
  },
  {
   "cell_type": "code",
   "execution_count": 20,
   "metadata": {},
   "outputs": [
    {
     "name": "stdout",
     "output_type": "stream",
     "text": [
      "A soma dos arrays é: [ 7  9 11 13 15]\n"
     ]
    }
   ],
   "source": [
    "# 3. Exercicio de Soma\n",
    "\n",
    "array1to5 = np.array([1, 2, 3, 4, 5])\n",
    "array6to10 = np.array([6, 7, 8, 9, 10])\n",
    "soma_arrays = array1to5 + array6to10\n",
    "print(\"A soma dos arrays é:\", soma_arrays)\n",
    "\n"
   ]
  },
  {
   "cell_type": "code",
   "execution_count": 37,
   "metadata": {},
   "outputs": [
    {
     "name": "stdout",
     "output_type": "stream",
     "text": [
      "Valores maiores que 5: [ 6  7  8  9 10]\n"
     ]
    }
   ],
   "source": [
    "# 4. Exercicio de Filtragem\n",
    "array1to10 = np.array([1,2,3,4,5,6,7,8,9,10])\n",
    "array_maiores_que_5 = array1to10[array1to10>5]\n",
    "print(\"Valores maiores que 5:\", array_maiores_que_5)"
   ]
  },
  {
   "cell_type": "code",
   "execution_count": 27,
   "metadata": {},
   "outputs": [
    {
     "name": "stdout",
     "output_type": "stream",
     "text": [
      "Média: 5.5\n",
      "Desvio padrão: 2.8722813232690143\n"
     ]
    }
   ],
   "source": [
    "# 5. Exercício de Estatísticas:\n",
    "\n",
    "print(\"Média:\", array.mean())\n",
    "print(\"Desvio padrão:\", array.std())"
   ]
  },
  {
   "cell_type": "code",
   "execution_count": 26,
   "metadata": {},
   "outputs": [
    {
     "name": "stdout",
     "output_type": "stream",
     "text": [
      "Concatenação:\n",
      "[ 1  2  3  4  5  6  7  8  9 10 10  9  8  7  6  5  4  3  2  1]\n"
     ]
    }
   ],
   "source": [
    "# 6. Exercício de Concatenação:\n",
    "\n",
    "arr_concat = np.concatenate([arr1, arr2])\n",
    "print(\"Concatenação:\")\n",
    "print(arr_concat)\n"
   ]
  },
  {
   "cell_type": "code",
   "execution_count": 25,
   "metadata": {},
   "outputs": [
    {
     "name": "stdout",
     "output_type": "stream",
     "text": [
      "Resultado da Subtração: [-9 -7 -5 -3 -1  1  3  5  7  9]\n"
     ]
    }
   ],
   "source": [
    "# 7. Exercício de Subtração:\n",
    "\n",
    "arr1 = np.arange(1, 11)\n",
    "arr2 = np.arange(10, 0, -1)\n",
    "resultado = arr1 - arr2\n",
    "print(\"Resultado da Subtração:\", resultado)"
   ]
  },
  {
   "cell_type": "code",
   "execution_count": 29,
   "metadata": {},
   "outputs": [
    {
     "name": "stdout",
     "output_type": "stream",
     "text": [
      "[10  9  8  7  6  5  4  3  2  1]\n"
     ]
    }
   ],
   "source": [
    "# Exercício de Ordenação:\n",
    "\n",
    "arr1 = np.arange(1, 11)\n",
    "arr_ordenado = np.sort(arr1)[::-1]\n",
    "print(arr_ordenado)"
   ]
  },
  {
   "cell_type": "code",
   "execution_count": 30,
   "metadata": {},
   "outputs": [
    {
     "name": "stdout",
     "output_type": "stream",
     "text": [
      "Valores Duplicados: True\n"
     ]
    }
   ],
   "source": [
    "# Exercício de Verificação de Valores Únicos:\n",
    "\n",
    "arr = np.array([0, 4, 2, 6, 5, 9, 6])\n",
    "print(\"Valores Duplicados:\", np.unique(arr).size != arr.size)"
   ]
  },
  {
   "cell_type": "code",
   "execution_count": 40,
   "metadata": {},
   "outputs": [
    {
     "name": "stdout",
     "output_type": "stream",
     "text": [
      "Slicing do terceiro ao sétimo elemento:\n",
      "[2 6 5 9 6]\n"
     ]
    }
   ],
   "source": [
    "# Exercício de Slicing:\n",
    "\n",
    "print(\"Slicing do terceiro ao sétimo elemento:\")\n",
    "print(arr[2:7])"
   ]
  },
  {
   "attachments": {},
   "cell_type": "markdown",
   "metadata": {},
   "source": [
    "# Aula 04"
   ]
  },
  {
   "cell_type": "code",
   "execution_count": null,
   "metadata": {},
   "outputs": [],
   "source": [
    "# arr = np.array([0, 4, 5 ,6, 9, 6])\n",
    "\n",
    "# valores_duplicados = "
   ]
  },
  {
   "cell_type": "code",
   "execution_count": 47,
   "metadata": {},
   "outputs": [
    {
     "data": {
      "text/html": [
       "<div>\n",
       "<style scoped>\n",
       "    .dataframe tbody tr th:only-of-type {\n",
       "        vertical-align: middle;\n",
       "    }\n",
       "\n",
       "    .dataframe tbody tr th {\n",
       "        vertical-align: top;\n",
       "    }\n",
       "\n",
       "    .dataframe thead th {\n",
       "        text-align: right;\n",
       "    }\n",
       "</style>\n",
       "<table border=\"1\" class=\"dataframe\">\n",
       "  <thead>\n",
       "    <tr style=\"text-align: right;\">\n",
       "      <th></th>\n",
       "      <th>Name</th>\n",
       "      <th>Age</th>\n",
       "    </tr>\n",
       "  </thead>\n",
       "  <tbody>\n",
       "    <tr>\n",
       "      <th>0</th>\n",
       "      <td>Tom</td>\n",
       "      <td>20</td>\n",
       "    </tr>\n",
       "    <tr>\n",
       "      <th>1</th>\n",
       "      <td>nick</td>\n",
       "      <td>21</td>\n",
       "    </tr>\n",
       "    <tr>\n",
       "      <th>2</th>\n",
       "      <td>krish</td>\n",
       "      <td>19</td>\n",
       "    </tr>\n",
       "    <tr>\n",
       "      <th>3</th>\n",
       "      <td>jack</td>\n",
       "      <td>18</td>\n",
       "    </tr>\n",
       "  </tbody>\n",
       "</table>\n",
       "</div>"
      ],
      "text/plain": [
       "    Name  Age\n",
       "0    Tom   20\n",
       "1   nick   21\n",
       "2  krish   19\n",
       "3   jack   18"
      ]
     },
     "execution_count": 47,
     "metadata": {},
     "output_type": "execute_result"
    }
   ],
   "source": [
    "# data = {'Name':['Tom', 'nick', 'krish', 'jack'],\n",
    "#         'Age':[20, 21, 19, 18]}\n",
    "\n",
    "# df = pd.DataFrame(data)\n",
    "\n",
    "# df"
   ]
  },
  {
   "cell_type": "code",
   "execution_count": 49,
   "metadata": {},
   "outputs": [],
   "source": [
    "# notas_alunos = {\n",
    "#     'João': {\"matemática\": 90, \"português\": 85, \"ciências\": 88},\n",
    "#     'Maria': {\"matemática\": 95, \"português\": 92, \"ciências\": 89},\n",
    "#     'Pedro': {\"matemática\": 80, \"português\": 75, \"ciências\": 82}\n",
    "# }"
   ]
  },
  {
   "cell_type": "code",
   "execution_count": 50,
   "metadata": {},
   "outputs": [],
   "source": [
    "# notas_alunos[\"Ana\"] = {\"matemática\": 88, \"português\": 91, \"ciências\": 85}"
   ]
  },
  {
   "cell_type": "code",
   "execution_count": null,
   "metadata": {},
   "outputs": [],
   "source": [
    "# Criando dicionários em Python\n",
    "\n",
    "# Exemplo 07\n",
    "\n",
    "# df.to_cvs('exemplo.css')\n",
    "# df.to_excel('exemplo.xlsx')"
   ]
  },
  {
   "cell_type": "code",
   "execution_count": null,
   "metadata": {},
   "outputs": [],
   "source": [
    "# df.to_excel('exemplo.xlsx')"
   ]
  },
  {
   "cell_type": "code",
   "execution_count": 107,
   "metadata": {},
   "outputs": [
    {
     "data": {
      "text/html": [
       "<div>\n",
       "<style scoped>\n",
       "    .dataframe tbody tr th:only-of-type {\n",
       "        vertical-align: middle;\n",
       "    }\n",
       "\n",
       "    .dataframe tbody tr th {\n",
       "        vertical-align: top;\n",
       "    }\n",
       "\n",
       "    .dataframe thead th {\n",
       "        text-align: right;\n",
       "    }\n",
       "</style>\n",
       "<table border=\"1\" class=\"dataframe\">\n",
       "  <thead>\n",
       "    <tr style=\"text-align: right;\">\n",
       "      <th></th>\n",
       "      <th>Produto</th>\n",
       "      <th>Mês</th>\n",
       "      <th>Vendas</th>\n",
       "    </tr>\n",
       "  </thead>\n",
       "  <tbody>\n",
       "    <tr>\n",
       "      <th>0</th>\n",
       "      <td>celular</td>\n",
       "      <td>01-01-2023</td>\n",
       "      <td>150</td>\n",
       "    </tr>\n",
       "    <tr>\n",
       "      <th>1</th>\n",
       "      <td>celular</td>\n",
       "      <td>01-02-2023</td>\n",
       "      <td>180</td>\n",
       "    </tr>\n",
       "    <tr>\n",
       "      <th>2</th>\n",
       "      <td>celular</td>\n",
       "      <td>01-03-2023</td>\n",
       "      <td>200</td>\n",
       "    </tr>\n",
       "    <tr>\n",
       "      <th>3</th>\n",
       "      <td>tablet</td>\n",
       "      <td>01-01-2023</td>\n",
       "      <td>100</td>\n",
       "    </tr>\n",
       "    <tr>\n",
       "      <th>4</th>\n",
       "      <td>tablet</td>\n",
       "      <td>01-02-2023</td>\n",
       "      <td>120</td>\n",
       "    </tr>\n",
       "    <tr>\n",
       "      <th>5</th>\n",
       "      <td>tablet</td>\n",
       "      <td>01-03-2023</td>\n",
       "      <td>130</td>\n",
       "    </tr>\n",
       "    <tr>\n",
       "      <th>6</th>\n",
       "      <td>notebook</td>\n",
       "      <td>01-01-2023</td>\n",
       "      <td>80</td>\n",
       "    </tr>\n",
       "    <tr>\n",
       "      <th>7</th>\n",
       "      <td>notebook</td>\n",
       "      <td>01-02-2023</td>\n",
       "      <td>90</td>\n",
       "    </tr>\n",
       "    <tr>\n",
       "      <th>8</th>\n",
       "      <td>notebook</td>\n",
       "      <td>01-03-2023</td>\n",
       "      <td>100</td>\n",
       "    </tr>\n",
       "  </tbody>\n",
       "</table>\n",
       "</div>"
      ],
      "text/plain": [
       "    Produto         Mês  Vendas\n",
       "0   celular  01-01-2023     150\n",
       "1   celular  01-02-2023     180\n",
       "2   celular  01-03-2023     200\n",
       "3    tablet  01-01-2023     100\n",
       "4    tablet  01-02-2023     120\n",
       "5    tablet  01-03-2023     130\n",
       "6  notebook  01-01-2023      80\n",
       "7  notebook  01-02-2023      90\n",
       "8  notebook  01-03-2023     100"
      ]
     },
     "execution_count": 107,
     "metadata": {},
     "output_type": "execute_result"
    }
   ],
   "source": [
    "# Criar um dicionário\n",
    "data = {\n",
    "    'Produto': [\"celular\", \"celular\", \"celular\", \"tablet\",  \"tablet\",  \"tablet\", \"notebook\",  \"notebook\",  \"notebook\"],\n",
    "    'Mês': ['01-01-2023', '01-02-2023', '01-03-2023', '01-01-2023', '01-02-2023', '01-03-2023', '01-01-2023', '01-02-2023', '01-03-2023'],\n",
    "    'Vendas': [150, 180, 200, 100, 120, 130, 80, 90, 100]\n",
    "}\n",
    "data \n",
    "\n",
    "df = pd.DataFrame(data)\n",
    "df"
   ]
  },
  {
   "cell_type": "code",
   "execution_count": 108,
   "metadata": {},
   "outputs": [
    {
     "data": {
      "text/plain": [
       "'notebook'"
      ]
     },
     "execution_count": 108,
     "metadata": {},
     "output_type": "execute_result"
    }
   ],
   "source": [
    "df['Mês'] = pd.to_datetime(df['Mês'], format = '%d-%m-%Y')\n",
    "df['Ano'] = df['Mês'].dt.year\n",
    "df['Mês'] = df['Mês'].dt.month\n",
    "\n",
    "# Converter DataFrane para um Panda Series indicado pelos meses\n",
    "vendas_series= pd.Series(df['Vendas'].values, index=df['Mês'])\n",
    "\n",
    "# Identificar o produto mais vendido e menos vendido\n",
    "produto_mais_vendido = df.groupby('Produto')['Vendas'].sum().idxmax()\n",
    "produto_menos_vendido = df.groupby('Produto')['Vendas'].sum().idxmin()\n",
    "produto_mais_vendido\n",
    "produto_menos_vendido\n"
   ]
  },
  {
   "cell_type": "code",
   "execution_count": 111,
   "metadata": {},
   "outputs": [
    {
     "data": {
      "text/plain": [
       "127.77777777777777"
      ]
     },
     "execution_count": 111,
     "metadata": {},
     "output_type": "execute_result"
    }
   ],
   "source": [
    "# Calcular a media, mediana, máxima e mínimo de vendas mensais\n",
    "\n",
    "media_vendas = vendas_series.mean()\n",
    "media_vendas\n"
   ]
  },
  {
   "cell_type": "code",
   "execution_count": 114,
   "metadata": {},
   "outputs": [
    {
     "data": {
      "text/plain": [
       "120.0"
      ]
     },
     "execution_count": 114,
     "metadata": {},
     "output_type": "execute_result"
    }
   ],
   "source": [
    "\n",
    "mediana_vendas = vendas_series.median()\n",
    "mediana_vendas"
   ]
  },
  {
   "cell_type": "code",
   "execution_count": 116,
   "metadata": {},
   "outputs": [
    {
     "data": {
      "text/plain": [
       "200"
      ]
     },
     "execution_count": 116,
     "metadata": {},
     "output_type": "execute_result"
    }
   ],
   "source": [
    "maxima_vendas = vendas_series.max()\n",
    "maxima_vendas"
   ]
  },
  {
   "cell_type": "code",
   "execution_count": 117,
   "metadata": {},
   "outputs": [
    {
     "data": {
      "text/plain": [
       "80"
      ]
     },
     "execution_count": 117,
     "metadata": {},
     "output_type": "execute_result"
    }
   ],
   "source": [
    "minimo_vendas = vendas_series.min()\n",
    "minimo_vendas"
   ]
  }
 ],
 "metadata": {
  "kernelspec": {
   "display_name": "Python 3",
   "language": "python",
   "name": "python3"
  },
  "language_info": {
   "codemirror_mode": {
    "name": "ipython",
    "version": 3
   },
   "file_extension": ".py",
   "mimetype": "text/x-python",
   "name": "python",
   "nbconvert_exporter": "python",
   "pygments_lexer": "ipython3",
   "version": "3.11.4"
  },
  "orig_nbformat": 4
 },
 "nbformat": 4,
 "nbformat_minor": 2
}
