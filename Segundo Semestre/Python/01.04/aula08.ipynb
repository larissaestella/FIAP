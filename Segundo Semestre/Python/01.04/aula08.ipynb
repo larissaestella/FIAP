{
 "cells": [
  {
   "cell_type": "code",
   "execution_count": 1,
   "metadata": {},
   "outputs": [
    {
     "name": "stdout",
     "output_type": "stream",
     "text": [
      "Collecting pandas\n",
      "  Downloading pandas-2.2.1-cp311-cp311-win_amd64.whl (11.6 MB)\n",
      "                                              0.0/11.6 MB ? eta -:--:--\n",
      "     -----                                    1.6/11.6 MB 34.2 MB/s eta 0:00:01\n",
      "     -----                                    1.6/11.6 MB 34.2 MB/s eta 0:00:01\n",
      "     -----                                    1.6/11.6 MB 34.2 MB/s eta 0:00:01\n",
      "     -----                                    1.6/11.6 MB 34.2 MB/s eta 0:00:01\n",
      "     -----                                    1.6/11.6 MB 34.2 MB/s eta 0:00:01\n",
      "     -----                                    1.6/11.6 MB 5.8 MB/s eta 0:00:02\n",
      "     ------                                   1.9/11.6 MB 6.2 MB/s eta 0:00:02\n",
      "     ------                                   1.9/11.6 MB 6.2 MB/s eta 0:00:02\n",
      "     ------                                   2.0/11.6 MB 4.7 MB/s eta 0:00:03\n",
      "     --------                                 2.4/11.6 MB 5.2 MB/s eta 0:00:02\n",
      "     -----------                              3.3/11.6 MB 6.4 MB/s eta 0:00:02\n",
      "     -----------                              3.5/11.6 MB 6.7 MB/s eta 0:00:02\n",
      "     -----------                              3.5/11.6 MB 6.7 MB/s eta 0:00:02\n",
      "     -----------                              3.5/11.6 MB 6.7 MB/s eta 0:00:02\n",
      "     -----------                              3.5/11.6 MB 6.7 MB/s eta 0:00:02\n",
      "     -----------                              3.5/11.6 MB 6.7 MB/s eta 0:00:02\n",
      "     -----------                              3.5/11.6 MB 6.7 MB/s eta 0:00:02\n",
      "     -----------                              3.5/11.6 MB 6.7 MB/s eta 0:00:02\n",
      "     -----------                              3.5/11.6 MB 6.7 MB/s eta 0:00:02\n",
      "     -----------                              3.5/11.6 MB 6.7 MB/s eta 0:00:02\n",
      "     -----------                              3.5/11.6 MB 6.7 MB/s eta 0:00:02\n",
      "     -----------                              3.5/11.6 MB 6.7 MB/s eta 0:00:02\n",
      "     -----------                              3.5/11.6 MB 6.7 MB/s eta 0:00:02\n",
      "     -----------                              3.5/11.6 MB 6.7 MB/s eta 0:00:02\n",
      "     ------------                             3.6/11.6 MB 3.0 MB/s eta 0:00:03\n",
      "     --------------                           4.3/11.6 MB 3.5 MB/s eta 0:00:03\n",
      "     -----------------                        5.0/11.6 MB 3.9 MB/s eta 0:00:02\n",
      "     ------------------                       5.3/11.6 MB 4.0 MB/s eta 0:00:02\n",
      "     ------------------                       5.3/11.6 MB 4.0 MB/s eta 0:00:02\n",
      "     ------------------                       5.3/11.6 MB 4.0 MB/s eta 0:00:02\n",
      "     ------------------                       5.3/11.6 MB 4.0 MB/s eta 0:00:02\n",
      "     ------------------                       5.3/11.6 MB 4.0 MB/s eta 0:00:02\n",
      "     ------------------                       5.3/11.6 MB 4.0 MB/s eta 0:00:02\n",
      "     ------------------                       5.3/11.6 MB 4.0 MB/s eta 0:00:02\n",
      "     ------------------                       5.3/11.6 MB 4.0 MB/s eta 0:00:02\n",
      "     ------------------                       5.3/11.6 MB 4.0 MB/s eta 0:00:02\n",
      "     ------------------                       5.3/11.6 MB 4.0 MB/s eta 0:00:02\n",
      "     ------------------                       5.3/11.6 MB 4.0 MB/s eta 0:00:02\n",
      "     ------------------                       5.3/11.6 MB 4.0 MB/s eta 0:00:02\n",
      "     ------------------                       5.3/11.6 MB 4.0 MB/s eta 0:00:02\n",
      "     ------------------                       5.3/11.6 MB 4.0 MB/s eta 0:00:02\n",
      "     -------------------                      5.7/11.6 MB 2.9 MB/s eta 0:00:03\n",
      "     ---------------------                    6.1/11.6 MB 3.0 MB/s eta 0:00:02\n",
      "     ----------------------                   6.6/11.6 MB 3.2 MB/s eta 0:00:02\n",
      "     ------------------------                 7.1/11.6 MB 3.3 MB/s eta 0:00:02\n",
      "     ------------------------                 7.2/11.6 MB 3.4 MB/s eta 0:00:02\n",
      "     ------------------------                 7.2/11.6 MB 3.4 MB/s eta 0:00:02\n",
      "     ------------------------                 7.2/11.6 MB 3.4 MB/s eta 0:00:02\n",
      "     ------------------------                 7.2/11.6 MB 3.4 MB/s eta 0:00:02\n",
      "     ------------------------                 7.2/11.6 MB 3.4 MB/s eta 0:00:02\n",
      "     ------------------------                 7.2/11.6 MB 3.4 MB/s eta 0:00:02\n",
      "     ------------------------                 7.2/11.6 MB 3.4 MB/s eta 0:00:02\n",
      "     ------------------------                 7.2/11.6 MB 3.4 MB/s eta 0:00:02\n",
      "     ------------------------                 7.2/11.6 MB 3.4 MB/s eta 0:00:02\n",
      "     ------------------------                 7.2/11.6 MB 3.4 MB/s eta 0:00:02\n",
      "     ------------------------                 7.2/11.6 MB 3.4 MB/s eta 0:00:02\n",
      "     ------------------------                 7.2/11.6 MB 3.4 MB/s eta 0:00:02\n",
      "     ------------------------                 7.2/11.6 MB 3.4 MB/s eta 0:00:02\n",
      "     ------------------------                 7.2/11.6 MB 2.6 MB/s eta 0:00:02\n",
      "     -------------------------                7.5/11.6 MB 2.6 MB/s eta 0:00:02\n",
      "     --------------------------               7.8/11.6 MB 2.7 MB/s eta 0:00:02\n",
      "     ----------------------------             8.2/11.6 MB 2.8 MB/s eta 0:00:02\n",
      "     -----------------------------            8.6/11.6 MB 2.9 MB/s eta 0:00:02\n",
      "     -------------------------------          9.0/11.6 MB 3.0 MB/s eta 0:00:01\n",
      "     -------------------------------          9.0/11.6 MB 3.0 MB/s eta 0:00:01\n",
      "     -------------------------------          9.0/11.6 MB 3.0 MB/s eta 0:00:01\n",
      "     -------------------------------          9.0/11.6 MB 3.0 MB/s eta 0:00:01\n",
      "     -------------------------------          9.0/11.6 MB 3.0 MB/s eta 0:00:01\n",
      "     -------------------------------          9.0/11.6 MB 3.0 MB/s eta 0:00:01\n",
      "     -------------------------------          9.0/11.6 MB 3.0 MB/s eta 0:00:01\n",
      "     -------------------------------          9.0/11.6 MB 3.0 MB/s eta 0:00:01\n",
      "     -------------------------------          9.0/11.6 MB 3.0 MB/s eta 0:00:01\n",
      "     -------------------------------          9.0/11.6 MB 3.0 MB/s eta 0:00:01\n",
      "     -------------------------------          9.0/11.6 MB 3.0 MB/s eta 0:00:01\n",
      "     -------------------------------          9.0/11.6 MB 3.0 MB/s eta 0:00:01\n",
      "     -------------------------------          9.0/11.6 MB 3.0 MB/s eta 0:00:01\n",
      "     -------------------------------          9.0/11.6 MB 3.0 MB/s eta 0:00:01\n",
      "     -------------------------------          9.2/11.6 MB 2.5 MB/s eta 0:00:01\n",
      "     ---------------------------------        9.6/11.6 MB 2.6 MB/s eta 0:00:01\n",
      "     ----------------------------------       10.1/11.6 MB 2.7 MB/s eta 0:00:01\n",
      "     ------------------------------------     10.6/11.6 MB 2.7 MB/s eta 0:00:01\n",
      "     --------------------------------------   11.1/11.6 MB 2.7 MB/s eta 0:00:01\n",
      "     ---------------------------------------  11.6/11.6 MB 2.6 MB/s eta 0:00:01\n",
      "     ---------------------------------------  11.6/11.6 MB 2.6 MB/s eta 0:00:01\n",
      "     ---------------------------------------- 11.6/11.6 MB 2.6 MB/s eta 0:00:00\n",
      "Collecting numpy<2,>=1.23.2 (from pandas)\n",
      "  Downloading numpy-1.26.4-cp311-cp311-win_amd64.whl (15.8 MB)\n",
      "                                              0.0/15.8 MB ? eta -:--:--\n",
      "                                              0.4/15.8 MB 11.2 MB/s eta 0:00:02\n",
      "     --                                       0.8/15.8 MB 10.8 MB/s eta 0:00:02\n",
      "     ---                                      1.4/15.8 MB 11.5 MB/s eta 0:00:02\n",
      "     ----                                     1.8/15.8 MB 11.7 MB/s eta 0:00:02\n",
      "     ----                                     1.8/15.8 MB 11.7 MB/s eta 0:00:02\n",
      "     ----                                     1.8/15.8 MB 11.7 MB/s eta 0:00:02\n",
      "     ----                                     1.8/15.8 MB 11.7 MB/s eta 0:00:02\n",
      "     ----                                     1.8/15.8 MB 11.7 MB/s eta 0:00:02\n",
      "     ----                                     1.8/15.8 MB 11.7 MB/s eta 0:00:02\n",
      "     ----                                     1.8/15.8 MB 11.7 MB/s eta 0:00:02\n",
      "     ----                                     1.8/15.8 MB 11.7 MB/s eta 0:00:02\n",
      "     ----                                     1.8/15.8 MB 11.7 MB/s eta 0:00:02\n",
      "     ----                                     1.8/15.8 MB 11.7 MB/s eta 0:00:02\n",
      "     ----                                     1.8/15.8 MB 11.7 MB/s eta 0:00:02\n",
      "     ----                                     1.8/15.8 MB 11.7 MB/s eta 0:00:02\n",
      "     ----                                     1.8/15.8 MB 11.7 MB/s eta 0:00:02\n",
      "     ----                                     1.8/15.8 MB 11.7 MB/s eta 0:00:02\n",
      "     ----                                     1.8/15.8 MB 11.7 MB/s eta 0:00:02\n",
      "     ----                                     1.8/15.8 MB 11.7 MB/s eta 0:00:02\n",
      "     ----                                     1.8/15.8 MB 11.7 MB/s eta 0:00:02\n",
      "     ----                                     1.9/15.8 MB 2.0 MB/s eta 0:00:08\n",
      "     ------                                   2.4/15.8 MB 2.3 MB/s eta 0:00:06\n",
      "     -------                                  2.9/15.8 MB 2.6 MB/s eta 0:00:06\n",
      "     -------                                  3.1/15.8 MB 2.6 MB/s eta 0:00:05\n",
      "     --------                                 3.3/15.8 MB 2.7 MB/s eta 0:00:05\n",
      "     --------                                 3.5/15.8 MB 2.7 MB/s eta 0:00:05\n",
      "     ---------                                3.7/15.8 MB 2.8 MB/s eta 0:00:05\n",
      "     ----------                               4.0/15.8 MB 2.9 MB/s eta 0:00:05\n",
      "     ----------                               4.1/15.8 MB 2.9 MB/s eta 0:00:05\n",
      "     ----------                               4.3/15.8 MB 2.9 MB/s eta 0:00:04\n",
      "     -----------                              4.5/15.8 MB 3.0 MB/s eta 0:00:04\n",
      "     ------------                             4.9/15.8 MB 3.1 MB/s eta 0:00:04\n",
      "     -------------                            5.2/15.8 MB 3.2 MB/s eta 0:00:04\n",
      "     -------------                            5.5/15.8 MB 3.4 MB/s eta 0:00:04\n",
      "     -------------                            5.5/15.8 MB 3.4 MB/s eta 0:00:04\n",
      "     -------------                            5.5/15.8 MB 3.4 MB/s eta 0:00:04\n",
      "     -------------                            5.5/15.8 MB 3.4 MB/s eta 0:00:04\n",
      "     -------------                            5.5/15.8 MB 3.4 MB/s eta 0:00:04\n",
      "     --------------                           5.7/15.8 MB 3.0 MB/s eta 0:00:04\n",
      "     ---------------                          6.1/15.8 MB 3.1 MB/s eta 0:00:04\n",
      "     ----------------                         6.5/15.8 MB 3.3 MB/s eta 0:00:03\n",
      "     -----------------                        6.9/15.8 MB 3.4 MB/s eta 0:00:03\n",
      "     ------------------                       7.4/15.8 MB 3.5 MB/s eta 0:00:03\n",
      "     ------------------                       7.4/15.8 MB 3.5 MB/s eta 0:00:03\n",
      "     ------------------                       7.4/15.8 MB 3.5 MB/s eta 0:00:03\n",
      "     ------------------                       7.4/15.8 MB 3.5 MB/s eta 0:00:03\n",
      "     ------------------                       7.4/15.8 MB 3.5 MB/s eta 0:00:03\n",
      "     ------------------                       7.4/15.8 MB 3.5 MB/s eta 0:00:03\n",
      "     ------------------                       7.4/15.8 MB 3.5 MB/s eta 0:00:03\n",
      "     ------------------                       7.4/15.8 MB 3.5 MB/s eta 0:00:03\n",
      "     ------------------                       7.4/15.8 MB 3.5 MB/s eta 0:00:03\n",
      "     ------------------                       7.4/15.8 MB 3.5 MB/s eta 0:00:03\n",
      "     ------------------                       7.4/15.8 MB 3.5 MB/s eta 0:00:03\n",
      "     ------------------                       7.4/15.8 MB 3.5 MB/s eta 0:00:03\n",
      "     ------------------                       7.4/15.8 MB 3.5 MB/s eta 0:00:03\n",
      "     ------------------                       7.4/15.8 MB 3.5 MB/s eta 0:00:03\n",
      "     -------------------                      7.7/15.8 MB 2.8 MB/s eta 0:00:03\n",
      "     --------------------                     8.0/15.8 MB 2.9 MB/s eta 0:00:03\n",
      "     ---------------------                    8.5/15.8 MB 3.0 MB/s eta 0:00:03\n",
      "     ----------------------                   8.8/15.8 MB 3.0 MB/s eta 0:00:03\n",
      "     -----------------------                  9.2/15.8 MB 3.1 MB/s eta 0:00:03\n",
      "     -----------------------                  9.2/15.8 MB 3.1 MB/s eta 0:00:03\n",
      "     -----------------------                  9.2/15.8 MB 3.1 MB/s eta 0:00:03\n",
      "     -----------------------                  9.2/15.8 MB 3.1 MB/s eta 0:00:03\n",
      "     -----------------------                  9.2/15.8 MB 3.1 MB/s eta 0:00:03\n",
      "     -----------------------                  9.2/15.8 MB 3.1 MB/s eta 0:00:03\n",
      "     -----------------------                  9.2/15.8 MB 3.1 MB/s eta 0:00:03\n",
      "     -----------------------                  9.2/15.8 MB 3.1 MB/s eta 0:00:03\n",
      "     -----------------------                  9.2/15.8 MB 3.1 MB/s eta 0:00:03\n",
      "     -----------------------                  9.2/15.8 MB 3.1 MB/s eta 0:00:03\n",
      "     -----------------------                  9.2/15.8 MB 3.1 MB/s eta 0:00:03\n",
      "     -----------------------                  9.2/15.8 MB 3.1 MB/s eta 0:00:03\n",
      "     -----------------------                  9.2/15.8 MB 3.1 MB/s eta 0:00:03\n",
      "     -----------------------                  9.2/15.8 MB 3.1 MB/s eta 0:00:03\n",
      "     -----------------------                  9.2/15.8 MB 2.6 MB/s eta 0:00:03\n",
      "     ------------------------                 9.5/15.8 MB 2.6 MB/s eta 0:00:03\n",
      "     ------------------------                 9.9/15.8 MB 2.7 MB/s eta 0:00:03\n",
      "     --------------------------               10.3/15.8 MB 2.7 MB/s eta 0:00:03\n",
      "     ---------------------------              10.8/15.8 MB 2.7 MB/s eta 0:00:02\n",
      "     ----------------------------             11.1/15.8 MB 2.7 MB/s eta 0:00:02\n",
      "     ----------------------------             11.1/15.8 MB 2.7 MB/s eta 0:00:02\n",
      "     ----------------------------             11.1/15.8 MB 2.7 MB/s eta 0:00:02\n",
      "     ----------------------------             11.1/15.8 MB 2.7 MB/s eta 0:00:02\n",
      "     ----------------------------             11.1/15.8 MB 2.7 MB/s eta 0:00:02\n",
      "     ----------------------------             11.1/15.8 MB 2.7 MB/s eta 0:00:02\n",
      "     ----------------------------             11.1/15.8 MB 2.7 MB/s eta 0:00:02\n",
      "     ----------------------------             11.1/15.8 MB 2.7 MB/s eta 0:00:02\n",
      "     ----------------------------             11.1/15.8 MB 2.7 MB/s eta 0:00:02\n",
      "     ----------------------------             11.1/15.8 MB 2.7 MB/s eta 0:00:02\n",
      "     ----------------------------             11.1/15.8 MB 2.7 MB/s eta 0:00:02\n",
      "     ----------------------------             11.1/15.8 MB 2.7 MB/s eta 0:00:02\n",
      "     ----------------------------             11.1/15.8 MB 2.7 MB/s eta 0:00:02\n",
      "     ----------------------------             11.1/15.8 MB 2.7 MB/s eta 0:00:02\n",
      "     ----------------------------             11.1/15.8 MB 2.7 MB/s eta 0:00:02\n",
      "     ----------------------------             11.3/15.8 MB 2.3 MB/s eta 0:00:02\n",
      "     -----------------------------            11.7/15.8 MB 2.3 MB/s eta 0:00:02\n",
      "     ------------------------------           12.0/15.8 MB 2.3 MB/s eta 0:00:02\n",
      "     -------------------------------          12.4/15.8 MB 2.8 MB/s eta 0:00:02\n",
      "     --------------------------------         12.7/15.8 MB 2.8 MB/s eta 0:00:02\n",
      "     --------------------------------         12.9/15.8 MB 2.8 MB/s eta 0:00:02\n",
      "     --------------------------------         12.9/15.8 MB 2.8 MB/s eta 0:00:02\n",
      "     --------------------------------         12.9/15.8 MB 2.8 MB/s eta 0:00:02\n",
      "     --------------------------------         12.9/15.8 MB 2.8 MB/s eta 0:00:02\n",
      "     --------------------------------         12.9/15.8 MB 2.8 MB/s eta 0:00:02\n",
      "     --------------------------------         12.9/15.8 MB 2.8 MB/s eta 0:00:02\n",
      "     --------------------------------         12.9/15.8 MB 2.8 MB/s eta 0:00:02\n",
      "     --------------------------------         12.9/15.8 MB 2.8 MB/s eta 0:00:02\n",
      "     --------------------------------         12.9/15.8 MB 2.5 MB/s eta 0:00:02\n",
      "     --------------------------------         13.0/15.8 MB 2.5 MB/s eta 0:00:02\n",
      "     ---------------------------------        13.3/15.8 MB 2.5 MB/s eta 0:00:01\n",
      "     ----------------------------------       13.7/15.8 MB 2.5 MB/s eta 0:00:01\n",
      "     -----------------------------------      14.1/15.8 MB 2.6 MB/s eta 0:00:01\n",
      "     ------------------------------------     14.6/15.8 MB 2.6 MB/s eta 0:00:01\n",
      "     -------------------------------------    14.8/15.8 MB 2.6 MB/s eta 0:00:01\n",
      "     -------------------------------------    14.8/15.8 MB 2.6 MB/s eta 0:00:01\n",
      "     -------------------------------------    14.8/15.8 MB 2.6 MB/s eta 0:00:01\n",
      "     -------------------------------------    14.8/15.8 MB 2.6 MB/s eta 0:00:01\n",
      "     -------------------------------------    14.8/15.8 MB 2.6 MB/s eta 0:00:01\n",
      "     -------------------------------------    14.8/15.8 MB 2.5 MB/s eta 0:00:01\n",
      "     -------------------------------------    14.9/15.8 MB 2.4 MB/s eta 0:00:01\n",
      "     -------------------------------------    15.0/15.8 MB 2.4 MB/s eta 0:00:01\n",
      "     --------------------------------------   15.1/15.8 MB 2.4 MB/s eta 0:00:01\n",
      "     --------------------------------------   15.2/15.8 MB 2.4 MB/s eta 0:00:01\n",
      "     --------------------------------------   15.3/15.8 MB 2.4 MB/s eta 0:00:01\n",
      "     ---------------------------------------  15.5/15.8 MB 2.3 MB/s eta 0:00:01\n",
      "     ---------------------------------------  15.8/15.8 MB 2.5 MB/s eta 0:00:01\n",
      "     ---------------------------------------  15.8/15.8 MB 2.5 MB/s eta 0:00:01\n",
      "     ---------------------------------------  15.8/15.8 MB 2.5 MB/s eta 0:00:01\n",
      "     ---------------------------------------- 15.8/15.8 MB 2.4 MB/s eta 0:00:00\n",
      "Requirement already satisfied: python-dateutil>=2.8.2 in c:\\python311\\lib\\site-packages (from pandas) (2.8.2)\n",
      "Collecting pytz>=2020.1 (from pandas)\n",
      "  Downloading pytz-2024.1-py2.py3-none-any.whl (505 kB)\n",
      "                                              0.0/505.5 kB ? eta -:--:--\n",
      "     --------------------------            368.6/505.5 kB 11.2 MB/s eta 0:00:01\n",
      "     -------------------------------------- 505.5/505.5 kB 7.9 MB/s eta 0:00:00\n",
      "Collecting tzdata>=2022.7 (from pandas)\n",
      "  Downloading tzdata-2024.1-py2.py3-none-any.whl (345 kB)\n",
      "                                              0.0/345.4 kB ? eta -:--:--\n",
      "     ---------------------------------      307.2/345.4 kB 9.6 MB/s eta 0:00:01\n",
      "     -------------------------------------- 345.4/345.4 kB 7.1 MB/s eta 0:00:00\n",
      "Requirement already satisfied: six>=1.5 in c:\\python311\\lib\\site-packages (from python-dateutil>=2.8.2->pandas) (1.16.0)\n",
      "Installing collected packages: pytz, tzdata, numpy, pandas\n",
      "Successfully installed numpy-1.26.4 pandas-2.2.1 pytz-2024.1 tzdata-2024.1\n",
      "Note: you may need to restart the kernel to use updated packages.\n"
     ]
    },
    {
     "name": "stderr",
     "output_type": "stream",
     "text": [
      "\n",
      "[notice] A new release of pip is available: 23.1.2 -> 24.0\n",
      "[notice] To update, run: python.exe -m pip install --upgrade pip\n"
     ]
    }
   ],
   "source": [
    "pip install pandas\n"
   ]
  },
  {
   "cell_type": "code",
   "execution_count": 2,
   "metadata": {},
   "outputs": [],
   "source": [
    "import pandas as pd"
   ]
  },
  {
   "cell_type": "code",
   "execution_count": 4,
   "metadata": {},
   "outputs": [
    {
     "data": {
      "text/plain": [
       "{'Nome': ['Alice', 'Maju', 'Douglas', 'Erika', 'Maria'],\n",
       " 'Idade': [25, 30, 35, 40, 45],\n",
       " 'Salário': [5000, 6000, 7000, 8000, 9000]}"
      ]
     },
     "execution_count": 4,
     "metadata": {},
     "output_type": "execute_result"
    }
   ],
   "source": [
    "dados = {'Nome': ['Alice', 'Maju', 'Douglas', 'Erika', 'Maria'],\n",
    "         'Idade': [25, 30, 35, 40, 45],\n",
    "         'Salário': [5000, 6000, 7000, 8000, 9000]}\n",
    "dados"
   ]
  },
  {
   "cell_type": "code",
   "execution_count": 7,
   "metadata": {},
   "outputs": [
    {
     "data": {
      "text/html": [
       "<div>\n",
       "<style scoped>\n",
       "    .dataframe tbody tr th:only-of-type {\n",
       "        vertical-align: middle;\n",
       "    }\n",
       "\n",
       "    .dataframe tbody tr th {\n",
       "        vertical-align: top;\n",
       "    }\n",
       "\n",
       "    .dataframe thead th {\n",
       "        text-align: right;\n",
       "    }\n",
       "</style>\n",
       "<table border=\"1\" class=\"dataframe\">\n",
       "  <thead>\n",
       "    <tr style=\"text-align: right;\">\n",
       "      <th></th>\n",
       "      <th>Nome</th>\n",
       "      <th>Idade</th>\n",
       "      <th>Salário</th>\n",
       "    </tr>\n",
       "  </thead>\n",
       "  <tbody>\n",
       "    <tr>\n",
       "      <th>0</th>\n",
       "      <td>Alice</td>\n",
       "      <td>25</td>\n",
       "      <td>5000</td>\n",
       "    </tr>\n",
       "    <tr>\n",
       "      <th>1</th>\n",
       "      <td>Maju</td>\n",
       "      <td>30</td>\n",
       "      <td>6000</td>\n",
       "    </tr>\n",
       "    <tr>\n",
       "      <th>2</th>\n",
       "      <td>Douglas</td>\n",
       "      <td>35</td>\n",
       "      <td>7000</td>\n",
       "    </tr>\n",
       "    <tr>\n",
       "      <th>3</th>\n",
       "      <td>Erika</td>\n",
       "      <td>40</td>\n",
       "      <td>8000</td>\n",
       "    </tr>\n",
       "    <tr>\n",
       "      <th>4</th>\n",
       "      <td>Maria</td>\n",
       "      <td>45</td>\n",
       "      <td>9000</td>\n",
       "    </tr>\n",
       "  </tbody>\n",
       "</table>\n",
       "</div>"
      ],
      "text/plain": [
       "      Nome  Idade  Salário\n",
       "0    Alice     25     5000\n",
       "1     Maju     30     6000\n",
       "2  Douglas     35     7000\n",
       "3    Erika     40     8000\n",
       "4    Maria     45     9000"
      ]
     },
     "execution_count": 7,
     "metadata": {},
     "output_type": "execute_result"
    }
   ],
   "source": [
    "df = pd.DataFrame(dados)\n",
    "df"
   ]
  },
  {
   "attachments": {},
   "cell_type": "markdown",
   "metadata": {},
   "source": [
    "# Estrutura de repetição"
   ]
  },
  {
   "cell_type": "code",
   "execution_count": 11,
   "metadata": {},
   "outputs": [
    {
     "name": "stdout",
     "output_type": "stream",
     "text": [
      "Nome: Alice - Idade: 25\n",
      "Nome: Maju - Idade: 30\n",
      "Nome: Douglas - Idade: 35\n",
      "Nome: Erika - Idade: 40\n",
      "Nome: Maria - Idade: 45\n"
     ]
    }
   ],
   "source": [
    "# Ex. 1\n",
    "\n",
    "i = 0\n",
    "\n",
    "while i < len(df):\n",
    "    print('Nome:', df['Nome'][i],'- Idade:', df['Idade'][i])\n",
    "    i +=1"
   ]
  },
  {
   "cell_type": "code",
   "execution_count": 15,
   "metadata": {},
   "outputs": [
    {
     "name": "stdout",
     "output_type": "stream",
     "text": [
      "Nome       Douglas\n",
      "Idade           35\n",
      "Salário       7000\n",
      "Name: 2, dtype: object\n",
      "Nome       Erika\n",
      "Idade         40\n",
      "Salário     8000\n",
      "Name: 3, dtype: object\n",
      "Nome       Maria\n",
      "Idade         45\n",
      "Salário     9000\n",
      "Name: 4, dtype: object\n"
     ]
    }
   ],
   "source": [
    "# Ex. 2\n",
    "\n",
    "i = 0\n",
    "while i < len(df):\n",
    "    if df['Salário'][i] > 6000:\n",
    "        print(df.iloc[i])\n",
    "    i += 1\n"
   ]
  },
  {
   "cell_type": "code",
   "execution_count": 16,
   "metadata": {},
   "outputs": [
    {
     "name": "stdout",
     "output_type": "stream",
     "text": [
      "Salário 5000\n",
      "Salário 6000\n",
      "Salário 7000\n",
      "Salário 8000\n",
      "Salário 9000\n"
     ]
    }
   ],
   "source": [
    "# Ex. 3\n",
    "\n",
    "for salario in df['Salário']:\n",
    "    print('Salário', salario)\n"
   ]
  },
  {
   "cell_type": "code",
   "execution_count": 20,
   "metadata": {},
   "outputs": [
    {
     "name": "stdout",
     "output_type": "stream",
     "text": [
      "A média de Idade : 35.0\n",
      "A média de Salário : 7000.0\n"
     ]
    }
   ],
   "source": [
    "# Ex. 4\n",
    "\n",
    "for coluna in df.select_dtypes(include = ['int', 'float']):\n",
    "    media = df[coluna].mean()\n",
    "    print('A média de', coluna, ':', media)"
   ]
  },
  {
   "cell_type": "code",
   "execution_count": 31,
   "metadata": {},
   "outputs": [
    {
     "name": "stdout",
     "output_type": "stream",
     "text": [
      "Contagem de valores únicos em Nome : Nome\n",
      "Alice      2\n",
      "Erika      2\n",
      "Douglas    1\n",
      "Name: count, dtype: int64\n",
      "Contagem de valores únicos em Carros : Carros\n",
      "BMW        3\n",
      "Ferrari    2\n",
      "Name: count, dtype: int64\n"
     ]
    }
   ],
   "source": [
    "# Ex. 5\n",
    "\n",
    "dados = {'Nome': ['Alice', 'Alice', 'Erika', 'Douglas', 'Erika'],\n",
    "         'Carros': ['BMW', 'BMW', 'BMW', 'Ferrari', 'Ferrari'],\n",
    "         'Salário': [5000, 6000, 7000, 8000, 9000]}\n",
    "\n",
    "df = pd.DataFrame(dados)\n",
    "\n",
    "\n",
    "for coluna in df.select_dtypes(include = ['object']):\n",
    "    contagem_valores = df[coluna].value_counts()\n",
    "    print('Contagem de valores únicos em', coluna, ':', contagem_valores)\n"
   ]
  },
  {
   "cell_type": "code",
   "execution_count": 30,
   "metadata": {},
   "outputs": [
    {
     "name": "stdout",
     "output_type": "stream",
     "text": [
      "Nome\n",
      "Alice      2\n",
      "Erika      2\n",
      "Douglas    1\n",
      "Name: count, dtype: int64\n",
      "Carros\n",
      "BMW        3\n",
      "Ferrari    2\n",
      "Name: count, dtype: int64\n"
     ]
    }
   ],
   "source": [
    "print(df['Nome'].value_counts())\n",
    "print(df['Carros'].value_counts())"
   ]
  },
  {
   "cell_type": "code",
   "execution_count": 33,
   "metadata": {},
   "outputs": [],
   "source": [
    "dados = {'Nome': ['Alice', 'Maju', 'Douglas', 'Erika', 'Maria'],\n",
    "         'Idade': [25, 30, 35, 40, 45],\n",
    "         'Salário': [5000, 6000, 7000, 8000, 9000]}"
   ]
  },
  {
   "cell_type": "code",
   "execution_count": 36,
   "metadata": {},
   "outputs": [
    {
     "name": "stdout",
     "output_type": "stream",
     "text": [
      "A média salários é: 5000.0\n",
      "5000.0\n",
      "A média salários é: 5500.0\n",
      "5500.0\n",
      "A média salários é: 6000.0\n",
      "6000.0\n",
      "A média salários é: 6500.0\n",
      "6500.0\n",
      "A média salários é: 7000.0\n",
      "7000.0\n"
     ]
    }
   ],
   "source": [
    "# Ex. 6\n",
    "\n",
    "soma_salarios = 0\n",
    "contador = 0\n",
    "i = 0\n",
    "\n",
    "while i < len(df):\n",
    "    soma_salarios += df['Salário'][i]\n",
    "    contador += 1\n",
    "    media_salarios = soma_salarios / contador\n",
    "    print('A média salários é:', media_salarios)\n",
    "    if media_salarios > 7000:\n",
    "        break\n",
    "    print(media_salarios)\n",
    "    i += 1 "
   ]
  },
  {
   "cell_type": "code",
   "execution_count": null,
   "metadata": {},
   "outputs": [],
   "source": [
    "# Calcular bônus para o funcionário usando a função def\n",
    "\n",
    "# Crie um programa para calcular bônus de 10% para os funcionários, mas mostre o bônus para cada funcionário.\n",
    "\n",
    "def calcular_bonus(salario):\n",
    "    return salario * 0.10\n",
    "\n",
    "calcular_bonus = []\n",
    "\n",
    "for indice, linha in df.iterrows():\n",
    "    calcular_bonus.append(calcular_bonus(df['Salário']))\n",
    "    print(calcular_bonus)\n",
    "    \n",
    "\n",
    "# Calcule a média idade e salário e retorne apenas um dataframe contendo as duas informações "
   ]
  },
  {
   "cell_type": "code",
   "execution_count": null,
   "metadata": {},
   "outputs": [],
   "source": [
    "media_idade = df['Idade'].mean()\n",
    "media_salario = df['Salário'].mean()\n",
    "\n",
    "df_final = pd.concat([media_idade, media_salario])\n",
    "df_final"
   ]
  }
 ],
 "metadata": {
  "kernelspec": {
   "display_name": "Python 3",
   "language": "python",
   "name": "python3"
  },
  "language_info": {
   "codemirror_mode": {
    "name": "ipython",
    "version": 3
   },
   "file_extension": ".py",
   "mimetype": "text/x-python",
   "name": "python",
   "nbconvert_exporter": "python",
   "pygments_lexer": "ipython3",
   "version": "3.11.4"
  },
  "orig_nbformat": 4
 },
 "nbformat": 4,
 "nbformat_minor": 2
}
