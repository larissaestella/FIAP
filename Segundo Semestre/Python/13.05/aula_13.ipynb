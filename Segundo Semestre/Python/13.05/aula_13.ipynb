{
 "cells": [
  {
   "attachments": {},
   "cell_type": "markdown",
   "metadata": {},
   "source": [
    "# Classes"
   ]
  },
  {
   "cell_type": "code",
   "execution_count": 5,
   "metadata": {},
   "outputs": [],
   "source": [
    "class MyClass:\n",
    "    MyVar = 0"
   ]
  },
  {
   "cell_type": "code",
   "execution_count": 6,
   "metadata": {},
   "outputs": [],
   "source": [
    "MyInstance = MyClass()"
   ]
  },
  {
   "cell_type": "code",
   "execution_count": 7,
   "metadata": {},
   "outputs": [
    {
     "data": {
      "text/plain": [
       "__main__.MyClass"
      ]
     },
     "execution_count": 7,
     "metadata": {},
     "output_type": "execute_result"
    }
   ],
   "source": [
    "MyInstance.__class__  # mostrar que a classe foi criada"
   ]
  },
  {
   "cell_type": "code",
   "execution_count": 8,
   "metadata": {},
   "outputs": [],
   "source": [
    "class MyClass:\n",
    "    def SayHello():\n",
    "        print(\"Hello world\")"
   ]
  },
  {
   "cell_type": "code",
   "execution_count": 9,
   "metadata": {},
   "outputs": [
    {
     "name": "stdout",
     "output_type": "stream",
     "text": [
      "Hello world\n"
     ]
    }
   ],
   "source": [
    "MyInstance = MyClass()\n",
    "MyClass.SayHello()"
   ]
  },
  {
   "attachments": {},
   "cell_type": "markdown",
   "metadata": {},
   "source": [
    "# Exemplo 1"
   ]
  },
  {
   "cell_type": "code",
   "execution_count": 22,
   "metadata": {},
   "outputs": [],
   "source": [
    "class MyClass:\n",
    "    Grettings = \"\"\n",
    "\n",
    "    def __init__(self, Name = \"there\"):\n",
    "        self.Grettings = Name + \"!\"\n",
    "\n",
    "    def SayHello(self):\n",
    "        print(\"Hello {0}\".format(self.Grettings))\n"
   ]
  },
  {
   "cell_type": "code",
   "execution_count": 23,
   "metadata": {},
   "outputs": [
    {
     "name": "stdout",
     "output_type": "stream",
     "text": [
      "Hello there!\n"
     ]
    }
   ],
   "source": [
    "MyInstance = MyClass()\n",
    "MyInstance.SayHello()"
   ]
  },
  {
   "cell_type": "code",
   "execution_count": 26,
   "metadata": {},
   "outputs": [
    {
     "name": "stdout",
     "output_type": "stream",
     "text": [
      "Hello Lari!\n"
     ]
    }
   ],
   "source": [
    "MyInstance2 = MyClass(\"Lari\")\n",
    "MyInstance2.SayHello()"
   ]
  },
  {
   "cell_type": "code",
   "execution_count": 28,
   "metadata": {},
   "outputs": [
    {
     "name": "stdout",
     "output_type": "stream",
     "text": [
      "Hello Harry\n"
     ]
    }
   ],
   "source": [
    "MyInstance.Grettings = \"Harry\"\n",
    "MyInstance.SayHello()"
   ]
  },
  {
   "attachments": {},
   "cell_type": "markdown",
   "metadata": {},
   "source": [
    "# Classe cachorro \n",
    "Nome e idade // \n",
    "Sentar e Rolar"
   ]
  },
  {
   "cell_type": "code",
   "execution_count": 35,
   "metadata": {},
   "outputs": [],
   "source": [
    "class Cachorro:\n",
    "\n",
    "    def __init__(self, nome, idade):\n",
    "        self.nome = nome\n",
    "        self.idade = idade\n",
    "\n",
    "    def sentar(self):\n",
    "        \"\"\"Simula um cachorro sentando\"\"\"\n",
    "        print(f'{self.nome} está sentado.')\n",
    "    \n",
    "    def rolar(self):\n",
    "        \"\"\"Simula um cachorro rolando\"\"\"\n",
    "        print(f'{self.nome} rolou.')\n"
   ]
  },
  {
   "cell_type": "code",
   "execution_count": 36,
   "metadata": {},
   "outputs": [
    {
     "name": "stdout",
     "output_type": "stream",
     "text": [
      "O nome do cachorro 1 é Luffy\n",
      "A idade do cachorro 1 é 4 anos\n",
      "O nome do cachorro 2 é Cersei\n",
      "A idade do cachorro 2 é 6 anos\n",
      "Luffy está sentado.\n",
      "Luffy rolou.\n"
     ]
    }
   ],
   "source": [
    "# criando múltiplas instâncias da  classe cachorro \n",
    "        \n",
    "cachorro1 = Cachorro(\"Luffy\", 4)\n",
    "cachorro2 = Cachorro(\"Cersei\", 6)\n",
    "\n",
    "# tentando as instâncias de cada cachorro\n",
    "\n",
    "print(f\"O nome do cachorro 1 é {cachorro1.nome}\") \n",
    "print(f\"A idade do cachorro 1 é {cachorro1.idade} anos\") \n",
    "\n",
    "print(f\"O nome do cachorro 2 é {cachorro2.nome}\") \n",
    "print(f\"A idade do cachorro 2 é {cachorro2.idade} anos\") \n",
    "\n",
    "\n",
    "cachorro1.sentar()\n",
    "cachorro1.rolar()\n"
   ]
  },
  {
   "attachments": {},
   "cell_type": "markdown",
   "metadata": {},
   "source": [
    "# Representação de uma conta "
   ]
  },
  {
   "cell_type": "code",
   "execution_count": 37,
   "metadata": {},
   "outputs": [],
   "source": [
    "class Conta:\n",
    "    \n",
    "    def __init__(self, quantia):\n",
    "        self.saldo = quantia\n",
    "\n",
    "    def deposito(self, quantia):\n",
    "        self.saldo = self.saldo + quantia\n",
    "        return self.saldo\n",
    "\n",
    "    def levantamento(self, quantia):\n",
    "        if self.saldo - quantia >= 0:\n",
    "            self.saldo = self.saldo - quantia\n",
    "            return self.saldo\n",
    "        else:\n",
    "            print(\"Saldo insuficiente.\")\n",
    "    \n",
    "    def consulta(self):\n",
    "        return self.saldo"
   ]
  },
  {
   "cell_type": "code",
   "execution_count": 40,
   "metadata": {},
   "outputs": [
    {
     "name": "stdout",
     "output_type": "stream",
     "text": [
      "Saldo inicial: 100\n",
      "Saldo após o depósito: 150\n",
      "Saldo após levantamento: 120\n",
      "Saldo insuficiente.\n"
     ]
    }
   ],
   "source": [
    "# Teste CONTA 1 \n",
    "\n",
    "conta1 = Conta(100)\n",
    "print(\"Saldo inicial:\", conta1.consulta())\n",
    "\n",
    "conta1.deposito(50)\n",
    "print(\"Saldo após o depósito:\", conta1.consulta())\n",
    "\n",
    "conta1.levantamento(30)\n",
    "print(\"Saldo após levantamento:\", conta1.consulta())\n",
    "\n",
    "conta1.levantamento(200)"
   ]
  },
  {
   "cell_type": "code",
   "execution_count": 45,
   "metadata": {},
   "outputs": [
    {
     "name": "stdout",
     "output_type": "stream",
     "text": [
      "Saldo inicial: 500\n",
      "Saldo após o depósito: 700\n",
      "Saldo após levantamento: 300\n"
     ]
    },
    {
     "data": {
      "text/plain": [
       "100"
      ]
     },
     "execution_count": 45,
     "metadata": {},
     "output_type": "execute_result"
    }
   ],
   "source": [
    "# Teste CONTA 2\n",
    "\n",
    "conta2 = Conta(500)\n",
    "print(\"Saldo inicial:\", conta2.consulta())\n",
    "\n",
    "conta2.deposito(200)\n",
    "print(\"Saldo após o depósito:\", conta2.consulta())\n",
    "\n",
    "conta2.levantamento(400)\n",
    "print(\"Saldo após levantamento:\", conta2.consulta())\n",
    "\n",
    "conta2.levantamento(200)"
   ]
  },
  {
   "attachments": {},
   "cell_type": "markdown",
   "metadata": {},
   "source": [
    "# Exercício 1 - Restaurante"
   ]
  },
  {
   "cell_type": "code",
   "execution_count": 49,
   "metadata": {},
   "outputs": [
    {
     "name": "stdout",
     "output_type": "stream",
     "text": [
      "Nome do restaurante: O restaurante da Maria\n",
      "Tipo de cozinha: Italiana\n"
     ]
    }
   ],
   "source": [
    "class Restaurante:\n",
    "\n",
    "    def __init__(self, restaurante_nome, cozinha_tipo):\n",
    "        self.restaurante_nome = restaurante_nome\n",
    "        self.cozinha_tipo = cozinha_tipo\n",
    "\n",
    "    def descricao_restaurante(self):\n",
    "        print(\"Nome do restaurante\", self.restaurante_nome)\n",
    "        print(\"Tipo de cozinha\", self.cozinha_tipo)\n",
    "\n",
    "    def open_restaurante(self):\n",
    "        print(f\"O restaurante {self.restaurante_nome} está aberto\")\n",
    "\n",
    "# Cria a instância da classe restaurante\n",
    "\n",
    "restaurante = Restaurante(\"O restaurante da Maria\", \"Italiana\")   \n",
    "    \n",
    "# Testa se os atributos foram atribuidos corretamente\n",
    "\n",
    "print(\"Nome do restaurante:\", restaurante.restaurante_nome)\n",
    "print(\"Tipo de cozinha:\", restaurante.cozinha_tipo)\n"
   ]
  },
  {
   "attachments": {},
   "cell_type": "markdown",
   "metadata": {},
   "source": [
    "\n",
    "# Exercício 2 - Veículo"
   ]
  },
  {
   "cell_type": "code",
   "execution_count": null,
   "metadata": {},
   "outputs": [],
   "source": [
    "class Veiculo:\n",
    "\n",
    "    def __init__(self, marca, modelo, ano):\n",
    "        self.marca = marca\n",
    "        self.modelo = modelo \n",
    "        self.ano = ano\n",
    "\n",
    "        "
   ]
  }
 ],
 "metadata": {
  "kernelspec": {
   "display_name": "Python 3",
   "language": "python",
   "name": "python3"
  },
  "language_info": {
   "codemirror_mode": {
    "name": "ipython",
    "version": 3
   },
   "file_extension": ".py",
   "mimetype": "text/x-python",
   "name": "python",
   "nbconvert_exporter": "python",
   "pygments_lexer": "ipython3",
   "version": "3.11.4"
  },
  "orig_nbformat": 4
 },
 "nbformat": 4,
 "nbformat_minor": 2
}
