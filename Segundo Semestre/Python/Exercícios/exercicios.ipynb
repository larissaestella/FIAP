{
 "cells": [
  {
   "cell_type": "markdown",
   "metadata": {},
   "source": [
    "# INSTALAÇÕES"
   ]
  },
  {
   "cell_type": "code",
   "execution_count": 4,
   "metadata": {},
   "outputs": [
    {
     "name": "stdout",
     "output_type": "stream",
     "text": [
      "Requirement already satisfied: numpy in c:\\users\\laris\\appdata\\local\\packages\\pythonsoftwarefoundation.python.3.11_qbz5n2kfra8p0\\localcache\\local-packages\\python311\\site-packages (1.26.2)Note: you may need to restart the kernel to use updated packages.\n",
      "\n"
     ]
    }
   ],
   "source": [
    "pip install numpy"
   ]
  },
  {
   "cell_type": "code",
   "execution_count": 5,
   "metadata": {},
   "outputs": [
    {
     "name": "stdout",
     "output_type": "stream",
     "text": [
      "Requirement already satisfied: pandas in c:\\users\\laris\\appdata\\local\\packages\\pythonsoftwarefoundation.python.3.11_qbz5n2kfra8p0\\localcache\\local-packages\\python311\\site-packages (2.1.3)\n",
      "Requirement already satisfied: numpy<2,>=1.23.2 in c:\\users\\laris\\appdata\\local\\packages\\pythonsoftwarefoundation.python.3.11_qbz5n2kfra8p0\\localcache\\local-packages\\python311\\site-packages (from pandas) (1.26.2)\n",
      "Requirement already satisfied: python-dateutil>=2.8.2 in c:\\users\\laris\\appdata\\local\\packages\\pythonsoftwarefoundation.python.3.11_qbz5n2kfra8p0\\localcache\\local-packages\\python311\\site-packages (from pandas) (2.8.2)\n",
      "Requirement already satisfied: pytz>=2020.1 in c:\\users\\laris\\appdata\\local\\packages\\pythonsoftwarefoundation.python.3.11_qbz5n2kfra8p0\\localcache\\local-packages\\python311\\site-packages (from pandas) (2023.3.post1)\n",
      "Requirement already satisfied: tzdata>=2022.1 in c:\\users\\laris\\appdata\\local\\packages\\pythonsoftwarefoundation.python.3.11_qbz5n2kfra8p0\\localcache\\local-packages\\python311\\site-packages (from pandas) (2023.3)\n",
      "Requirement already satisfied: six>=1.5 in c:\\users\\laris\\appdata\\local\\packages\\pythonsoftwarefoundation.python.3.11_qbz5n2kfra8p0\\localcache\\local-packages\\python311\\site-packages (from python-dateutil>=2.8.2->pandas) (1.16.0)\n",
      "Note: you may need to restart the kernel to use updated packages.\n"
     ]
    }
   ],
   "source": [
    "pip install pandas"
   ]
  },
  {
   "cell_type": "code",
   "execution_count": 6,
   "metadata": {},
   "outputs": [],
   "source": [
    "import numpy as np \n",
    "import pandas as pd"
   ]
  },
  {
   "cell_type": "markdown",
   "metadata": {},
   "source": [
    "# LISTA DE EXERCÍCIOS PARA O CP1 "
   ]
  },
  {
   "cell_type": "code",
   "execution_count": 37,
   "metadata": {},
   "outputs": [
    {
     "name": "stdout",
     "output_type": "stream",
     "text": [
      "Lista de 5 elementos numéricos: [1, 2, 3, 4, 5]\n",
      "\n",
      "Conversão de lista em uma tupla (1, 2, 3, 4, 5)\n",
      "\n",
      "Array a partir da tupla [1 2 3 4 5]\n",
      "\n",
      "A média dos elementos do array é: 3.0\n"
     ]
    }
   ],
   "source": [
    "# 1. Criação de uma lista e tupla combinada:\n",
    "\n",
    "# a) Crie uma lista de 5 elementos numéricos.\n",
    "\n",
    "lista_numerica = [1, 2, 3, 4, 5]\n",
    "print(\"Lista de 5 elementos numéricos:\", lista_numerica)\n",
    "\n",
    "# b) Converta essa lista em uma tupla.\n",
    "\n",
    "tupla = tuple(lista_numerica)\n",
    "print(\"\\nConversão de lista em uma tupla\", tupla)\n",
    "\n",
    "# c) Utilize NumPy para criar um array a partir da tupla.\n",
    "\n",
    "array_numpy = np.array(tupla)\n",
    "print(\"\\nArray a partir da tupla\", array_numpy)\n",
    "\n",
    "# d) Em seguida, calcule a média dos elementos desse array.\n",
    "\n",
    "media = np.mean(array_numpy)\n",
    "print(\"\\nA média dos elementos do array é:\", media)\n"
   ]
  },
  {
   "cell_type": "code",
   "execution_count": 39,
   "metadata": {},
   "outputs": [
    {
     "name": "stdout",
     "output_type": "stream",
     "text": [
      "0    Brasil\n",
      "1    Itália\n",
      "2    Grécia\n",
      "3    México\n",
      "4    Russia\n",
      "5     Japão\n",
      "dtype: object\n",
      "\n",
      " 0    213993437\n",
      "1     60367477\n",
      "2     10423054\n",
      "3    128932753\n",
      "4    145934462\n",
      "5    126476461\n",
      "dtype: int64\n",
      "\n",
      " Brasil    213993437\n",
      "Itália     60367477\n",
      "Grécia     10423054\n",
      "México    128932753\n",
      "Russia    145934462\n",
      "Japão     126476461\n",
      "dtype: int64\n",
      "\n",
      "A população média dos países listados é: 114354607.33333333\n"
     ]
    }
   ],
   "source": [
    "# 2. Operações com Pandas Series:\n",
    "\n",
    "# a) Crie uma Pandas Series a partir de uma lista de nomes de países.\n",
    "\n",
    "lista_paises = [\"Brasil\", \"Itália\", \"Grécia\", \"México\", \"Russia\", \"Japão\"]\n",
    "series_paises = pd.Series(lista_paises)\n",
    "print(series_paises)\n",
    "\n",
    "# b) Crie outra Pandas Series a partir de uma lista de populações correspondentes aos países.\n",
    "\n",
    "lista_populacao = [213993437, 60367477, 10423054, 128932753, 145934462, 126476461]\n",
    "series_populacao = pd.Series(lista_populacao)\n",
    "print(\"\\n\",series_populacao)\n",
    "\n",
    "# c) Utilize a primeira Series como índice da segunda.\n",
    "\n",
    "series_populacao.index = series_paises\n",
    "print(\"\\n\",series_populacao)\n",
    "\n",
    "# d) Calcule a população média dos países listados.\n",
    "\n",
    "populacao_media = series_populacao.mean()\n",
    "print(\"\\nA população média dos países listados é:\", populacao_media)\n",
    "\n"
   ]
  },
  {
   "cell_type": "code",
   "execution_count": 41,
   "metadata": {},
   "outputs": [
    {
     "name": "stdout",
     "output_type": "stream",
     "text": [
      "Lista de 10 números inteiros: [1, 2, 3, 4, 5, 6, 7, 8, 9, 10]\n",
      "\n",
      "Lista em um array NumPy: [ 1  2  3  4  5  6  7  8  9 10]\n",
      "\n",
      "O máximo dos elementos do array é: 10\n",
      "O mínimo dos elementos do array é: 1\n",
      "A média dos elementos do array é: 5.5\n"
     ]
    }
   ],
   "source": [
    "# 3. Manipulação de listas e tuplas com NumPy:\n",
    "\n",
    "# a) Crie uma lista de 10 números inteiros.\n",
    "\n",
    "lista_inteiros = [1, 2, 3, 4, 5, 6, 7, 8, 9, 10]\n",
    "print(\"Lista de 10 números inteiros:\", lista_inteiros)\n",
    "\n",
    "\n",
    "# b) Converta essa lista em um array NumPy.\n",
    "\n",
    "array_inteiros = np.array(lista_inteiros)\n",
    "print(\"\\nLista em um array NumPy:\", array_inteiros)\n",
    "\n",
    "\n",
    "# c) Utilize NumPy para encontrar o máximo, mínimo e média dos elementos do array\n",
    "\n",
    "maxino = np.max(array_inteiros)\n",
    "minimo = np.min(array_inteiros)\n",
    "media = np.mean(array_inteiros)\n",
    "\n",
    "print(\"\\nO máximo dos elementos do array é:\", maxino)\n",
    "print(\"O mínimo dos elementos do array é:\", minimo)\n",
    "print(\"A média dos elementos do array é:\", media)"
   ]
  },
  {
   "cell_type": "code",
   "execution_count": 45,
   "metadata": {},
   "outputs": [
    {
     "name": "stdout",
     "output_type": "stream",
     "text": [
      "Pandas Series 1:\n",
      "0    1\n",
      "1    2\n",
      "2    3\n",
      "3    4\n",
      "4    5\n",
      "dtype: int64\n",
      "\n",
      "Pandas Series 2:\n",
      "0     6\n",
      "1     7\n",
      "2     8\n",
      "3     9\n",
      "4    10\n",
      "dtype: int64\n",
      "\n",
      " 0     1\n",
      "1     2\n",
      "2     3\n",
      "3     4\n",
      "4     5\n",
      "0     6\n",
      "1     7\n",
      "2     8\n",
      "3     9\n",
      "4    10\n",
      "dtype: int64\n",
      "\n",
      "A média dos eslementos resultantes é: 5.5\n"
     ]
    }
   ],
   "source": [
    "# 4. Concatenação de Pandas Series:\n",
    "\n",
    "# a) Crie duas Pandas Series a partir de duas listas de números.\n",
    "\n",
    "lista1 = [1, 2, 3, 4, 5]\n",
    "lista2 = [6, 7, 8, 9, 10]\n",
    "\n",
    "serie1 = pd.Series(lista1)\n",
    "serie2 = pd.Series(lista2)\n",
    "\n",
    "print(\"Pandas Series 1:\")\n",
    "print(serie1)\n",
    "print(\"\\nPandas Series 2:\")\n",
    "print(serie2)\n",
    "\n",
    "# b) Concatene as duas Series.\n",
    "\n",
    "serie_concatenada = pd.concat([serie1, serie2])\n",
    "print(\"\\n\",serie_concatenada)\n",
    "\n",
    "# c) Em seguida, calcule a média dos elementos resultantes.\n",
    "\n",
    "media_concatenada = serie_concatenada.mean()\n",
    "print(\"\\nA média dos eslementos resultantes é:\", media_concatenada)"
   ]
  },
  {
   "cell_type": "code",
   "execution_count": 52,
   "metadata": {},
   "outputs": [
    {
     "name": "stdout",
     "output_type": "stream",
     "text": [
      "0    1\n",
      "1    2\n",
      "2    3\n",
      "3    4\n",
      "4    5\n",
      "dtype: int64\n",
      "\n",
      " [1 2 3 4 5]\n",
      "\n",
      " [ 2  4  6  8 10]\n",
      "\n",
      " 0     2\n",
      "1     4\n",
      "2     6\n",
      "3     8\n",
      "4    10\n",
      "dtype: int32\n"
     ]
    }
   ],
   "source": [
    "# 5. Operações entre Pandas Series e NumPy:\n",
    "\n",
    "# a) Crie uma Pandas Series a partir de uma lista de números.\n",
    "\n",
    "lista_numeros = [1, 2, 3, 4, 5]\n",
    "\n",
    "serie_numeros = pd.Series(lista_numeros)\n",
    "\n",
    "print(serie_numeros)\n",
    "\n",
    "# b) Converta essa Series em um array NumPy.\n",
    "\n",
    "serie_numeros = pd.Series(lista_numeros)\n",
    "\n",
    "array_numeros = serie_numeros.values\n",
    "print(\"\\n\",array_numeros)\n",
    "\n",
    "# c) Realize uma operação matemática (por exemplo, multiplicação por um escalar) no array NumPy.\n",
    "\n",
    "array_numeros = np.array(lista_numeros)\n",
    "\n",
    "resultado = array_numeros * 2  # Multiplicando por 2, por exemplo\n",
    "print(\"\\n\",resultado)\n",
    "\n",
    "# d) Converta o array resultante de volta para uma Pandas Series.\n",
    "\n",
    "resultado = np.array([2, 4, 6, 8, 10])\n",
    "\n",
    "serie_resultante = pd.Series(resultado)\n",
    "\n",
    "print(\"\\n\",serie_resultante)\n"
   ]
  },
  {
   "cell_type": "code",
   "execution_count": 53,
   "metadata": {},
   "outputs": [
    {
     "name": "stdout",
     "output_type": "stream",
     "text": [
      "Série Original:\n",
      "0    1\n",
      "1    2\n",
      "2    3\n",
      "3    4\n",
      "4    5\n",
      "dtype: int64\n",
      "\n",
      "Nova Série Resultante:\n",
      "0     2\n",
      "1     4\n",
      "2     6\n",
      "3     8\n",
      "4    10\n",
      "dtype: int64\n"
     ]
    }
   ],
   "source": [
    "# e) Exiba a nova Series e verifique se os elementos foram alterados conforme a operação realizada\n",
    "\n",
    "    # Exibindo a série original\n",
    "print(\"Série Original:\")\n",
    "print(serie_numeros)\n",
    "\n",
    "    # Convertendo a Pandas Series em um array NumPy e realizando a operação matemática (multiplicação por 2)\n",
    "resultado = serie_numeros.values * 2\n",
    "\n",
    "    # Convertendo o array NumPy de volta para uma Pandas Series\n",
    "serie_resultante = pd.Series(resultado)\n",
    "\n",
    "    # Exibindo a nova série resultante\n",
    "print(\"\\nNova Série Resultante:\")\n",
    "print(serie_resultante)"
   ]
  }
 ],
 "metadata": {
  "kernelspec": {
   "display_name": "Python 3",
   "language": "python",
   "name": "python3"
  },
  "language_info": {
   "codemirror_mode": {
    "name": "ipython",
    "version": 3
   },
   "file_extension": ".py",
   "mimetype": "text/x-python",
   "name": "python",
   "nbconvert_exporter": "python",
   "pygments_lexer": "ipython3",
   "version": "3.11.8"
  }
 },
 "nbformat": 4,
 "nbformat_minor": 2
}
