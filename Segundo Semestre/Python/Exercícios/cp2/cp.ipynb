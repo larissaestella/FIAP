{
 "cells": [
  {
   "cell_type": "code",
   "execution_count": 16,
   "metadata": {},
   "outputs": [
    {
     "name": "stdout",
     "output_type": "stream",
     "text": [
      "Collecting pandas\n",
      "  Downloading pandas-2.2.2-cp311-cp311-win_amd64.whl (11.6 MB)\n",
      "                                              0.0/11.6 MB ? eta -:--:--\n",
      "     -----                                    1.7/11.6 MB 55.5 MB/s eta 0:00:01\n",
      "     -----                                    1.7/11.6 MB 55.5 MB/s eta 0:00:01\n",
      "     -----                                    1.7/11.6 MB 55.5 MB/s eta 0:00:01\n",
      "     -----                                    1.7/11.6 MB 55.5 MB/s eta 0:00:01\n",
      "     -----                                    1.7/11.6 MB 55.5 MB/s eta 0:00:01\n",
      "     -----                                    1.7/11.6 MB 55.5 MB/s eta 0:00:01\n",
      "     -----                                    1.7/11.6 MB 55.5 MB/s eta 0:00:01\n",
      "     -----                                    1.7/11.6 MB 5.3 MB/s eta 0:00:02\n",
      "     -------                                  2.3/11.6 MB 5.5 MB/s eta 0:00:02\n",
      "     ----------                               3.0/11.6 MB 6.3 MB/s eta 0:00:02\n",
      "     ------------                             3.5/11.6 MB 6.8 MB/s eta 0:00:02\n",
      "     ------------                             3.6/11.6 MB 6.9 MB/s eta 0:00:02\n",
      "     ------------                             3.6/11.6 MB 6.9 MB/s eta 0:00:02\n",
      "     ------------                             3.6/11.6 MB 6.9 MB/s eta 0:00:02\n",
      "     ------------                             3.6/11.6 MB 6.9 MB/s eta 0:00:02\n",
      "     ------------                             3.6/11.6 MB 6.9 MB/s eta 0:00:02\n",
      "     ------------                             3.6/11.6 MB 6.9 MB/s eta 0:00:02\n",
      "     ------------                             3.6/11.6 MB 6.9 MB/s eta 0:00:02\n",
      "     ------------                             3.6/11.6 MB 6.9 MB/s eta 0:00:02\n",
      "     ------------                             3.6/11.6 MB 6.9 MB/s eta 0:00:02\n",
      "     ------------                             3.6/11.6 MB 6.9 MB/s eta 0:00:02\n",
      "     ------------                             3.6/11.6 MB 6.9 MB/s eta 0:00:02\n",
      "     ------------                             3.6/11.6 MB 6.9 MB/s eta 0:00:02\n",
      "     ------------                             3.6/11.6 MB 6.9 MB/s eta 0:00:02\n",
      "     ------------                             3.6/11.6 MB 6.9 MB/s eta 0:00:02\n",
      "     -------------                            3.8/11.6 MB 3.1 MB/s eta 0:00:03\n",
      "     --------------                           4.1/11.6 MB 3.2 MB/s eta 0:00:03\n",
      "     ---------------                          4.4/11.6 MB 3.3 MB/s eta 0:00:03\n",
      "     ----------------                         4.7/11.6 MB 3.5 MB/s eta 0:00:02\n",
      "     -----------------                        5.1/11.6 MB 3.6 MB/s eta 0:00:02\n",
      "     ------------------                       5.4/11.6 MB 3.8 MB/s eta 0:00:02\n",
      "     ------------------                       5.4/11.6 MB 3.8 MB/s eta 0:00:02\n",
      "     ------------------                       5.4/11.6 MB 3.8 MB/s eta 0:00:02\n",
      "     ------------------                       5.4/11.6 MB 3.8 MB/s eta 0:00:02\n",
      "     ------------------                       5.4/11.6 MB 3.8 MB/s eta 0:00:02\n",
      "     ------------------                       5.4/11.6 MB 3.2 MB/s eta 0:00:02\n",
      "     -------------------                      5.7/11.6 MB 3.3 MB/s eta 0:00:02\n",
      "     --------------------                     5.9/11.6 MB 3.3 MB/s eta 0:00:02\n",
      "     ---------------------                    6.2/11.6 MB 3.4 MB/s eta 0:00:02\n",
      "     ----------------------                   6.5/11.6 MB 3.5 MB/s eta 0:00:02\n",
      "     -----------------------                  6.9/11.6 MB 3.6 MB/s eta 0:00:02\n",
      "     ------------------------                 7.2/11.6 MB 3.6 MB/s eta 0:00:02\n",
      "     ------------------------                 7.3/11.6 MB 3.7 MB/s eta 0:00:02\n",
      "     ------------------------                 7.3/11.6 MB 3.7 MB/s eta 0:00:02\n",
      "     ------------------------                 7.3/11.6 MB 3.7 MB/s eta 0:00:02\n",
      "     ------------------------                 7.3/11.6 MB 3.7 MB/s eta 0:00:02\n",
      "     ------------------------                 7.3/11.6 MB 3.7 MB/s eta 0:00:02\n",
      "     -------------------------                7.4/11.6 MB 3.3 MB/s eta 0:00:02\n",
      "     --------------------------               7.7/11.6 MB 3.3 MB/s eta 0:00:02\n",
      "     ---------------------------              8.0/11.6 MB 3.4 MB/s eta 0:00:02\n",
      "     ----------------------------             8.2/11.6 MB 3.4 MB/s eta 0:00:01\n",
      "     -----------------------------            8.4/11.6 MB 3.5 MB/s eta 0:00:01\n",
      "     -----------------------------            8.7/11.6 MB 3.5 MB/s eta 0:00:01\n",
      "     -------------------------------          9.1/11.6 MB 3.6 MB/s eta 0:00:01\n",
      "     -------------------------------          9.1/11.6 MB 3.6 MB/s eta 0:00:01\n",
      "     -------------------------------          9.1/11.6 MB 3.6 MB/s eta 0:00:01\n",
      "     -------------------------------          9.1/11.6 MB 3.6 MB/s eta 0:00:01\n",
      "     -------------------------------          9.1/11.6 MB 3.6 MB/s eta 0:00:01\n",
      "     -------------------------------          9.1/11.6 MB 3.3 MB/s eta 0:00:01\n",
      "     -------------------------------          9.2/11.6 MB 3.3 MB/s eta 0:00:01\n",
      "     --------------------------------         9.3/11.6 MB 3.3 MB/s eta 0:00:01\n",
      "     ---------------------------------        9.6/11.6 MB 3.3 MB/s eta 0:00:01\n",
      "     ----------------------------------       9.9/11.6 MB 3.3 MB/s eta 0:00:01\n",
      "     -----------------------------------      10.3/11.6 MB 3.4 MB/s eta 0:00:01\n",
      "     -------------------------------------    10.8/11.6 MB 3.4 MB/s eta 0:00:01\n",
      "     -------------------------------------    11.0/11.6 MB 3.4 MB/s eta 0:00:01\n",
      "     -------------------------------------    11.0/11.6 MB 3.4 MB/s eta 0:00:01\n",
      "     -------------------------------------    11.0/11.6 MB 3.4 MB/s eta 0:00:01\n",
      "     -------------------------------------    11.0/11.6 MB 3.4 MB/s eta 0:00:01\n",
      "     -------------------------------------    11.0/11.6 MB 3.4 MB/s eta 0:00:01\n",
      "     -------------------------------------    11.0/11.6 MB 3.4 MB/s eta 0:00:01\n",
      "     -------------------------------------    11.0/11.6 MB 3.1 MB/s eta 0:00:01\n",
      "     -------------------------------------    11.0/11.6 MB 3.1 MB/s eta 0:00:01\n",
      "     --------------------------------------   11.2/11.6 MB 3.0 MB/s eta 0:00:01\n",
      "     ---------------------------------------  11.5/11.6 MB 2.9 MB/s eta 0:00:01\n",
      "     ---------------------------------------  11.6/11.6 MB 2.9 MB/s eta 0:00:01\n",
      "     ---------------------------------------  11.6/11.6 MB 2.9 MB/s eta 0:00:01\n",
      "     ---------------------------------------- 11.6/11.6 MB 2.8 MB/s eta 0:00:00\n",
      "Collecting numpy>=1.23.2 (from pandas)\n",
      "  Downloading numpy-1.26.4-cp311-cp311-win_amd64.whl (15.8 MB)\n",
      "                                              0.0/15.8 MB ? eta -:--:--\n",
      "                                              0.3/15.8 MB 9.6 MB/s eta 0:00:02\n",
      "     -                                        0.6/15.8 MB 7.4 MB/s eta 0:00:03\n",
      "     --                                       1.0/15.8 MB 7.5 MB/s eta 0:00:02\n",
      "     ---                                      1.2/15.8 MB 7.1 MB/s eta 0:00:03\n",
      "     ---                                      1.5/15.8 MB 6.9 MB/s eta 0:00:03\n",
      "     ----                                     1.8/15.8 MB 6.9 MB/s eta 0:00:03\n",
      "     ----                                     1.8/15.8 MB 6.9 MB/s eta 0:00:03\n",
      "     ----                                     1.8/15.8 MB 6.9 MB/s eta 0:00:03\n",
      "     ----                                     1.8/15.8 MB 6.9 MB/s eta 0:00:03\n",
      "     ----                                     1.8/15.8 MB 6.9 MB/s eta 0:00:03\n",
      "     ----                                     1.8/15.8 MB 6.9 MB/s eta 0:00:03\n",
      "     ----                                     1.8/15.8 MB 6.9 MB/s eta 0:00:03\n",
      "     ----                                     1.8/15.8 MB 6.9 MB/s eta 0:00:03\n",
      "     ----                                     1.8/15.8 MB 6.9 MB/s eta 0:00:03\n",
      "     ----                                     1.8/15.8 MB 6.9 MB/s eta 0:00:03\n",
      "     ----                                     1.8/15.8 MB 6.9 MB/s eta 0:00:03\n",
      "     ----                                     1.8/15.8 MB 6.9 MB/s eta 0:00:03\n",
      "     ----                                     1.8/15.8 MB 6.9 MB/s eta 0:00:03\n",
      "     -----                                    2.1/15.8 MB 2.2 MB/s eta 0:00:07\n",
      "     -----                                    2.3/15.8 MB 2.3 MB/s eta 0:00:06\n",
      "     ------                                   2.6/15.8 MB 2.5 MB/s eta 0:00:06\n",
      "     -------                                  3.1/15.8 MB 2.9 MB/s eta 0:00:05\n",
      "     ---------                                3.7/15.8 MB 3.3 MB/s eta 0:00:04\n",
      "     ---------                                3.7/15.8 MB 3.1 MB/s eta 0:00:04\n",
      "     ----------                               4.1/15.8 MB 3.3 MB/s eta 0:00:04\n",
      "     ------------                             4.9/15.8 MB 3.7 MB/s eta 0:00:03\n",
      "     -------------                            5.5/15.8 MB 4.0 MB/s eta 0:00:03\n",
      "     -------------                            5.5/15.8 MB 4.0 MB/s eta 0:00:03\n",
      "     -------------                            5.5/15.8 MB 4.0 MB/s eta 0:00:03\n",
      "     -------------                            5.5/15.8 MB 4.0 MB/s eta 0:00:03\n",
      "     -------------                            5.5/15.8 MB 4.0 MB/s eta 0:00:03\n",
      "     -------------                            5.5/15.8 MB 4.0 MB/s eta 0:00:03\n",
      "     -------------                            5.5/15.8 MB 4.0 MB/s eta 0:00:03\n",
      "     -------------                            5.5/15.8 MB 4.0 MB/s eta 0:00:03\n",
      "     -------------                            5.5/15.8 MB 4.0 MB/s eta 0:00:03\n",
      "     -------------                            5.5/15.8 MB 4.0 MB/s eta 0:00:03\n",
      "     -------------                            5.5/15.8 MB 4.0 MB/s eta 0:00:03\n",
      "     -------------                            5.5/15.8 MB 4.0 MB/s eta 0:00:03\n",
      "     -------------                            5.5/15.8 MB 4.0 MB/s eta 0:00:03\n",
      "     -------------                            5.5/15.8 MB 4.0 MB/s eta 0:00:03\n",
      "     --------------                           5.6/15.8 MB 2.7 MB/s eta 0:00:04\n",
      "     ---------------                          6.0/15.8 MB 2.8 MB/s eta 0:00:04\n",
      "     ----------------                         6.3/15.8 MB 2.9 MB/s eta 0:00:04\n",
      "     -----------------                        6.8/15.8 MB 3.1 MB/s eta 0:00:03\n",
      "     ------------------                       7.1/15.8 MB 3.2 MB/s eta 0:00:03\n",
      "     ------------------                       7.4/15.8 MB 3.2 MB/s eta 0:00:03\n",
      "     ------------------                       7.4/15.8 MB 3.2 MB/s eta 0:00:03\n",
      "     ------------------                       7.4/15.8 MB 3.2 MB/s eta 0:00:03\n",
      "     ------------------                       7.4/15.8 MB 3.2 MB/s eta 0:00:03\n",
      "     ------------------                       7.4/15.8 MB 3.2 MB/s eta 0:00:03\n",
      "     ------------------                       7.4/15.8 MB 3.2 MB/s eta 0:00:03\n",
      "     ------------------                       7.4/15.8 MB 3.2 MB/s eta 0:00:03\n",
      "     ------------------                       7.4/15.8 MB 3.2 MB/s eta 0:00:03\n",
      "     ------------------                       7.4/15.8 MB 3.2 MB/s eta 0:00:03\n",
      "     ------------------                       7.4/15.8 MB 3.2 MB/s eta 0:00:03\n",
      "     ------------------                       7.4/15.8 MB 3.2 MB/s eta 0:00:03\n",
      "     ------------------                       7.4/15.8 MB 3.2 MB/s eta 0:00:03\n",
      "     ------------------                       7.4/15.8 MB 3.2 MB/s eta 0:00:03\n",
      "     ------------------                       7.4/15.8 MB 3.2 MB/s eta 0:00:03\n",
      "     -------------------                      7.5/15.8 MB 2.5 MB/s eta 0:00:04\n",
      "     -------------------                      7.8/15.8 MB 2.6 MB/s eta 0:00:04\n",
      "     --------------------                     8.1/15.8 MB 2.6 MB/s eta 0:00:03\n",
      "     ---------------------                    8.4/15.8 MB 2.7 MB/s eta 0:00:03\n",
      "     ----------------------                   8.8/15.8 MB 2.8 MB/s eta 0:00:03\n",
      "     -----------------------                  9.2/15.8 MB 2.9 MB/s eta 0:00:03\n",
      "     -----------------------                  9.2/15.8 MB 2.9 MB/s eta 0:00:03\n",
      "     -----------------------                  9.2/15.8 MB 2.9 MB/s eta 0:00:03\n",
      "     -----------------------                  9.2/15.8 MB 2.9 MB/s eta 0:00:03\n",
      "     -----------------------                  9.2/15.8 MB 2.9 MB/s eta 0:00:03\n",
      "     -----------------------                  9.2/15.8 MB 2.9 MB/s eta 0:00:03\n",
      "     -----------------------                  9.3/15.8 MB 2.6 MB/s eta 0:00:03\n",
      "     -----------------------                  9.4/15.8 MB 2.6 MB/s eta 0:00:03\n",
      "     ------------------------                 9.8/15.8 MB 2.7 MB/s eta 0:00:03\n",
      "     --------------------------               10.5/15.8 MB 2.8 MB/s eta 0:00:02\n",
      "     ----------------------------             11.1/15.8 MB 2.9 MB/s eta 0:00:02\n",
      "     ----------------------------             11.1/15.8 MB 2.9 MB/s eta 0:00:02\n",
      "     ----------------------------             11.1/15.8 MB 2.9 MB/s eta 0:00:02\n",
      "     ----------------------------             11.1/15.8 MB 2.9 MB/s eta 0:00:02\n",
      "     ----------------------------             11.1/15.8 MB 2.9 MB/s eta 0:00:02\n",
      "     ----------------------------             11.1/15.8 MB 2.9 MB/s eta 0:00:02\n",
      "     ----------------------------             11.1/15.8 MB 2.9 MB/s eta 0:00:02\n",
      "     ----------------------------             11.1/15.8 MB 2.9 MB/s eta 0:00:02\n",
      "     ----------------------------             11.1/15.8 MB 2.9 MB/s eta 0:00:02\n",
      "     ----------------------------             11.1/15.8 MB 2.9 MB/s eta 0:00:02\n",
      "     ----------------------------             11.1/15.8 MB 2.9 MB/s eta 0:00:02\n",
      "     ----------------------------             11.1/15.8 MB 2.9 MB/s eta 0:00:02\n",
      "     ----------------------------             11.1/15.8 MB 2.9 MB/s eta 0:00:02\n",
      "     ----------------------------             11.1/15.8 MB 2.9 MB/s eta 0:00:02\n",
      "     ----------------------------             11.1/15.8 MB 2.9 MB/s eta 0:00:02\n",
      "     -----------------------------            11.5/15.8 MB 2.4 MB/s eta 0:00:02\n",
      "     ------------------------------           11.9/15.8 MB 2.5 MB/s eta 0:00:02\n",
      "     -------------------------------          12.4/15.8 MB 2.9 MB/s eta 0:00:02\n",
      "     --------------------------------         12.8/15.8 MB 2.9 MB/s eta 0:00:02\n",
      "     --------------------------------         12.9/15.8 MB 2.9 MB/s eta 0:00:01\n",
      "     --------------------------------         12.9/15.8 MB 2.9 MB/s eta 0:00:01\n",
      "     --------------------------------         12.9/15.8 MB 2.9 MB/s eta 0:00:01\n",
      "     --------------------------------         12.9/15.8 MB 2.9 MB/s eta 0:00:01\n",
      "     --------------------------------         12.9/15.8 MB 2.9 MB/s eta 0:00:01\n",
      "     --------------------------------         12.9/15.8 MB 2.9 MB/s eta 0:00:01\n",
      "     --------------------------------         13.0/15.8 MB 2.7 MB/s eta 0:00:02\n",
      "     ---------------------------------        13.3/15.8 MB 2.7 MB/s eta 0:00:01\n",
      "     ----------------------------------       13.7/15.8 MB 2.7 MB/s eta 0:00:01\n",
      "     ----------------------------------       13.8/15.8 MB 2.7 MB/s eta 0:00:01\n",
      "     -----------------------------------      14.1/15.8 MB 2.7 MB/s eta 0:00:01\n",
      "     ------------------------------------     14.5/15.8 MB 2.7 MB/s eta 0:00:01\n",
      "     -------------------------------------    14.7/15.8 MB 2.7 MB/s eta 0:00:01\n",
      "     -------------------------------------    14.8/15.8 MB 2.7 MB/s eta 0:00:01\n",
      "     -------------------------------------    14.8/15.8 MB 2.7 MB/s eta 0:00:01\n",
      "     -------------------------------------    14.8/15.8 MB 2.7 MB/s eta 0:00:01\n",
      "     -------------------------------------    14.8/15.8 MB 2.7 MB/s eta 0:00:01\n",
      "     -------------------------------------    14.8/15.8 MB 2.5 MB/s eta 0:00:01\n",
      "     -------------------------------------    15.0/15.8 MB 2.5 MB/s eta 0:00:01\n",
      "     --------------------------------------   15.1/15.8 MB 2.5 MB/s eta 0:00:01\n",
      "     --------------------------------------   15.3/15.8 MB 2.5 MB/s eta 0:00:01\n",
      "     ---------------------------------------  15.4/15.8 MB 2.4 MB/s eta 0:00:01\n",
      "     ---------------------------------------  15.8/15.8 MB 2.9 MB/s eta 0:00:01\n",
      "     ---------------------------------------  15.8/15.8 MB 2.9 MB/s eta 0:00:01\n",
      "     ---------------------------------------  15.8/15.8 MB 2.9 MB/s eta 0:00:01\n",
      "     ---------------------------------------- 15.8/15.8 MB 2.8 MB/s eta 0:00:00\n",
      "Requirement already satisfied: python-dateutil>=2.8.2 in c:\\python311\\lib\\site-packages (from pandas) (2.8.2)\n",
      "Collecting pytz>=2020.1 (from pandas)\n",
      "  Downloading pytz-2024.1-py2.py3-none-any.whl (505 kB)\n",
      "                                              0.0/505.5 kB ? eta -:--:--\n",
      "     --------------------------------       430.1/505.5 kB 8.9 MB/s eta 0:00:01\n",
      "     -------------------------------------- 505.5/505.5 kB 6.3 MB/s eta 0:00:00\n",
      "Collecting tzdata>=2022.7 (from pandas)\n",
      "  Downloading tzdata-2024.1-py2.py3-none-any.whl (345 kB)\n",
      "                                              0.0/345.4 kB ? eta -:--:--\n",
      "     --------------------------------       297.0/345.4 kB 6.1 MB/s eta 0:00:01\n",
      "     -------------------------------------- 345.4/345.4 kB 5.3 MB/s eta 0:00:00\n",
      "Requirement already satisfied: six>=1.5 in c:\\python311\\lib\\site-packages (from python-dateutil>=2.8.2->pandas) (1.16.0)\n",
      "Installing collected packages: pytz, tzdata, numpy, pandas\n",
      "Successfully installed numpy-1.26.4 pandas-2.2.2 pytz-2024.1 tzdata-2024.1\n",
      "Note: you may need to restart the kernel to use updated packages.\n"
     ]
    },
    {
     "name": "stderr",
     "output_type": "stream",
     "text": [
      "\n",
      "[notice] A new release of pip is available: 23.1.2 -> 24.0\n",
      "[notice] To update, run: python.exe -m pip install --upgrade pip\n"
     ]
    }
   ],
   "source": [
    "pip install pandas"
   ]
  },
  {
   "cell_type": "code",
   "execution_count": 17,
   "metadata": {},
   "outputs": [
    {
     "name": "stdout",
     "output_type": "stream",
     "text": [
      "Requirement already satisfied: numpy in c:\\python311\\lib\\site-packages (1.26.4)\n",
      "Note: you may need to restart the kernel to use updated packages.\n"
     ]
    },
    {
     "name": "stderr",
     "output_type": "stream",
     "text": [
      "\n",
      "[notice] A new release of pip is available: 23.1.2 -> 24.0\n",
      "[notice] To update, run: python.exe -m pip install --upgrade pip\n"
     ]
    }
   ],
   "source": [
    "pip install numpy"
   ]
  },
  {
   "cell_type": "code",
   "execution_count": 18,
   "metadata": {},
   "outputs": [],
   "source": [
    "import pandas as pd\n",
    "import numpy as np"
   ]
  },
  {
   "attachments": {},
   "cell_type": "markdown",
   "metadata": {},
   "source": [
    "# Ex 1"
   ]
  },
  {
   "cell_type": "code",
   "execution_count": 31,
   "metadata": {},
   "outputs": [
    {
     "name": "stdout",
     "output_type": "stream",
     "text": [
      "Média do Funcionário 1: 7.5\n",
      "Média do Funcionário 2: 6.6\n"
     ]
    }
   ],
   "source": [
    "#Exercicio 1 - Cálculo de Desempenho de Funcionários\n",
    "\n",
    "def calcular_media_desempenho(notas):\n",
    "    notas_validas = list(filter(lambda nota: nota >= 0, notas))\n",
    "    media_desempenho = sum(notas_validas) / len(notas_validas)\n",
    "    return media_desempenho\n",
    "notas_funcionario1 = [8, 7, 6, -2, 9]\n",
    "notas_funcionario2 = [6, 5, 7, 8, 7]\n",
    "\n",
    "media_funcionario1 = calcular_media_desempenho(notas_funcionario1)\n",
    "media_funcionario2 = calcular_media_desempenho(notas_funcionario2)\n",
    "print(\"Média do Funcionário 1:\", media_funcionario1)\n",
    "print(\"Média do Funcionário 2:\", media_funcionario2)\n"
   ]
  },
  {
   "attachments": {},
   "cell_type": "markdown",
   "metadata": {},
   "source": [
    "# Ex 2"
   ]
  },
  {
   "cell_type": "code",
   "execution_count": 2,
   "metadata": {},
   "outputs": [
    {
     "name": "stdout",
     "output_type": "stream",
     "text": [
      "{'Roupas': 39.99, 'Calçados': 99.99, 'Acessórios': 14.989999999999998}\n"
     ]
    }
   ],
   "source": [
    "# Exercício 2 - Classificação de Produtos \n",
    "\n",
    "def calcular_media_preco_por_categoria(produtos):\n",
    "    categorias = {}\n",
    "    for produto in produtos:\n",
    "        categoria = produto['categoria']\n",
    "        preco = produto['preco']\n",
    "        if categoria in categorias:\n",
    "            categorias[categoria].append(preco)\n",
    "        else:\n",
    "            categorias[categoria] = [preco]\n",
    "    media_por_categoria = {categoria: sum(preco) / len(preco) for categoria, preco in categorias.items()}\n",
    "    return media_por_categoria\n",
    "produtos = [\n",
    "    {'nome': 'Camiseta', 'categoria': 'Roupas', 'preco': 29.99},\n",
    "    {'nome': 'Calça', 'categoria': 'Roupas', 'preco': 49.99},\n",
    "    {'nome': 'Tênis', 'categoria': 'Calçados', 'preco': 99.99},\n",
    "    {'nome': 'Meia', 'categoria': 'Acessórios', 'preco': 9.99},\n",
    "    {'nome': 'Boné', 'categoria': 'Acessórios', 'preco': 19.99}\n",
    "]\n",
    "media_preco_por_categoria = calcular_media_preco_por_categoria(produtos)\n",
    "print(media_preco_por_categoria)\n"
   ]
  },
  {
   "attachments": {},
   "cell_type": "markdown",
   "metadata": {},
   "source": [
    "# Ex 3"
   ]
  },
  {
   "cell_type": "code",
   "execution_count": 9,
   "metadata": {},
   "outputs": [
    {
     "name": "stdout",
     "output_type": "stream",
     "text": [
      "{'tempo': 2, 'está': 1, 'agradável': 1, 'passear': 2, 'curtir.': 2, 'parque': 2, 'é': 1, 'um': 1, 'ótimo': 1, 'lugar': 1, 'as': 1, 'pessoas': 1, 'gostam': 1, 'no': 1, 'agradável.': 1}\n"
     ]
    }
   ],
   "source": [
    "# Exercício 3 - Análise de Texto\n",
    "\n",
    "def analise_texto(textos):\n",
    "    palavras_comuns = [\"o\", \"a\", \"de\", \"e\", \"para\", \"com\"] # Palavras comuns a serem removidas\n",
    "    frequencia_palavras = {}\n",
    "    for texto in textos:\n",
    "        palavras = texto.split()  # Separar as palavras de cada frase\n",
    "        for palavra in palavras:\n",
    "            palavra = palavra.lower()\n",
    "            if palavra not in palavras_comuns: # Remover palavras comuns\n",
    "                if palavra in frequencia_palavras: # Contar a frequência de cada palavra\n",
    "                    frequencia_palavras[palavra] += 1\n",
    "                else:\n",
    "                    frequencia_palavras[palavra] = 1\n",
    "    return frequencia_palavras\n",
    "textos = [\n",
    "    \"O tempo está agradável para passear e curtir.\",\n",
    "    \"O parque é um ótimo lugar para curtir.\",\n",
    "    \"As pessoas gostam de passear no parque com o tempo agradável.\"\n",
    "]\n",
    "frequencia = analise_texto(textos)\n",
    "print(frequencia)"
   ]
  },
  {
   "attachments": {},
   "cell_type": "markdown",
   "metadata": {},
   "source": [
    "# Ex. 4"
   ]
  },
  {
   "cell_type": "code",
   "execution_count": 70,
   "metadata": {},
   "outputs": [
    {
     "name": "stdout",
     "output_type": "stream",
     "text": [
      "Mês 1:\n",
      "Vendas: 10\n",
      "Reposições: 5\n",
      "Estoque final: 95\n",
      "\n",
      "Mês 2:\n",
      "Vendas: 15\n",
      "Reposições: 7\n",
      "Estoque final: 87\n",
      "\n",
      "Mês 3:\n",
      "Vendas: 8\n",
      "Reposições: 6\n",
      "Estoque final: 85\n",
      "\n",
      "Mês 4:\n",
      "Vendas: 12\n",
      "Reposições: 5\n",
      "Estoque final: 78\n",
      "\n",
      "Estoque final: 78\n"
     ]
    }
   ],
   "source": [
    "# Exercício 4 - Simulação de Estoque \n",
    "\n",
    "def simular_estoque(vendas, reposicoes, estoque_inicial):\n",
    "   estoque_atual = estoque_inicial\n",
    "   for mes, venda, reposicao in zip(range(1, len(vendas) + 1), vendas, reposicoes):\n",
    "       estoque_atual -= venda\n",
    "       estoque_atual += reposicao\n",
    "       print(f\"Mês {mes}:\")\n",
    "       print(f\"Vendas: {venda}\")\n",
    "       print(f\"Reposições: {reposicao}\")\n",
    "       print(f\"Estoque final: {estoque_atual}\\n\")\n",
    "   return estoque_atual\n",
    "\n",
    "vendas = [10, 15, 8, 12]  # Lista de vendas\n",
    "reposicoes = [5, 7, 6, 5]  # Lista de reposições\n",
    "estoque_inicial = 100  # Estoque inicial\n",
    "estoque_final = simular_estoque(vendas, reposicoes, estoque_inicial)\n",
    "print(f\"Estoque final: {estoque_final}\")"
   ]
  },
  {
   "cell_type": "code",
   "execution_count": 60,
   "metadata": {},
   "outputs": [
    {
     "name": "stdout",
     "output_type": "stream",
     "text": [
      "Mês 2: Estoque = 95\n",
      "Mês 3: Estoque = 87\n",
      "Mês 4: Estoque = 85\n",
      "Mês 5: Estoque = 78\n",
      "Estoque Atual: 78\n"
     ]
    }
   ],
   "source": [
    "# # Exercício 4 - Simulação de Estoque \n",
    "\n",
    "# def novo_estoque(estoque, vendas, reposicoes):\n",
    "#     return estoque + reposicoes - vendas\n",
    "\n",
    "# def simula_estoque(vendas, reposicoes, estoque_inicial):\n",
    "#     estoque = estoque_inicial\n",
    "#     for i in range(len(vendas)):\n",
    "#         estoque = novo_estoque(estoque, vendas[i], reposicoes[i])\n",
    "#         print(f\"Mês {i+2}: Estoque = {estoque}\")\n",
    "\n",
    "# vendas = [10, 15, 8, 12]\n",
    "# reposicoes = [5, 7, 6, 5]\n",
    "# estoque_inicial = 100\n",
    "\n",
    "# simula_estoque(vendas, reposicoes, estoque_inicial)\n",
    "\n",
    "# estoque_final = simular_estoque(vendas, reposicoes, estoque_inicial)\n",
    "# print(\"Estoque Atual:\", estoque_final)"
   ]
  },
  {
   "cell_type": "code",
   "execution_count": 32,
   "metadata": {},
   "outputs": [
    {
     "name": "stdout",
     "output_type": "stream",
     "text": [
      "Estoque Final: 78\n"
     ]
    }
   ],
   "source": [
    "# # Exercício 4 - Simulação de Estoque \n",
    "\n",
    "# def simular_estoque(vendas, reposicoes, estoque_inicial):\n",
    "#     estoque_atual = estoque_inicial\n",
    "#     for venda, reposicao in zip(vendas, reposicoes):\n",
    "#         estoque_atual -= venda\n",
    "#         estoque_atual += reposicao\n",
    "#     return estoque_atual\n",
    "# vendas = [10, 15, 8, 12]\n",
    "# reposicoes = [5, 7, 6, 5]\n",
    "# estoque_inicial = 100\n",
    "# estoque_final = simular_estoque(vendas, reposicoes, estoque_inicial)\n",
    "# print(\"Estoque Final:\", estoque_final)"
   ]
  },
  {
   "attachments": {},
   "cell_type": "markdown",
   "metadata": {},
   "source": [
    "# Ex 5"
   ]
  },
  {
   "cell_type": "code",
   "execution_count": 61,
   "metadata": {},
   "outputs": [
    {
     "data": {
      "text/plain": [
       "{'salarios': 5575.0, 'aluguel': 1550.0, 'fornecedores': 2150.0}"
      ]
     },
     "execution_count": 61,
     "metadata": {},
     "output_type": "execute_result"
    }
   ],
   "source": [
    "# Exercício 5 - Estimativa de Despesas\n",
    "\n",
    "def calcular_media_despesas(categorias):\n",
    "   media_despesas = {categoria: (lambda valores: sum(valores) / len(valores))(valores) for categoria, valores in categorias.items()}\n",
    "   return media_despesas\n",
    "categorias = {\n",
    "   'salarios': [5000, 5500, 6000, 5800],\n",
    "   'aluguel': [1500, 1500, 1600, 1600],\n",
    "   'fornecedores': [2000, 2200, 2300, 2100]\n",
    "}\n",
    "media_por_categoria = calcular_media_despesas(categorias)\n",
    "media_por_categoria"
   ]
  },
  {
   "attachments": {},
   "cell_type": "markdown",
   "metadata": {},
   "source": [
    "# Ex 6"
   ]
  },
  {
   "cell_type": "code",
   "execution_count": 12,
   "metadata": {},
   "outputs": [
    {
     "name": "stdout",
     "output_type": "stream",
     "text": [
      "Raiz x1: 2.0\n",
      "Raiz x2: 1.0\n"
     ]
    }
   ],
   "source": [
    "# Exercício 6 - Raizes Quadraticas\n",
    "\n",
    "def calcular_raizes_quadraticas(a, b, c):\n",
    "    discriminante = b**2 - 4*a*c\n",
    "    raiz_discriminante = discriminante**0.5\n",
    "    calcular_x1_x2 = lambda a, b, c, raiz_discriminante: (\n",
    "        (-b + raiz_discriminante) / (2*a),\n",
    "        (-b - raiz_discriminante) / (2*a)\n",
    "    )\n",
    "    return calcular_x1_x2(a, b, c, raiz_discriminante)\n",
    "raizes = calcular_raizes_quadraticas(1, -3, 2)\n",
    "print(\"Raiz x1:\", raizes[0])\n",
    "print(\"Raiz x2:\", raizes[1])"
   ]
  },
  {
   "attachments": {},
   "cell_type": "markdown",
   "metadata": {},
   "source": [
    "# Ex 7"
   ]
  },
  {
   "cell_type": "code",
   "execution_count": null,
   "metadata": {},
   "outputs": [],
   "source": [
    "# # Exercício 7 - V ou F\n",
    "\n",
    "# a) correto\n",
    "# b) correto\n",
    "# c) incorreto\n",
    "# d) incorreto\n",
    "# e) correto"
   ]
  }
 ],
 "metadata": {
  "kernelspec": {
   "display_name": "Python 3",
   "language": "python",
   "name": "python3"
  },
  "language_info": {
   "codemirror_mode": {
    "name": "ipython",
    "version": 3
   },
   "file_extension": ".py",
   "mimetype": "text/x-python",
   "name": "python",
   "nbconvert_exporter": "python",
   "pygments_lexer": "ipython3",
   "version": "3.11.4"
  },
  "orig_nbformat": 4
 },
 "nbformat": 4,
 "nbformat_minor": 2
}
