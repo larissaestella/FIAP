{
 "cells": [
  {
   "cell_type": "code",
   "execution_count": 1,
   "metadata": {},
   "outputs": [
    {
     "name": "stdout",
     "output_type": "stream",
     "text": [
      "Collecting pandasNote: you may need to restart the kernel to use updated packages.\n",
      "\n",
      "  Downloading pandas-2.2.1-cp311-cp311-win_amd64.whl (11.6 MB)\n",
      "                                              0.0/11.6 MB ? eta -:--:--\n",
      "     -----                                    1.7/11.6 MB 36.3 MB/s eta 0:00:01\n",
      "     ------                                   1.8/11.6 MB 37.8 MB/s eta 0:00:01\n",
      "     ------                                   1.8/11.6 MB 37.8 MB/s eta 0:00:01\n",
      "     ------                                   1.8/11.6 MB 37.8 MB/s eta 0:00:01\n",
      "     ------                                   1.8/11.6 MB 37.8 MB/s eta 0:00:01\n",
      "     ------                                   1.8/11.6 MB 37.8 MB/s eta 0:00:01\n",
      "     ------                                   1.8/11.6 MB 37.8 MB/s eta 0:00:01\n",
      "     ------                                   1.8/11.6 MB 37.8 MB/s eta 0:00:01\n",
      "     ------                                   1.8/11.6 MB 37.8 MB/s eta 0:00:01\n",
      "     ------                                   1.8/11.6 MB 37.8 MB/s eta 0:00:01\n",
      "     ------                                   1.8/11.6 MB 37.8 MB/s eta 0:00:01\n",
      "     ------                                   1.8/11.6 MB 37.8 MB/s eta 0:00:01\n",
      "     ------                                   1.8/11.6 MB 37.8 MB/s eta 0:00:01\n",
      "     ------                                   1.8/11.6 MB 37.8 MB/s eta 0:00:01\n",
      "     ------                                   1.8/11.6 MB 37.8 MB/s eta 0:00:01\n",
      "     --------                                 2.5/11.6 MB 3.3 MB/s eta 0:00:03\n",
      "     ----------                               2.9/11.6 MB 3.7 MB/s eta 0:00:03\n",
      "     -----------                              3.2/11.6 MB 3.9 MB/s eta 0:00:03\n",
      "     -----------                              3.3/11.6 MB 3.8 MB/s eta 0:00:03\n",
      "     -----------                              3.5/11.6 MB 3.8 MB/s eta 0:00:03\n",
      "     ------------                             3.6/11.6 MB 3.8 MB/s eta 0:00:03\n",
      "     ------------                             3.6/11.6 MB 3.8 MB/s eta 0:00:03\n",
      "     ------------                             3.6/11.6 MB 3.8 MB/s eta 0:00:03\n",
      "     ------------                             3.6/11.6 MB 3.8 MB/s eta 0:00:03\n",
      "     ------------                             3.6/11.6 MB 3.8 MB/s eta 0:00:03\n",
      "     ------------                             3.6/11.6 MB 3.8 MB/s eta 0:00:03\n",
      "     ------------                             3.6/11.6 MB 3.8 MB/s eta 0:00:03\n",
      "     ------------                             3.6/11.6 MB 3.8 MB/s eta 0:00:03\n",
      "     ------------                             3.6/11.6 MB 3.8 MB/s eta 0:00:03\n",
      "     ------------                             3.6/11.6 MB 3.8 MB/s eta 0:00:03\n",
      "     ------------                             3.6/11.6 MB 3.8 MB/s eta 0:00:03\n",
      "     ------------                             3.6/11.6 MB 3.8 MB/s eta 0:00:03\n",
      "     ------------                             3.6/11.6 MB 3.8 MB/s eta 0:00:03\n",
      "     ------------                             3.6/11.6 MB 3.8 MB/s eta 0:00:03\n",
      "     ------------                             3.6/11.6 MB 3.8 MB/s eta 0:00:03\n",
      "     ------------                             3.6/11.6 MB 2.2 MB/s eta 0:00:04\n",
      "     ------------                             3.8/11.6 MB 2.2 MB/s eta 0:00:04\n",
      "     -------------                            3.9/11.6 MB 2.2 MB/s eta 0:00:04\n",
      "     -------------                            4.0/11.6 MB 2.2 MB/s eta 0:00:04\n",
      "     --------------                           4.3/11.6 MB 2.3 MB/s eta 0:00:04\n",
      "     ---------------                          4.5/11.6 MB 2.4 MB/s eta 0:00:03\n",
      "     ----------------                         4.9/11.6 MB 2.5 MB/s eta 0:00:03\n",
      "     ------------------                       5.3/11.6 MB 2.6 MB/s eta 0:00:03\n",
      "     ------------------                       5.5/11.6 MB 2.7 MB/s eta 0:00:03\n",
      "     ------------------                       5.5/11.6 MB 2.7 MB/s eta 0:00:03\n",
      "     ------------------                       5.5/11.6 MB 2.7 MB/s eta 0:00:03\n",
      "     ------------------                       5.5/11.6 MB 2.7 MB/s eta 0:00:03\n",
      "     ------------------                       5.5/11.6 MB 2.7 MB/s eta 0:00:03\n",
      "     ------------------                       5.5/11.6 MB 2.4 MB/s eta 0:00:03\n",
      "     -------------------                      5.6/11.6 MB 2.4 MB/s eta 0:00:03\n",
      "     -------------------                      5.8/11.6 MB 2.4 MB/s eta 0:00:03\n",
      "     --------------------                     5.9/11.6 MB 2.5 MB/s eta 0:00:03\n",
      "     --------------------                     6.1/11.6 MB 2.5 MB/s eta 0:00:03\n",
      "     ---------------------                    6.2/11.6 MB 2.5 MB/s eta 0:00:03\n",
      "     ----------------------                   6.4/11.6 MB 2.5 MB/s eta 0:00:03\n",
      "     ----------------------                   6.6/11.6 MB 2.5 MB/s eta 0:00:02\n",
      "     -----------------------                  6.9/11.6 MB 2.6 MB/s eta 0:00:02\n",
      "     ------------------------                 7.1/11.6 MB 2.7 MB/s eta 0:00:02\n",
      "     -------------------------                7.3/11.6 MB 2.7 MB/s eta 0:00:02\n",
      "     -------------------------                7.3/11.6 MB 2.7 MB/s eta 0:00:02\n",
      "     -------------------------                7.3/11.6 MB 2.7 MB/s eta 0:00:02\n",
      "     -------------------------                7.3/11.6 MB 2.7 MB/s eta 0:00:02\n",
      "     -------------------------                7.3/11.6 MB 2.7 MB/s eta 0:00:02\n",
      "     -------------------------                7.4/11.6 MB 2.5 MB/s eta 0:00:02\n",
      "     --------------------------               7.7/11.6 MB 2.5 MB/s eta 0:00:02\n",
      "     ---------------------------              8.0/11.6 MB 2.6 MB/s eta 0:00:02\n",
      "     ----------------------------             8.2/11.6 MB 2.6 MB/s eta 0:00:02\n",
      "     ----------------------------             8.4/11.6 MB 2.7 MB/s eta 0:00:02\n",
      "     -----------------------------            8.6/11.6 MB 2.7 MB/s eta 0:00:02\n",
      "     ------------------------------           8.9/11.6 MB 2.7 MB/s eta 0:00:01\n",
      "     -------------------------------          9.1/11.6 MB 2.8 MB/s eta 0:00:01\n",
      "     -------------------------------          9.1/11.6 MB 2.8 MB/s eta 0:00:01\n",
      "     -------------------------------          9.1/11.6 MB 2.8 MB/s eta 0:00:01\n",
      "     -------------------------------          9.1/11.6 MB 2.8 MB/s eta 0:00:01\n",
      "     -------------------------------          9.1/11.6 MB 2.8 MB/s eta 0:00:01\n",
      "     -------------------------------          9.2/11.6 MB 2.6 MB/s eta 0:00:01\n",
      "     -------------------------------          9.2/11.6 MB 2.6 MB/s eta 0:00:01\n",
      "     -------------------------------          9.2/11.6 MB 2.6 MB/s eta 0:00:01\n",
      "     -------------------------------          9.2/11.6 MB 2.5 MB/s eta 0:00:01\n",
      "     --------------------------------         9.4/11.6 MB 2.5 MB/s eta 0:00:01\n",
      "     ---------------------------------        9.6/11.6 MB 2.5 MB/s eta 0:00:01\n",
      "     ----------------------------------       10.0/11.6 MB 2.6 MB/s eta 0:00:01\n",
      "     -----------------------------------      10.4/11.6 MB 2.7 MB/s eta 0:00:01\n",
      "     ------------------------------------     10.6/11.6 MB 2.6 MB/s eta 0:00:01\n",
      "     -------------------------------------    10.9/11.6 MB 2.6 MB/s eta 0:00:01\n",
      "     -------------------------------------    11.0/11.6 MB 2.6 MB/s eta 0:00:01\n",
      "     -------------------------------------    11.0/11.6 MB 2.6 MB/s eta 0:00:01\n",
      "     -------------------------------------    11.0/11.6 MB 2.6 MB/s eta 0:00:01\n",
      "     -------------------------------------    11.0/11.6 MB 2.6 MB/s eta 0:00:01\n",
      "     -------------------------------------    11.0/11.6 MB 2.6 MB/s eta 0:00:01\n",
      "     --------------------------------------   11.1/11.6 MB 2.4 MB/s eta 0:00:01\n",
      "     ---------------------------------------  11.4/11.6 MB 2.4 MB/s eta 0:00:01\n",
      "     ---------------------------------------  11.6/11.6 MB 2.4 MB/s eta 0:00:01\n",
      "     ---------------------------------------- 11.6/11.6 MB 2.4 MB/s eta 0:00:00\n",
      "Collecting numpy<2,>=1.23.2 (from pandas)\n",
      "  Downloading numpy-1.26.4-cp311-cp311-win_amd64.whl (15.8 MB)\n",
      "                                              0.0/15.8 MB ? eta -:--:--\n",
      "                                              0.3/15.8 MB 5.2 MB/s eta 0:00:03\n",
      "     -                                        0.4/15.8 MB 4.2 MB/s eta 0:00:04\n",
      "     -                                        0.6/15.8 MB 4.4 MB/s eta 0:00:04\n",
      "     --                                       0.9/15.8 MB 4.5 MB/s eta 0:00:04\n",
      "     --                                       1.1/15.8 MB 4.6 MB/s eta 0:00:04\n",
      "     ---                                      1.4/15.8 MB 4.9 MB/s eta 0:00:03\n",
      "     ----                                     1.6/15.8 MB 4.8 MB/s eta 0:00:03\n",
      "     ----                                     1.8/15.8 MB 4.8 MB/s eta 0:00:03\n",
      "     -----                                    2.2/15.8 MB 5.1 MB/s eta 0:00:03\n",
      "     ------                                   2.4/15.8 MB 5.2 MB/s eta 0:00:03\n",
      "     ------                                   2.5/15.8 MB 5.2 MB/s eta 0:00:03\n",
      "     ------                                   2.5/15.8 MB 5.2 MB/s eta 0:00:03\n",
      "     ------                                   2.5/15.8 MB 5.2 MB/s eta 0:00:03\n",
      "     ------                                   2.5/15.8 MB 5.2 MB/s eta 0:00:03\n",
      "     ------                                   2.5/15.8 MB 5.2 MB/s eta 0:00:03\n",
      "     ------                                   2.5/15.8 MB 3.5 MB/s eta 0:00:04\n",
      "     ------                                   2.6/15.8 MB 3.3 MB/s eta 0:00:05\n",
      "     ------                                   2.7/15.8 MB 3.2 MB/s eta 0:00:05\n",
      "     ------                                   2.7/15.8 MB 3.1 MB/s eta 0:00:05\n",
      "     -------                                  2.8/15.8 MB 3.1 MB/s eta 0:00:05\n",
      "     -------                                  3.0/15.8 MB 3.1 MB/s eta 0:00:05\n",
      "     -------                                  3.1/15.8 MB 3.0 MB/s eta 0:00:05\n",
      "     --------                                 3.2/15.8 MB 3.0 MB/s eta 0:00:05\n",
      "     --------                                 3.3/15.8 MB 2.9 MB/s eta 0:00:05\n",
      "     --------                                 3.5/15.8 MB 3.0 MB/s eta 0:00:05\n",
      "     ---------                                3.7/15.8 MB 3.0 MB/s eta 0:00:05\n",
      "     ---------                                3.7/15.8 MB 3.0 MB/s eta 0:00:05\n",
      "     ---------                                3.9/15.8 MB 3.0 MB/s eta 0:00:05\n",
      "     ----------                               4.0/15.8 MB 2.9 MB/s eta 0:00:05\n",
      "     ----------                               4.2/15.8 MB 3.0 MB/s eta 0:00:04\n",
      "     -----------                              4.4/15.8 MB 3.0 MB/s eta 0:00:04\n",
      "     -----------                              4.5/15.8 MB 3.0 MB/s eta 0:00:04\n",
      "     -----------                              4.6/15.8 MB 3.0 MB/s eta 0:00:04\n",
      "     -----------                              4.7/15.8 MB 3.0 MB/s eta 0:00:04\n",
      "     ------------                             4.8/15.8 MB 2.9 MB/s eta 0:00:04\n",
      "     ------------                             4.9/15.8 MB 2.9 MB/s eta 0:00:04\n",
      "     ------------                             5.0/15.8 MB 2.9 MB/s eta 0:00:04\n",
      "     -------------                            5.2/15.8 MB 3.0 MB/s eta 0:00:04\n",
      "     -------------                            5.4/15.8 MB 3.0 MB/s eta 0:00:04\n",
      "     -------------                            5.5/15.8 MB 3.0 MB/s eta 0:00:04\n",
      "     --------------                           5.6/15.8 MB 2.9 MB/s eta 0:00:04\n",
      "     --------------                           5.7/15.8 MB 2.9 MB/s eta 0:00:04\n",
      "     --------------                           5.7/15.8 MB 2.9 MB/s eta 0:00:04\n",
      "     --------------                           5.8/15.8 MB 2.8 MB/s eta 0:00:04\n",
      "     --------------                           5.9/15.8 MB 2.8 MB/s eta 0:00:04\n",
      "     ---------------                          6.1/15.8 MB 2.9 MB/s eta 0:00:04\n",
      "     ----------------                         6.4/15.8 MB 2.9 MB/s eta 0:00:04\n",
      "     ----------------                         6.7/15.8 MB 3.0 MB/s eta 0:00:04\n",
      "     -----------------                        6.9/15.8 MB 3.0 MB/s eta 0:00:03\n",
      "     -----------------                        7.1/15.8 MB 3.0 MB/s eta 0:00:03\n",
      "     ------------------                       7.2/15.8 MB 3.0 MB/s eta 0:00:03\n",
      "     ------------------                       7.4/15.8 MB 3.1 MB/s eta 0:00:03\n",
      "     -------------------                      7.5/15.8 MB 3.0 MB/s eta 0:00:03\n",
      "     -------------------                      7.6/15.8 MB 3.0 MB/s eta 0:00:03\n",
      "     -------------------                      7.9/15.8 MB 3.1 MB/s eta 0:00:03\n",
      "     --------------------                     8.1/15.8 MB 3.1 MB/s eta 0:00:03\n",
      "     ---------------------                    8.4/15.8 MB 3.1 MB/s eta 0:00:03\n",
      "     ---------------------                    8.5/15.8 MB 3.2 MB/s eta 0:00:03\n",
      "     ---------------------                    8.5/15.8 MB 3.2 MB/s eta 0:00:03\n",
      "     ---------------------                    8.5/15.8 MB 3.2 MB/s eta 0:00:03\n",
      "     ---------------------                    8.5/15.8 MB 3.2 MB/s eta 0:00:03\n",
      "     ---------------------                    8.5/15.8 MB 3.2 MB/s eta 0:00:03\n",
      "     ---------------------                    8.5/15.8 MB 3.2 MB/s eta 0:00:03\n",
      "     ---------------------                    8.6/15.8 MB 2.9 MB/s eta 0:00:03\n",
      "     ---------------------                    8.7/15.8 MB 2.9 MB/s eta 0:00:03\n",
      "     ----------------------                   9.0/15.8 MB 2.9 MB/s eta 0:00:03\n",
      "     -----------------------                  9.2/15.8 MB 2.9 MB/s eta 0:00:03\n",
      "     -----------------------                  9.4/15.8 MB 3.0 MB/s eta 0:00:03\n",
      "     ------------------------                 9.7/15.8 MB 3.0 MB/s eta 0:00:03\n",
      "     -------------------------                10.1/15.8 MB 3.1 MB/s eta 0:00:02\n",
      "     --------------------------               10.4/15.8 MB 3.1 MB/s eta 0:00:02\n",
      "     --------------------------               10.4/15.8 MB 3.1 MB/s eta 0:00:02\n",
      "     --------------------------               10.4/15.8 MB 3.1 MB/s eta 0:00:02\n",
      "     --------------------------               10.4/15.8 MB 3.1 MB/s eta 0:00:02\n",
      "     --------------------------               10.4/15.8 MB 3.1 MB/s eta 0:00:02\n",
      "     --------------------------               10.4/15.8 MB 2.9 MB/s eta 0:00:02\n",
      "     --------------------------               10.4/15.8 MB 2.9 MB/s eta 0:00:02\n",
      "     --------------------------               10.6/15.8 MB 2.9 MB/s eta 0:00:02\n",
      "     ---------------------------              10.8/15.8 MB 2.9 MB/s eta 0:00:02\n",
      "     ---------------------------              10.8/15.8 MB 2.8 MB/s eta 0:00:02\n",
      "     ---------------------------              10.9/15.8 MB 2.8 MB/s eta 0:00:02\n",
      "     ---------------------------              11.0/15.8 MB 2.8 MB/s eta 0:00:02\n",
      "     ----------------------------             11.1/15.8 MB 2.8 MB/s eta 0:00:02\n",
      "     ----------------------------             11.2/15.8 MB 2.8 MB/s eta 0:00:02\n",
      "     ----------------------------             11.2/15.8 MB 2.7 MB/s eta 0:00:02\n",
      "     ----------------------------             11.4/15.8 MB 2.7 MB/s eta 0:00:02\n",
      "     -----------------------------            11.5/15.8 MB 2.7 MB/s eta 0:00:02\n",
      "     -----------------------------            11.7/15.8 MB 2.7 MB/s eta 0:00:02\n",
      "     ------------------------------           11.9/15.8 MB 2.7 MB/s eta 0:00:02\n",
      "     -------------------------------          12.3/15.8 MB 2.7 MB/s eta 0:00:02\n",
      "     -------------------------------          12.6/15.8 MB 2.7 MB/s eta 0:00:02\n",
      "     --------------------------------         12.9/15.8 MB 2.9 MB/s eta 0:00:02\n",
      "     ---------------------------------        13.2/15.8 MB 3.0 MB/s eta 0:00:01\n",
      "     ---------------------------------        13.4/15.8 MB 3.1 MB/s eta 0:00:01\n",
      "     ---------------------------------        13.4/15.8 MB 3.1 MB/s eta 0:00:01\n",
      "     ---------------------------------        13.4/15.8 MB 3.1 MB/s eta 0:00:01\n",
      "     ---------------------------------        13.4/15.8 MB 3.1 MB/s eta 0:00:01\n",
      "     ---------------------------------        13.4/15.8 MB 3.1 MB/s eta 0:00:01\n",
      "     ---------------------------------        13.4/15.8 MB 3.1 MB/s eta 0:00:01\n",
      "     ----------------------------------       13.5/15.8 MB 2.9 MB/s eta 0:00:01\n",
      "     ----------------------------------       13.6/15.8 MB 2.9 MB/s eta 0:00:01\n",
      "     ----------------------------------       13.8/15.8 MB 2.9 MB/s eta 0:00:01\n",
      "     -----------------------------------      13.9/15.8 MB 2.9 MB/s eta 0:00:01\n",
      "     -----------------------------------      14.2/15.8 MB 2.9 MB/s eta 0:00:01\n",
      "     ------------------------------------     14.5/15.8 MB 2.9 MB/s eta 0:00:01\n",
      "     -------------------------------------    14.9/15.8 MB 3.0 MB/s eta 0:00:01\n",
      "     --------------------------------------   15.2/15.8 MB 3.1 MB/s eta 0:00:01\n",
      "     --------------------------------------   15.2/15.8 MB 3.1 MB/s eta 0:00:01\n",
      "     --------------------------------------   15.2/15.8 MB 3.1 MB/s eta 0:00:01\n",
      "     --------------------------------------   15.2/15.8 MB 3.1 MB/s eta 0:00:01\n",
      "     --------------------------------------   15.2/15.8 MB 3.1 MB/s eta 0:00:01\n",
      "     --------------------------------------   15.2/15.8 MB 3.1 MB/s eta 0:00:01\n",
      "     --------------------------------------   15.2/15.8 MB 3.1 MB/s eta 0:00:01\n",
      "     --------------------------------------   15.2/15.8 MB 3.1 MB/s eta 0:00:01\n",
      "     --------------------------------------   15.2/15.8 MB 3.1 MB/s eta 0:00:01\n",
      "     --------------------------------------   15.2/15.8 MB 2.8 MB/s eta 0:00:01\n",
      "     --------------------------------------   15.2/15.8 MB 2.8 MB/s eta 0:00:01\n",
      "     --------------------------------------   15.2/15.8 MB 2.7 MB/s eta 0:00:01\n",
      "     ---------------------------------------  15.5/15.8 MB 2.7 MB/s eta 0:00:01\n",
      "     ---------------------------------------  15.7/15.8 MB 2.8 MB/s eta 0:00:01\n",
      "     ---------------------------------------  15.8/15.8 MB 2.8 MB/s eta 0:00:01\n",
      "     ---------------------------------------- 15.8/15.8 MB 2.8 MB/s eta 0:00:00\n",
      "Requirement already satisfied: python-dateutil>=2.8.2 in c:\\python311\\lib\\site-packages (from pandas) (2.8.2)\n",
      "Collecting pytz>=2020.1 (from pandas)\n",
      "  Downloading pytz-2024.1-py2.py3-none-any.whl (505 kB)\n",
      "                                              0.0/505.5 kB ? eta -:--:--\n",
      "     ----------------------                 297.0/505.5 kB 9.2 MB/s eta 0:00:01\n",
      "     -------------------------------------- 505.5/505.5 kB 6.3 MB/s eta 0:00:00\n",
      "Collecting tzdata>=2022.7 (from pandas)\n",
      "  Downloading tzdata-2024.1-py2.py3-none-any.whl (345 kB)\n",
      "                                              0.0/345.4 kB ? eta -:--:--\n",
      "     --------------------                  194.6/345.4 kB 11.5 MB/s eta 0:00:01\n",
      "     -------------------------------------  337.9/345.4 kB 5.3 MB/s eta 0:00:01\n",
      "     -------------------------------------- 345.4/345.4 kB 5.4 MB/s eta 0:00:00\n",
      "Requirement already satisfied: six>=1.5 in c:\\python311\\lib\\site-packages (from python-dateutil>=2.8.2->pandas) (1.16.0)\n",
      "Installing collected packages: pytz, tzdata, numpy, pandas\n",
      "Successfully installed numpy-1.26.4 pandas-2.2.1 pytz-2024.1 tzdata-2024.1\n"
     ]
    },
    {
     "name": "stderr",
     "output_type": "stream",
     "text": [
      "\n",
      "[notice] A new release of pip is available: 23.1.2 -> 24.0\n",
      "[notice] To update, run: python.exe -m pip install --upgrade pip\n"
     ]
    }
   ],
   "source": [
    "pip install pandas"
   ]
  },
  {
   "cell_type": "code",
   "execution_count": 52,
   "metadata": {},
   "outputs": [
    {
     "name": "stdout",
     "output_type": "stream",
     "text": [
      "Requirement already satisfied: numpy in c:\\python311\\lib\\site-packages (1.26.4)\n",
      "Note: you may need to restart the kernel to use updated packages.\n"
     ]
    },
    {
     "name": "stderr",
     "output_type": "stream",
     "text": [
      "\n",
      "[notice] A new release of pip is available: 23.1.2 -> 24.0\n",
      "[notice] To update, run: python.exe -m pip install --upgrade pip\n"
     ]
    }
   ],
   "source": [
    "pip install numpy"
   ]
  },
  {
   "cell_type": "code",
   "execution_count": 53,
   "metadata": {},
   "outputs": [],
   "source": [
    "import pandas as pd\n",
    "import numpy as np"
   ]
  },
  {
   "cell_type": "code",
   "execution_count": 51,
   "metadata": {},
   "outputs": [],
   "source": [
    "# Exemplo 1: Crie uma tupla com 6 cidades do Brasil. \n",
    "# Acesse o 4° elemento desta tupla e substitua uma cidade da sua escolha por outra cidade que não está na lista. \n",
    "# Após isso, crie uma variável chamada cidades_brasil e concatene mais duas cidades (Rio de Janeiro e São Paulo) em apenas uma tupla\n",
    "\n",
    "\n",
    "# cidades = [\"Barueri\", \"Osasco\", \"Jandira\", \"Carapicuiba\", \"Itapevi\", \"São Paulo\"]\n",
    "\n",
    "# lista = list(cidades)\n",
    "# lista.insert[]\n",
    "\n",
    "# cidades[3] = \"Curitiba\"\n",
    "# cidades = tuple(cidades)\n",
    "# cidades_brasil = (\"Osasco\", \"Barueri\")\n",
    "# print(cidades_brasil)\n",
    "\n",
    "# # tupla_cidades = tuple(cidades)\n",
    "\n",
    "# # lista = list(tupla_cidades)\n",
    "# # lista.remove(\"Jandira\")\n",
    "# # lista.insert\n",
    "\n",
    "# # tupla_cidades = tuple(lista)\n",
    "\n"
   ]
  },
  {
   "attachments": {},
   "cell_type": "markdown",
   "metadata": {},
   "source": [
    "# Exemplo 1:"
   ]
  },
  {
   "cell_type": "code",
   "execution_count": 30,
   "metadata": {},
   "outputs": [
    {
     "name": "stdout",
     "output_type": "stream",
     "text": [
      "('Barueri', 'Osasco', 'Jandira', 'Curitiba', 'Itapevi', 'Campinas', 'Rio de Janeiro', 'São Paulo')\n"
     ]
    }
   ],
   "source": [
    "# Exemplo 1: Crie uma tupla com 6 cidades do Brasil. \n",
    "\n",
    "cidades = (\"Barueri\", \"Osasco\", \"Jandira\", \"Carapicuiba\", \"Itapevi\", \"Campinas\")\n",
    "\n",
    "# Acesse o 4° elemento desta tupla e substitua uma cidade da sua escolha por outra cidade que não está na lista. \n",
    "\n",
    "lista = list(cidades)\n",
    "lista[3] = \"Curitiba\"  \n",
    "cidades = tuple(lista)\n",
    "\n",
    "# Após isso, crie uma variável chamada cidades_brasil e concatene mais duas cidades (Rio de Janeiro e São Paulo) em apenas uma tupla\n",
    "\n",
    "cidades_brasil = cidades + (\"Rio de Janeiro\", \"São Paulo\")\n",
    "print(cidades_brasil)\n"
   ]
  },
  {
   "attachments": {},
   "cell_type": "markdown",
   "metadata": {},
   "source": [
    "# Exemplo 2:"
   ]
  },
  {
   "cell_type": "code",
   "execution_count": 32,
   "metadata": {},
   "outputs": [
    {
     "name": "stdout",
     "output_type": "stream",
     "text": [
      "O resultado da função para x é: 273.0\n"
     ]
    }
   ],
   "source": [
    "# Exemplo 2: Crie uma função para calcular a função 10*2 + 5x - 2. Crie uma estrtura de entrada para o usuário inserir o valor de x.\n",
    "\n",
    "x = float(input(\"Insira o valor de x: \"))\n",
    "\n",
    "def calcular_funcao(x):\n",
    "    resultado = 10 * x**2 + 5 * x - 2\n",
    "    return resultado\n",
    "\n",
    "resultado = calcular_funcao(x)\n",
    "print(\"O resultado da função para x é:\", resultado)"
   ]
  },
  {
   "attachments": {},
   "cell_type": "markdown",
   "metadata": {},
   "source": [
    "# Exemplo 3:"
   ]
  },
  {
   "cell_type": "code",
   "execution_count": 41,
   "metadata": {},
   "outputs": [
    {
     "name": "stdout",
     "output_type": "stream",
     "text": [
      "Resultado da primeira equação: 388.0\n",
      "Resultado da segunda equação: 60.0\n",
      "Resultado da terceira equação: 1504.0\n"
     ]
    }
   ],
   "source": [
    "# # Exemplo 3 - Crie uma função na qual retorne o cálculo de três equações, \n",
    "# a primeira uma equação do segundo grau (10x2 + 5x - 2) com input do x pelo usuário. \n",
    "# A segunda equação (F = m x a) com input da massa e da aceleração pelo usuário. \n",
    "# A terceira equação (y**3 + 10*y**2 - 5*y +10. Crie três prints para retornar o cálculo das três equações.\n",
    "\n",
    "def calcular_equacoes():\n",
    "    # Primeira equação\n",
    "    x = float(input(\"Insira o valor de x para a primeira equação do segundo grau: \"))\n",
    "    equacao1 = 10 * x**2 + 5 * x - 2\n",
    "\n",
    "    # Segunda equação\n",
    "    massa = float(input(\"Insira o valor da massa para a segunda equação (F = m * a): \"))\n",
    "    aceleracao = float(input(\"Insira o valor da aceleração para a segunda equação (F = m * a): \"))\n",
    "    equacao2 = massa * aceleracao\n",
    "\n",
    "    # Terceira equação\n",
    "    y = float(input(\"Insira o valor de y para a terceira equação: \"))\n",
    "    equacao3 = y**3 + 10 * y**2 - 5 * y + 10\n",
    "\n",
    "    # Retornando os cálculos das três equações\n",
    "    return equacao1, equacao2, equacao3\n",
    "\n",
    "# Chamando a função e armazenando os resultados\n",
    "resultado_equacoes = calcular_equacoes()\n",
    "\n",
    "print(\"Resultado da primeira equação:\", resultado_equacoes[0])\n",
    "print(\"Resultado da segunda equação:\", resultado_equacoes[1])\n",
    "print(\"Resultado da terceira equação:\", resultado_equacoes[2])"
   ]
  },
  {
   "attachments": {},
   "cell_type": "markdown",
   "metadata": {},
   "source": [
    "# Exemplo 4:"
   ]
  },
  {
   "cell_type": "code",
   "execution_count": 55,
   "metadata": {},
   "outputs": [
    {
     "name": "stdout",
     "output_type": "stream",
     "text": [
      "A fruta que mais vendeu: Morango\n",
      "A fruta que menos vendeu: Melancia\n",
      "A média das vendas: 118.83333333333333\n",
      "A soma das vendas: 713\n"
     ]
    }
   ],
   "source": [
    "# Crie um dataframe contendo vendas de 6 diferentes frutas:\n",
    "# (banana = 100, maça = 150, pera = 120, melancia = 40, morengo = 250, elão = 53).\n",
    "\n",
    "vendas_frutas = {\n",
    "    'Fruta': ['Banana', 'Maçã', 'Pera', 'Melancia', 'Morango', 'Abacaxi'],\n",
    "    'Vendas': [100, 150, 120, 40, 250, 53]\n",
    "}\n",
    "\n",
    "df_vendas = pd.DataFrame(vendas_frutas)\n",
    "df_vendas\n",
    "\n",
    "fruta_mais_vendida = df_vendas[df_vendas['Vendas'] == df_vendas['Vendas'].max()]['Fruta'].iloc[0]\n",
    "fruta_menos_vendida = df_vendas[df_vendas['Vendas'] == df_vendas['Vendas'].min()]['Fruta'].iloc[0]\n",
    "\n",
    "media_vendas = df_vendas['Vendas'].mean()\n",
    "soma_vendas = df_vendas['Vendas'].sum()\n",
    "\n",
    "# resultados\n",
    "print(\"A fruta que mais vendeu:\", fruta_mais_vendida)\n",
    "print(\"A fruta que menos vendeu:\", fruta_menos_vendida)\n",
    "print(\"A média das vendas:\", media_vendas)\n",
    "print(\"A soma das vendas:\", soma_vendas)\n"
   ]
  },
  {
   "cell_type": "code",
   "execution_count": 60,
   "metadata": {},
   "outputs": [
    {
     "name": "stdout",
     "output_type": "stream",
     "text": [
      "A quantidade mínima de vendas é: 832\n",
      "A quantidade máxima de vendas é: 2500\n",
      "A média de vendas é: 1505.3333333333333\n",
      "A soma de vendas é: 9032\n"
     ]
    }
   ],
   "source": [
    "\n",
    "dados = {\n",
    "    'Carros': ['Chevrolet', 'Fiat', 'Honda', 'Audi', 'Mercedez', 'Toyota'],\n",
    "    'Vendas': [2000, 1300, 2500, 900, 832, 1500]\n",
    "}\n",
    "\n",
    "df = pd.DataFrame(dados)\n",
    "df\n",
    "\n",
    "quantidade_minima = df['Vendas'].min()\n",
    "quantidade_maxima = df['Vendas'].max()\n",
    "media = df['Vendas'].mean()\n",
    "soma = df['Vendas'].sum()\n",
    "\n",
    "print(\"A quantidade mínima de vendas é:\", quantidade_minima)\n",
    "print(\"A quantidade máxima de vendas é:\", quantidade_maxima)\n",
    "print(\"A média de vendas é:\", media)\n",
    "print(\"A soma de vendas é:\",soma)"
   ]
  },
  {
   "cell_type": "code",
   "execution_count": 67,
   "metadata": {},
   "outputs": [
    {
     "name": "stdout",
     "output_type": "stream",
     "text": [
      "A temperatura média do mês é:  29.633333333333333\n",
      "O dia mais quente do mês foi: 27\n",
      "Dias em que a temperatura foi superior a 30 graus Celsius:  [2, 10, 11, 12, 13, 14, 15, 16, 26, 27, 28, 29]\n",
      "O número de dias em que a temperatura foi superior à média do mês: 14\n"
     ]
    }
   ],
   "source": [
    "temperatura = (28, 30, 32, 29, 27, 26, 25, 26, 28, 29, 35, 31, 32, 33, 34, 33, 31, 30, 29, 28, 27, 26, 25, 26, 27, 28, 38, 31, 32, 33)\n",
    "\n",
    "# Pandas Series \n",
    "serie_temperatura = pd.Series(temperatura)\n",
    "\n",
    "# a) Qual a temperatura média do mês\n",
    "\n",
    "media_mes = serie_temperatura.mean()\n",
    "print(\"A temperatura média do mês é: \", media_mes)\n",
    "\n",
    "# b) Determine o dia mais quente do mês\n",
    "\n",
    "dia_mais_quente = serie_temperatura.idxmax() + 1\n",
    "print(\"O dia mais quente do mês foi:\", dia_mais_quente)\n",
    "\n",
    "# c) Encontre os dias em que a temperatura foi superior a 30 graus Celsius.\n",
    "\n",
    "temp_superior = serie_temperatura[serie_temperatura > 30].index.tolist()\n",
    "print(\"Dias em que a temperatura foi superior a 30 graus Celsius: \", temp_superior)\n",
    "\n",
    "# d) Calcule o número de dias em que a temperatura foi superior à média do mês\n",
    "\n",
    "superior_media = serie_temperatura[serie_temperatura > media_mes].count()\n",
    "print(\"O número de dias em que a temperatura foi superior à média do mês:\", superior_media)\n"
   ]
  },
  {
   "attachments": {},
   "cell_type": "markdown",
   "metadata": {},
   "source": [
    "# Exemplo 5:"
   ]
  },
  {
   "cell_type": "code",
   "execution_count": null,
   "metadata": {},
   "outputs": [],
   "source": [
    "# Você é responsável por analisar os preços mensais do combustível ao longo \n",
    "# de um ano em diferentes postos de gasolina. \n",
    "# Utilize o numpy array para desenvolver seu código. \n",
    "# Qual o mês o combustivel foi mais barato e mais caro? \n",
    "# Qual a média de preço no ano?\n",
    "\n",
    "# As funções argmax e argmin retornam, respectivamente, \n",
    "# os índices do maior e do menor valor de um array."
   ]
  },
  {
   "cell_type": "code",
   "execution_count": 54,
   "metadata": {},
   "outputs": [
    {
     "name": "stdout",
     "output_type": "stream",
     "text": [
      "O combustível foi mais barato no mês: 3\n",
      "O combustível foi mais caro no mês: 12\n",
      "A média de preço ao longo do ano foi: 3.686666666666666\n"
     ]
    }
   ],
   "source": [
    "dados_combustivel = [\n",
    "    (1, 3.50),\n",
    "    (2, 3.55),\n",
    "    (3, 3.48),\n",
    "    (4, 3.60),\n",
    "    (5, 3.65),\n",
    "    (6, 3.70),\n",
    "    (7, 3.68),\n",
    "    (8, 3.75),\n",
    "    (9, 3.80),\n",
    "    (10, 3.78),\n",
    "    (11, 3.85),\n",
    "    (12, 3.90)\n",
    "]\n",
    "\n",
    "array_combustivel = np.array(dados_combustivel)\n",
    "\n",
    "precos_combustivel = array_combustivel[:, 1]\n",
    "\n",
    "mes_mais_barato = np.argmin(precos_combustivel) + 1 \n",
    "mes_mais_caro = np.argmax(precos_combustivel) + 1 \n",
    "\n",
    "media_preco_anual = np.mean(precos_combustivel)\n",
    "\n",
    "# Imprimindo os resultados\n",
    "print(\"O combustível foi mais barato no mês:\", mes_mais_barato)\n",
    "print(\"O combustível foi mais caro no mês:\", mes_mais_caro)\n",
    "print(\"A média de preço ao longo do ano foi:\", media_preco_anual)"
   ]
  }
 ],
 "metadata": {
  "kernelspec": {
   "display_name": "Python 3",
   "language": "python",
   "name": "python3"
  },
  "language_info": {
   "codemirror_mode": {
    "name": "ipython",
    "version": 3
   },
   "file_extension": ".py",
   "mimetype": "text/x-python",
   "name": "python",
   "nbconvert_exporter": "python",
   "pygments_lexer": "ipython3",
   "version": "3.11.4"
  },
  "orig_nbformat": 4
 },
 "nbformat": 4,
 "nbformat_minor": 2
}
