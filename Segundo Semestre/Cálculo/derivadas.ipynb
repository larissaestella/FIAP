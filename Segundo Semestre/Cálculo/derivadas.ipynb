{
 "cells": [
  {
   "cell_type": "code",
   "execution_count": 2,
   "metadata": {},
   "outputs": [
    {
     "name": "stdout",
     "output_type": "stream",
     "text": [
      "Collecting sympy\n",
      "  Downloading sympy-1.12-py3-none-any.whl (5.7 MB)\n",
      "                                              0.0/5.7 MB ? eta -:--:--\n",
      "     --                                       0.4/5.7 MB 7.4 MB/s eta 0:00:01\n",
      "     ----                                     0.7/5.7 MB 6.9 MB/s eta 0:00:01\n",
      "     ------                                   1.0/5.7 MB 6.8 MB/s eta 0:00:01\n",
      "     --------                                 1.2/5.7 MB 6.5 MB/s eta 0:00:01\n",
      "     -----------                              1.6/5.7 MB 6.9 MB/s eta 0:00:01\n",
      "     --------------                           2.0/5.7 MB 7.2 MB/s eta 0:00:01\n",
      "     ----------------                         2.4/5.7 MB 7.2 MB/s eta 0:00:01\n",
      "     ------------------                       2.6/5.7 MB 6.9 MB/s eta 0:00:01\n",
      "     -------------------                      2.8/5.7 MB 6.6 MB/s eta 0:00:01\n",
      "     ---------------------                    3.1/5.7 MB 6.5 MB/s eta 0:00:01\n",
      "     ---------------------                    3.1/5.7 MB 6.4 MB/s eta 0:00:01\n",
      "     ---------------------                    3.1/5.7 MB 6.4 MB/s eta 0:00:01\n",
      "     ---------------------                    3.1/5.7 MB 6.4 MB/s eta 0:00:01\n",
      "     ---------------------                    3.1/5.7 MB 6.4 MB/s eta 0:00:01\n",
      "     ---------------------                    3.1/5.7 MB 6.4 MB/s eta 0:00:01\n",
      "     ---------------------                    3.1/5.7 MB 6.4 MB/s eta 0:00:01\n",
      "     ---------------------                    3.1/5.7 MB 6.4 MB/s eta 0:00:01\n",
      "     ---------------------                    3.1/5.7 MB 6.4 MB/s eta 0:00:01\n",
      "     ---------------------                    3.1/5.7 MB 6.4 MB/s eta 0:00:01\n",
      "     ---------------------                    3.1/5.7 MB 6.4 MB/s eta 0:00:01\n",
      "     ---------------------                    3.1/5.7 MB 6.4 MB/s eta 0:00:01\n",
      "     ---------------------                    3.1/5.7 MB 6.4 MB/s eta 0:00:01\n",
      "     ---------------------                    3.1/5.7 MB 6.4 MB/s eta 0:00:01\n",
      "     ----------------------                   3.2/5.7 MB 2.8 MB/s eta 0:00:01\n",
      "     -----------------------                  3.4/5.7 MB 2.9 MB/s eta 0:00:01\n",
      "     -------------------------                3.7/5.7 MB 3.0 MB/s eta 0:00:01\n",
      "     --------------------------               3.8/5.7 MB 3.0 MB/s eta 0:00:01\n",
      "     ----------------------------             4.0/5.7 MB 3.1 MB/s eta 0:00:01\n",
      "     ----------------------------             4.1/5.7 MB 3.0 MB/s eta 0:00:01\n",
      "     -----------------------------            4.3/5.7 MB 3.0 MB/s eta 0:00:01\n",
      "     -------------------------------          4.5/5.7 MB 3.1 MB/s eta 0:00:01\n",
      "     ---------------------------------        4.8/5.7 MB 3.2 MB/s eta 0:00:01\n",
      "     ----------------------------------       4.9/5.7 MB 3.2 MB/s eta 0:00:01\n",
      "     ----------------------------------       5.0/5.7 MB 3.2 MB/s eta 0:00:01\n",
      "     ----------------------------------       5.0/5.7 MB 3.2 MB/s eta 0:00:01\n",
      "     ----------------------------------       5.0/5.7 MB 3.2 MB/s eta 0:00:01\n",
      "     ----------------------------------       5.0/5.7 MB 3.2 MB/s eta 0:00:01\n",
      "     ----------------------------------       5.0/5.7 MB 3.2 MB/s eta 0:00:01\n",
      "     ------------------------------------     5.2/5.7 MB 2.8 MB/s eta 0:00:01\n",
      "     --------------------------------------   5.5/5.7 MB 2.9 MB/s eta 0:00:01\n",
      "     ---------------------------------------  5.7/5.7 MB 3.0 MB/s eta 0:00:01\n",
      "     ---------------------------------------  5.7/5.7 MB 3.0 MB/s eta 0:00:01\n",
      "     ---------------------------------------  5.7/5.7 MB 3.0 MB/s eta 0:00:01\n",
      "     ---------------------------------------- 5.7/5.7 MB 2.8 MB/s eta 0:00:00\n",
      "Collecting mpmath>=0.19 (from sympy)\n",
      "  Downloading mpmath-1.3.0-py3-none-any.whl (536 kB)\n",
      "                                              0.0/536.2 kB ? eta -:--:--\n",
      "     ----------                             143.4/536.2 kB 4.3 MB/s eta 0:00:01\n",
      "     ---------------------                  307.2/536.2 kB 3.8 MB/s eta 0:00:01\n",
      "     -------------------------------------  532.5/536.2 kB 4.2 MB/s eta 0:00:01\n",
      "     -------------------------------------- 536.2/536.2 kB 4.2 MB/s eta 0:00:00\n",
      "Installing collected packages: mpmath, sympy\n",
      "Successfully installed mpmath-1.3.0 sympy-1.12\n",
      "Note: you may need to restart the kernel to use updated packages.\n"
     ]
    },
    {
     "name": "stderr",
     "output_type": "stream",
     "text": [
      "\n",
      "[notice] A new release of pip is available: 23.1.2 -> 24.0\n",
      "[notice] To update, run: python.exe -m pip install --upgrade pip\n"
     ]
    }
   ],
   "source": [
    "pip install sympy"
   ]
  },
  {
   "cell_type": "code",
   "execution_count": 3,
   "metadata": {},
   "outputs": [],
   "source": [
    "import sympy as sy\n",
    "x = sy.Symbol(\"x\")"
   ]
  },
  {
   "attachments": {},
   "cell_type": "markdown",
   "metadata": {},
   "source": [
    "# Derivadas"
   ]
  },
  {
   "cell_type": "code",
   "execution_count": 4,
   "metadata": {},
   "outputs": [
    {
     "data": {
      "text/latex": [
       "$\\displaystyle 2 x$"
      ],
      "text/plain": [
       "2*x"
      ]
     },
     "execution_count": 4,
     "metadata": {},
     "output_type": "execute_result"
    }
   ],
   "source": [
    "der1 = sy.diff(x**2, x)  #diff = diferencial\n",
    "der1"
   ]
  },
  {
   "cell_type": "code",
   "execution_count": 6,
   "metadata": {},
   "outputs": [
    {
     "data": {
      "text/latex": [
       "$\\displaystyle 3 x^{2} - \\sin{\\left(x \\right)} - \\cos{\\left(x \\right)}$"
      ],
      "text/plain": [
       "3*x**2 - sin(x) - cos(x)"
      ]
     },
     "execution_count": 6,
     "metadata": {},
     "output_type": "execute_result"
    }
   ],
   "source": [
    "der2 = sy.diff(x**3 + sy.cos(x) - sy.sin(x) - 4, x)\n",
    "der2"
   ]
  },
  {
   "cell_type": "code",
   "execution_count": 8,
   "metadata": {},
   "outputs": [
    {
     "data": {
      "text/latex": [
       "$\\displaystyle e^{x} + \\tan^{2}{\\left(x \\right)} + 1$"
      ],
      "text/plain": [
       "exp(x) + tan(x)**2 + 1"
      ]
     },
     "execution_count": 8,
     "metadata": {},
     "output_type": "execute_result"
    }
   ],
   "source": [
    "der3 = sy.diff(sy.tan(x) + sy.exp(x))  #exp(x)= e^x  sec^2(x)=tan^2(x)\n",
    "der3"
   ]
  },
  {
   "cell_type": "code",
   "execution_count": 10,
   "metadata": {},
   "outputs": [
    {
     "data": {
      "text/latex": [
       "$\\displaystyle x^{2} e^{x} + 2 x e^{x}$"
      ],
      "text/plain": [
       "x**2*exp(x) + 2*x*exp(x)"
      ]
     },
     "execution_count": 10,
     "metadata": {},
     "output_type": "execute_result"
    }
   ],
   "source": [
    "der4 = sy.diff(x**2 * sy.exp(x), x)\n",
    "der4\n",
    "\n",
    "# dy / dx = xe^x(2+x)"
   ]
  },
  {
   "cell_type": "code",
   "execution_count": 11,
   "metadata": {},
   "outputs": [
    {
     "data": {
      "text/latex": [
       "$\\displaystyle \\frac{x^{3} \\sin{\\left(x \\right)}}{\\cos^{2}{\\left(x \\right)}} + \\frac{3 x^{2}}{\\cos{\\left(x \\right)}}$"
      ],
      "text/plain": [
       "x**3*sin(x)/cos(x)**2 + 3*x**2/cos(x)"
      ]
     },
     "execution_count": 11,
     "metadata": {},
     "output_type": "execute_result"
    }
   ],
   "source": [
    "der5 = sy.diff(x**3 / sy.cos(x))\n",
    "der5\n",
    "\n",
    "# dy / dx = 3x².cosx-x³(-senx)/cos²x\n",
    "# = 3x²cosx / cos²x + x³senx/cos²x"
   ]
  }
 ],
 "metadata": {
  "kernelspec": {
   "display_name": "Python 3",
   "language": "python",
   "name": "python3"
  },
  "language_info": {
   "codemirror_mode": {
    "name": "ipython",
    "version": 3
   },
   "file_extension": ".py",
   "mimetype": "text/x-python",
   "name": "python",
   "nbconvert_exporter": "python",
   "pygments_lexer": "ipython3",
   "version": "3.11.4"
  },
  "orig_nbformat": 4
 },
 "nbformat": 4,
 "nbformat_minor": 2
}
